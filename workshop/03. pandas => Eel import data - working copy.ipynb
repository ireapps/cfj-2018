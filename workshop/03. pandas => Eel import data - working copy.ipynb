{
 "cells": [
  {
   "cell_type": "markdown",
   "metadata": {},
   "source": [
    "# Eel imports\n",
    "\n",
    "Now let's take a look at a cut of data on eel product imports. The data come from [a foreign trade database maintained by NOAA](https://www.st.nmfs.noaa.gov/commercial-fisheries/foreign-trade/).\n",
    "\n",
    "The CSV file lives here: `../data/eels.csv`.\n",
    "\n",
    "We'll start by importing pandas and creating a data frame."
   ]
  },
  {
   "cell_type": "code",
   "execution_count": null,
   "metadata": {},
   "outputs": [],
   "source": [
    "# import pandas\n"
   ]
  },
  {
   "cell_type": "code",
   "execution_count": null,
   "metadata": {},
   "outputs": [],
   "source": [
    "# read csv into a data frame\n"
   ]
  },
  {
   "cell_type": "code",
   "execution_count": null,
   "metadata": {},
   "outputs": [],
   "source": [
    "# check it out with head()\n"
   ]
  },
  {
   "cell_type": "markdown",
   "metadata": {},
   "source": [
    "### Check out the values\n",
    "\n",
    "Now let's poke through the values in each column to see what we're working with using a combination of `unique()`, `min()` and `max()`. Questions we're trying to answer here: What years and months are represented? What countries are in the data? Do the numeric data make sense? Are there any obvious errors or typos to handle? Are there any holes in our data (use `info()`)?"
   ]
  },
  {
   "cell_type": "code",
   "execution_count": null,
   "metadata": {},
   "outputs": [],
   "source": [
    "# info()\n"
   ]
  },
  {
   "cell_type": "code",
   "execution_count": null,
   "metadata": {},
   "outputs": [],
   "source": [
    "# unique year\n"
   ]
  },
  {
   "cell_type": "code",
   "execution_count": null,
   "metadata": {},
   "outputs": [],
   "source": [
    "# unique month\n"
   ]
  },
  {
   "cell_type": "code",
   "execution_count": null,
   "metadata": {},
   "outputs": [],
   "source": [
    "# unique countries\n"
   ]
  },
  {
   "cell_type": "code",
   "execution_count": null,
   "metadata": {},
   "outputs": [],
   "source": [
    "# unique products => n.b.,\n",
    "# have to use bracket notation bc \"product\" is a pandas function\n"
   ]
  },
  {
   "cell_type": "markdown",
   "metadata": {},
   "source": [
    "**Question:** What does \"ATC\" stand for? _Always ask, never assume._\n",
    "\n",
    "![atc](../img/eel-q.png \"atc\")"
   ]
  },
  {
   "cell_type": "code",
   "execution_count": null,
   "metadata": {},
   "outputs": [],
   "source": [
    "# max/min for kilos\n"
   ]
  },
  {
   "cell_type": "code",
   "execution_count": null,
   "metadata": {},
   "outputs": [],
   "source": [
    "# max/min for dollars\n"
   ]
  },
  {
   "cell_type": "markdown",
   "metadata": {},
   "source": [
    "### Time-series data: Check for completeness\n",
    "\n",
    "Each row in our data is one month's worth of shipments of a particular eel product from a particular country to the U.S. Which means we might want to do some time-based comparisons, which means we need to check that we're dealing with complete years.\n",
    "\n",
    "So first let's think about what we want to see: For each year that's present in our data, we want a unique list of months for those records. If we were in Excel, we might pivot to group the data by `year` and then throw `month` in the \"columns\" section to see what months are present for each year.\n",
    "\n",
    "We could also do a pivot table in pandas (stay tuned!), but I \n",
    "Here, we're going to do something similar:\n",
    "- Select just the columns we're interested in\n",
    "- Use the pandas `groupby()` method to group the records by year ([see this notebook for reference](../reference/Grouping%20data%20in%20pandas.ipynb))\n",
    "- For each set of grouped data, use the pandas `unique()` method on the month column to see what months are present\n",
    "\n",
    "When we call `groupby()` on a data frame, it returns a collection of items; each item in that collection is a Python tuple with two elements: the _grouping_ value (year, in this case) and a data frame of records that belong to that group (all records where year == that year).\n",
    "\n",
    "For our purposes, that means we can use a _for loop_ to iterate over the results and check each year.\n",
    "\n",
    "👉For more details on _for loops_, [see this notebook](../reference/Python%20data%20types%20and%20basic%20syntax.ipynb#for-loops)."
   ]
  },
  {
   "cell_type": "code",
   "execution_count": null,
   "metadata": {},
   "outputs": [],
   "source": [
    "# select year and month columns\n",
    "\n",
    "# for loop to iterate over yearmonth grouped by 'year' column\n",
    "for yeargroup in yearmonth.groupby('year'):\n",
    "    # print the first [0] item in the grouping\n",
    "    \n",
    "    # in the second [1] item in the grouping (the grouped dataframe)\n",
    "    # print a unique() list of months\n"
   ]
  },
  {
   "cell_type": "markdown",
   "metadata": {},
   "source": [
    "So now we know that we have incomplete data for 2017 -- _news we can use_ as we start our analysis."
   ]
  },
  {
   "cell_type": "markdown",
   "metadata": {},
   "source": [
    "### Come up with a list of questions\n",
    "\n",
    "- In this data, what country ships the most eel products of any type to the U.S.?\n",
    "- Same question but broken out by year.\n",
    "- For each country, what was the percent change in eel shipments of all types from 2010-2016?\n",
    "- What type of product is most popular?"
   ]
  },
  {
   "cell_type": "markdown",
   "metadata": {},
   "source": [
    "### Q: Who ships the most eels to the U.S. (in kilos)?\n",
    "\n",
    "We'll use our good friends `groupby()`, `sum()` and `sort_values()`to find out."
   ]
  },
  {
   "cell_type": "code",
   "execution_count": null,
   "metadata": {},
   "outputs": [],
   "source": [
    "# select country and kilos columns\n",
    "# groupby country column\n",
    "# run sum()\n",
    "# sort values by kilos descending\n"
   ]
  },
  {
   "cell_type": "markdown",
   "metadata": {},
   "source": [
    "### Q: Who ships the most? (Broken out by year)\n",
    "\n",
    "Now we want to create a table where the rows are countries, the columns are years, and the values are sums for that country, that year.\n",
    "\n",
    "If we were doing this in an Excel pivot table, we'd just add \"year\" to the columns section. To do this in pandas, we're ... also going to use a pivot table. (Yes! Pandas has a [pivot table function](https://pandas.pydata.org/pandas-docs/stable/generated/pandas.pivot_table.html).)\n",
    "\n",
    "We are going to hand the `pivot_table()` function five arguments:\n",
    "- The data we're pivoting (`df`)\n",
    "- The type of aggregation to apply to the values -- default is `mean` and we do not want that (`aggfunc='sum'`)\n",
    "- The name of the column whose values we're doing math on (`values='kilos'`)\n",
    "- The name of the column we're grouping on (`index='country'`)\n",
    "- The name of the column whose values will become the columns of our table (`columns='year'`)\n",
    "\n",
    "Then we'll use `sort_values()` to sort the pivot table that results by our most recent year of data."
   ]
  },
  {
   "cell_type": "code",
   "execution_count": null,
   "metadata": {},
   "outputs": [],
   "source": [
    "# run a pivot table on df\n",
    "# aggfunc is sum\n",
    "# values is kilos column\n",
    "# index is country column\n",
    "# columns is year column\n",
    "# save pivot table as new variable\n",
    "\n",
    "# sort that pivot table by 2017 column descending\n"
   ]
  },
  {
   "cell_type": "markdown",
   "metadata": {},
   "source": [
    "### Q: What was the percent change in shipments for each country from 2010-2016?\n",
    "\n",
    "For this question, we'll re-use the pivot table we just made and add a calculated column. First, though, we need to filter the table to include only records where the `2010` and `2016` values are not null, using the [`notnull()` method](https://pandas.pydata.org/pandas-docs/stable/generated/pandas.Series.notnull.html). (Looks like just filtering for \"2010 is not null\" does the trick.)\n",
    "\n",
    "**If you didn't know about `.notnull()` already, how would you Google to find the answer?**"
   ]
  },
  {
   "cell_type": "code",
   "execution_count": null,
   "metadata": {},
   "outputs": [],
   "source": [
    "# filter to get pivoted sums where the 2010 column is notnull()\n"
   ]
  },
  {
   "cell_type": "markdown",
   "metadata": {},
   "source": [
    "Now we can add a column -- `10to16pctchange`. The syntax, and the math -- new value minus old value divided by old value -- are relatively straightforward: \n",
    "\n",
    "`dataframe['new_column'] = (dataframe['new_value'] - dataframe['old_value']) / dataframe['old_value'] * 100`\n",
    "\n",
    "You might get a warning about slices vs. copies. You can ignore that for now."
   ]
  },
  {
   "cell_type": "code",
   "execution_count": null,
   "metadata": {},
   "outputs": [],
   "source": [
    "# create a new column, 10to16pctchange\n",
    "# new value is 2016\n",
    "# old value is 2010\n"
   ]
  },
  {
   "cell_type": "code",
   "execution_count": null,
   "metadata": {},
   "outputs": [],
   "source": [
    "# check it out, sorted by our new column\n"
   ]
  },
  {
   "cell_type": "markdown",
   "metadata": {},
   "source": [
    "### Q: What type of product is most popular (in kilos)?\n",
    "\n",
    "We'll use `groupby()`, `sum()` and `sort_values()` again."
   ]
  },
  {
   "cell_type": "code",
   "execution_count": null,
   "metadata": {},
   "outputs": [],
   "source": [
    "# select product and kilos columns\n",
    "# groupby product column\n",
    "# run sum()\n",
    "# sort values by kilos descending\n"
   ]
  },
  {
   "cell_type": "markdown",
   "metadata": {},
   "source": [
    "### How many kilos of eels were imported from Central and South America?\n",
    "\n",
    "We'll need to filter the data to get just shipments from Central and South American countries; for this, we'll use a filtering method called [`isin()`](https://pandas.pydata.org/pandas-docs/stable/generated/pandas.DataFrame.isin.html).\n",
    "\n",
    "👉 For more details on filtering in pandas, [check out this notebook](../reference/Filtering%20columns%20and%20rows%20in%20pandas.ipynb).\n",
    "\n",
    "First, let's filter our main data frame to get just Central and South American countries. Let's take a look at what countries are present in our data, again:"
   ]
  },
  {
   "cell_type": "code",
   "execution_count": null,
   "metadata": {},
   "outputs": [],
   "source": [
    "# get unique list of country column\n"
   ]
  },
  {
   "cell_type": "markdown",
   "metadata": {},
   "source": [
    "So it looks like we want `PANAMA`, `CHILE` and `COSTA RICA`. The `isin()` method expects a list, so that's what we'll hand it.\n",
    "\n",
    "👉 For more information on lists, [check out this notebook](../reference/Python%20data%20types%20and%20basic%20syntax.ipynb#Lists)."
   ]
  },
  {
   "cell_type": "code",
   "execution_count": null,
   "metadata": {},
   "outputs": [],
   "source": [
    "# make a list of our countries of interest\n",
    "\n",
    "# use isin() to filter for those countries\n"
   ]
  },
  {
   "cell_type": "code",
   "execution_count": null,
   "metadata": {},
   "outputs": [],
   "source": [
    "# check out the results with head()\n"
   ]
  },
  {
   "cell_type": "markdown",
   "metadata": {},
   "source": [
    "Now we can run the `sum()` of the `kilos` column to get our answer:"
   ]
  },
  {
   "cell_type": "code",
   "execution_count": null,
   "metadata": {},
   "outputs": [],
   "source": [
    "# sum of kilos column on our filtered data\n"
   ]
  },
  {
   "cell_type": "markdown",
   "metadata": {},
   "source": [
    "# 📚 GROUP HOMEWORK 📚\n",
    "\n",
    "In your group, answer these questions:\n",
    "- What's the average and median value, in dollars, of a shipment?\n",
    "- Fill in the blank: \"The U.S. imported ${} worth of eels from Europe from 2010 to mid-2017.\" (i.e., across the whole data set we're looking at)"
   ]
  },
  {
   "cell_type": "code",
   "execution_count": null,
   "metadata": {},
   "outputs": [],
   "source": []
  }
 ],
 "metadata": {
  "kernelspec": {
   "display_name": "Python 3",
   "language": "python",
   "name": "python3"
  },
  "language_info": {
   "codemirror_mode": {
    "name": "ipython",
    "version": 3
   },
   "file_extension": ".py",
   "mimetype": "text/x-python",
   "name": "python",
   "nbconvert_exporter": "python",
   "pygments_lexer": "ipython3",
   "version": "3.7.0"
  }
 },
 "nbformat": 4,
 "nbformat_minor": 2
}
