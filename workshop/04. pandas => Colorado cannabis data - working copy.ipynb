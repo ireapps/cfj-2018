{
 "cells": [
  {
   "cell_type": "markdown",
   "metadata": {},
   "source": [
    "# Colorado cannabis data\n",
    "\n",
    "In this notebook, we're going to look at some county-level data on retail and medical cannabis sales in Colorado. [The data are](https://www.colorado.gov/pacific/revenue/colorado-marijuana-sales-reports) updated every month by the Colorado Department of Revenue.\n",
    "\n",
    "The cannabis sales data lives here: `../data/co-cannabis-sales.csv`.\n",
    "\n",
    "A few things to note about this data:\n",
    "\n",
    "- Every row in our data is the sum of one month of sales for one category of cannabis (\"retail\" or \"medical\") for one county\n",
    "- Not every county in Colorado has pot shops\n",
    "- Not every county in Colorado has _retail_ pot shops\n",
    "- To maintain taxpayer privacy, the state releases aggregate sales data only for counties with at least three dispensaries, and then only if none represent more than 80 percent of total sales, according to the Colorado Department of Revenue. Totals for counties that don't meet these criteria are represented in the data as 'NR'\n",
    "- One of the \"counties\" in the data is \"Sum of NR Counties\" -- the weed sales from all of the \"NR\" counties grouped together for that month -- which is how everything totals up like it should\n",
    "\n",
    "We also have a CSV of Colorado county population estimates for 2016: `../data/co-county-pop.csv`. We'll use this to help us answer a question about per-capita sales.\n",
    "\n",
    "Let's load up our data.\n",
    "\n",
    "First, we'll import pandas. Then we'll tell pandas to change the way it displays floating-point numbers (decimals, basically) so that we won't have to look at big numbers in scientific notation later on (gross, no thanks).\n",
    "\n",
    "Then we'll use the `read_csv()` method to create dataframes for each CSV as we need them."
   ]
  },
  {
   "cell_type": "code",
   "execution_count": null,
   "metadata": {},
   "outputs": [],
   "source": [
    "# import pandas\n"
   ]
  },
  {
   "cell_type": "code",
   "execution_count": null,
   "metadata": {},
   "outputs": [],
   "source": [
    "# display floats with thousand-separator commas and no decimal points\n"
   ]
  },
  {
   "cell_type": "code",
   "execution_count": null,
   "metadata": {},
   "outputs": [],
   "source": [
    "# read in data frame from the sales CSV\n"
   ]
  },
  {
   "cell_type": "code",
   "execution_count": null,
   "metadata": {},
   "outputs": [],
   "source": [
    "# use `head()` to check the output\n"
   ]
  },
  {
   "cell_type": "markdown",
   "metadata": {},
   "source": [
    "### Noodling\n",
    "\n",
    "Let's check out the unique values in the columns, run some summary stats, check out samples, etc."
   ]
  },
  {
   "cell_type": "code",
   "execution_count": null,
   "metadata": {},
   "outputs": [],
   "source": [
    "# check sorted() month values\n",
    "# https://docs.python.org/3/howto/sorting.html#sorting-basics\n"
   ]
  },
  {
   "cell_type": "code",
   "execution_count": null,
   "metadata": {},
   "outputs": [],
   "source": [
    "# check year values\n"
   ]
  },
  {
   "cell_type": "code",
   "execution_count": null,
   "metadata": {},
   "outputs": [],
   "source": [
    "# check county values\n"
   ]
  },
  {
   "cell_type": "code",
   "execution_count": null,
   "metadata": {},
   "outputs": [],
   "source": [
    "# check sales type values\n"
   ]
  },
  {
   "cell_type": "code",
   "execution_count": null,
   "metadata": {},
   "outputs": [],
   "source": [
    "# grab a sample\n"
   ]
  },
  {
   "cell_type": "markdown",
   "metadata": {},
   "source": [
    "### Analysis\n",
    "\n",
    "Let's answer some questions:\n",
    "\n",
    "- Total sales for all years?\n",
    "- Totals by year?\n",
    "- Totals by county by year?\n",
    "- Percent difference from 2014-2017, by county?\n",
    "- Top counties in terms of per-capita retail sales for 2017? ([Checking this guy's work, basically](https://www.thecannabist.co/2018/02/09/colorado-marijuana-sales-southern-border/98669/).)"
   ]
  },
  {
   "cell_type": "markdown",
   "metadata": {},
   "source": [
    "#### Total sales, all years\n",
    "\n",
    "This one's pretty simple: Use `sum()`."
   ]
  },
  {
   "cell_type": "code",
   "execution_count": null,
   "metadata": {},
   "outputs": [],
   "source": [
    "# sum the values in the `amount` column\n"
   ]
  },
  {
   "cell_type": "markdown",
   "metadata": {},
   "source": [
    "#### Totals by year\n",
    "\n",
    "For this, we'll select the two columns we're interested in ('year' and 'amount') and then use `groupby()` and `sum()`.\n",
    "\n",
    "👉 For more details on grouping data in pandas, [check out this notebook](../reference/Grouping%20data%20in%20pandas.ipynb)."
   ]
  },
  {
   "cell_type": "code",
   "execution_count": null,
   "metadata": {},
   "outputs": [],
   "source": [
    "# select year, amount and groupby year, sum values\n"
   ]
  },
  {
   "cell_type": "markdown",
   "metadata": {},
   "source": [
    "#### Totals by county and year\n",
    "\n",
    "For this one, we'll need a pivot table. We're going to hand the [`pd.pivot_table()`](https://pandas.pydata.org/pandas-docs/version/0.22/generated/pandas.pivot_table.html) method five arguments:\n",
    "- `df_sales`: The dataframe we're pivoting\n",
    "- `index='county'`: The grouping column that will become the rows in our pivot table\n",
    "- `values='amount'`: The column we're doing math on\n",
    "- `aggfunc='sum'`: What aggregate function to apply to the values -- in this case, we want a sum\n",
    "- `columns='year'`: The second grouping column that will become the columns in our pivot table\n",
    "\n",
    "We'll fill null values with zeroes using the [`fillna()`](https://pandas.pydata.org/pandas-docs/stable/generated/pandas.DataFrame.fillna.html) method. We're also going to save this one to a variable, `by_county_by_year`, because we'll use the pivot table to help us answer our next question."
   ]
  },
  {
   "cell_type": "code",
   "execution_count": null,
   "metadata": {},
   "outputs": [],
   "source": [
    "# make a pivot table\n"
   ]
  },
  {
   "cell_type": "markdown",
   "metadata": {},
   "source": [
    "### Percent difference from 2014-2017, by county\n",
    "\n",
    "Let's build on the pivot table we just made by adding a calculated column.\n",
    "\n",
    "First, though, we need to use [`reset_index()`](https://pandas.pydata.org/pandas-docs/stable/generated/pandas.DataFrame.reset_index.html) to change the data structure from a pivot table with multiple levels into a plain old dataframe. Finally, we'll change the name of the indexed columns from `'year'` to `''`."
   ]
  },
  {
   "cell_type": "code",
   "execution_count": null,
   "metadata": {},
   "outputs": [],
   "source": [
    "# reset index\n",
    "\n",
    "# change the name of the columns group to an empty string\n"
   ]
  },
  {
   "cell_type": "markdown",
   "metadata": {},
   "source": [
    "Now we can calculate the percent change over time. The formula is:\n",
    "\n",
    "```\n",
    "(new value - old value)\n",
    "-----------------------    *   100\n",
    "       old value\n",
    "```"
   ]
  },
  {
   "cell_type": "code",
   "execution_count": null,
   "metadata": {},
   "outputs": [],
   "source": [
    "# new calculated column, `change14-17`\n"
   ]
  },
  {
   "cell_type": "markdown",
   "metadata": {},
   "source": [
    "Then sort descending by our new value, and voilá!"
   ]
  },
  {
   "cell_type": "code",
   "execution_count": null,
   "metadata": {},
   "outputs": [],
   "source": [
    "# sort descending by change column\n"
   ]
  },
  {
   "cell_type": "markdown",
   "metadata": {},
   "source": [
    "### Top counties, per-capita retail sales, 2017\n",
    "\n",
    "To answer this one, we'll first need to join the cannabis sales data to the population data. Let's do that now.\n",
    "\n",
    "👉 For more information on merging data in pandas, [see this notebook](../reference/Merging%20data%20in%20pandas.ipynb).\n",
    "\n",
    "First, read in the population CSV. We're going to use the `dtype` argument to specify that the FIPS code is a string, not a number."
   ]
  },
  {
   "cell_type": "code",
   "execution_count": null,
   "metadata": {},
   "outputs": [],
   "source": [
    "# read in the pop data, specify fips column is a string\n"
   ]
  },
  {
   "cell_type": "code",
   "execution_count": null,
   "metadata": {},
   "outputs": [],
   "source": [
    "# check the output with `head()`\n"
   ]
  },
  {
   "cell_type": "markdown",
   "metadata": {},
   "source": [
    "Now we need to isolate the sales data we're interested in: retail sales from 2017. I like to do this in two steps. First, filter to get retail sales. Then filter to get 2017 sales."
   ]
  },
  {
   "cell_type": "code",
   "execution_count": null,
   "metadata": {},
   "outputs": [],
   "source": [
    "# filter for 'retail' sales\n"
   ]
  },
  {
   "cell_type": "code",
   "execution_count": null,
   "metadata": {},
   "outputs": [],
   "source": [
    "# check the output with `head()`\n"
   ]
  },
  {
   "cell_type": "code",
   "execution_count": null,
   "metadata": {},
   "outputs": [],
   "source": [
    "# filter that for 2017 sales\n"
   ]
  },
  {
   "cell_type": "code",
   "execution_count": null,
   "metadata": {},
   "outputs": [],
   "source": [
    "# check the output with `head()`\n"
   ]
  },
  {
   "cell_type": "markdown",
   "metadata": {},
   "source": [
    "Excellent! Each row in this dataframe is a month's worth of sales, but we want to get the annual total. So we want to select the `county` and `amount` columns, group by `county` and `sum()` the amount:"
   ]
  },
  {
   "cell_type": "code",
   "execution_count": null,
   "metadata": {},
   "outputs": [],
   "source": [
    "# select county and amount, groupby county, run sum()\n"
   ]
  },
  {
   "cell_type": "code",
   "execution_count": null,
   "metadata": {},
   "outputs": [],
   "source": [
    "# check the output with `head()`\n"
   ]
  },
  {
   "cell_type": "markdown",
   "metadata": {},
   "source": [
    "Perf. Now we'll join the two dataframes using the `merge()` function. (Note: Every county is represented in the population data, but not every county is present in the weed sales data.)\n",
    "\n",
    "👉 For more informaton on merging data in pandas, [see this notebook](http://localhost:8888/notebooks/reference/Merging%20data%20in%20pandas.ipynb).\n",
    "\n",
    "We'll hand the `merge()` function 5 arguments:\n",
    "- `retail_17_grouped`: the \"left\" table \n",
    "- `df_pop`: the \"right\" table\n",
    "- `left_on='county'`: The name of the column we're grouping on in the \"left\" table\n",
    "- `right_on='county_name'`: The name of the column we're grouping on in the \"right\" table\n",
    "- `how='left'`: We're doing a left join"
   ]
  },
  {
   "cell_type": "code",
   "execution_count": null,
   "metadata": {},
   "outputs": [],
   "source": [
    "# merge the data\n"
   ]
  },
  {
   "cell_type": "code",
   "execution_count": null,
   "metadata": {},
   "outputs": [],
   "source": [
    "# check the output with `head()`\n"
   ]
  },
  {
   "cell_type": "markdown",
   "metadata": {},
   "source": [
    "Now we can calculate the per-capita sales by dividing the amount into the population:"
   ]
  },
  {
   "cell_type": "code",
   "execution_count": null,
   "metadata": {},
   "outputs": [],
   "source": [
    "# new calculated column, per_capita\n"
   ]
  },
  {
   "cell_type": "code",
   "execution_count": null,
   "metadata": {},
   "outputs": [],
   "source": [
    "# `sort_values()` on per_capita column and check the output with `head()`\n"
   ]
  },
  {
   "cell_type": "markdown",
   "metadata": {},
   "source": [
    "Los Animas! Looks like the dude's numbers check out."
   ]
  },
  {
   "cell_type": "markdown",
   "metadata": {},
   "source": [
    "# 📚 GROUP HOMEWORK 📚\n",
    "\n",
    "In groups, answer this question:\n",
    "- Statewide, which month has the highest average sales?"
   ]
  }
 ],
 "metadata": {
  "kernelspec": {
   "display_name": "Python 3",
   "language": "python",
   "name": "python3"
  },
  "language_info": {
   "codemirror_mode": {
    "name": "ipython",
    "version": 3
   },
   "file_extension": ".py",
   "mimetype": "text/x-python",
   "name": "python",
   "nbconvert_exporter": "python",
   "pygments_lexer": "ipython3",
   "version": "3.7.0"
  }
 },
 "nbformat": 4,
 "nbformat_minor": 2
}
