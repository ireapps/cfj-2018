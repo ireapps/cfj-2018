{
 "cells": [
  {
   "cell_type": "markdown",
   "metadata": {},
   "source": [
    "# MLB opening day salaries\n",
    "\n",
    "Let's start by poking at some MLB opening day salary data from 2017. The file lives here: `../data/mlb.csv`.\n",
    "\n",
    "Let's also open the [pandas documentation](https://pandas.pydata.org/pandas-docs/stable/) in a new browser tab."
   ]
  },
  {
   "cell_type": "markdown",
   "metadata": {},
   "source": [
    "### Import pandas\n",
    "\n",
    "We've already installed `pandas`, an external Python library that we'll use to analyze data. Now we just need to _import_ it so we can use its functionality in our script.\n",
    "\n",
    "👉For more details on installing and importing Python libraries, [see this notebook](../reference/Installing%20and%20importing%20modules%20and%20libraries.ipynb)."
   ]
  },
  {
   "cell_type": "code",
   "execution_count": null,
   "metadata": {},
   "outputs": [],
   "source": [
    "# import pandas\n"
   ]
  },
  {
   "cell_type": "markdown",
   "metadata": {},
   "source": [
    "### Load the CSV\n",
    "\n",
    "Next, we'll load the CSV into a pandas _data frame_, which is sort of like a virtual spreadsheet with rows and columns.\n",
    "\n",
    "We'll take a _string_ -- some text sandwiched between two apostrophes, or two quotation marks -- with the path to our CSV and hand it off to the pandas [`read_csv()`](https://pandas.pydata.org/pandas-docs/stable/generated/pandas.read_csv.html) method.\n",
    "\n",
    "We'll assign the result to a variable called `df`. (The name of the `df` variable is arbitrary -- you could call it `banana` and things would still work, though people reading your notebook would be confused.)\n",
    "\n",
    "👉For more details on _strings_ (and other data types) and _variable assignment_, [see this notebook](../reference/Python%20data%20types%20and%20basic%20syntax.ipynb).\n",
    "\n",
    "👉For more details on loading data into pandas, [see this notebook](../reference/Importing%20data%20into%20pandas.ipynb)."
   ]
  },
  {
   "cell_type": "code",
   "execution_count": null,
   "metadata": {},
   "outputs": [],
   "source": [
    "# read csv into data frame\n"
   ]
  },
  {
   "cell_type": "markdown",
   "metadata": {},
   "source": [
    "### Use `head()` to check out the data\n",
    "\n",
    "Now that the dataframe is loaded with data, let's use the [`head()`](https://pandas.pydata.org/pandas-docs/stable/generated/pandas.DataFrame.head.html) method to see the first five rows of data."
   ]
  },
  {
   "cell_type": "code",
   "execution_count": null,
   "metadata": {},
   "outputs": [],
   "source": [
    "# use head() to check out the data\n"
   ]
  },
  {
   "cell_type": "markdown",
   "metadata": {},
   "source": [
    "### Other ways to check out the dataframe\n",
    "\n",
    "- [`.tail()`](https://pandas.pydata.org/pandas-docs/stable/generated/pandas.DataFrame.tail.html) will get you the _last_ 5 rows of data\n",
    "- `.columns` will list the column names\n",
    "- [`.dtypes`](https://pandas.pydata.org/pandas-docs/stable/generated/pandas.DataFrame.dtypes.html) will list the data types of each column\n",
    "- [`.info()`](https://pandas.pydata.org/pandas-docs/stable/generated/pandas.DataFrame.info.html) will let us know if any columns have null values in them\n",
    "- [`.count()`](https://pandas.pydata.org/pandas-docs/stable/generated/pandas.DataFrame.count.html) will count the records in each column\n",
    "- [`.sample(5)`](https://pandas.pydata.org/pandas-docs/stable/generated/pandas.DataFrame.sample.html) will give you a sample of the data\n",
    "- [`.shape`](http://pandas.pydata.org/pandas-docs/version/0.17.0/generated/pandas.DataFrame.shape.html) will give you `(number of rows, number of columns)`\n",
    "- [`.describe()`](http://pandas.pydata.org/pandas-docs/version/0.17.0/generated/pandas.DataFrame.describe.html) will compute summary stats for the values in each numeric column"
   ]
  },
  {
   "cell_type": "code",
   "execution_count": null,
   "metadata": {},
   "outputs": [],
   "source": [
    "# tail()\n"
   ]
  },
  {
   "cell_type": "code",
   "execution_count": null,
   "metadata": {},
   "outputs": [],
   "source": [
    "# columns\n"
   ]
  },
  {
   "cell_type": "code",
   "execution_count": null,
   "metadata": {},
   "outputs": [],
   "source": [
    "# dtypes\n"
   ]
  },
  {
   "cell_type": "code",
   "execution_count": null,
   "metadata": {},
   "outputs": [],
   "source": [
    "# info()\n"
   ]
  },
  {
   "cell_type": "code",
   "execution_count": null,
   "metadata": {},
   "outputs": [],
   "source": [
    "# count()\n"
   ]
  },
  {
   "cell_type": "code",
   "execution_count": null,
   "metadata": {},
   "outputs": [],
   "source": [
    "# sample(5)\n"
   ]
  },
  {
   "cell_type": "code",
   "execution_count": null,
   "metadata": {},
   "outputs": [],
   "source": [
    "# shape\n"
   ]
  },
  {
   "cell_type": "code",
   "execution_count": null,
   "metadata": {},
   "outputs": [],
   "source": [
    "# describe()\n"
   ]
  },
  {
   "cell_type": "markdown",
   "metadata": {},
   "source": [
    "### Come up with a list of questions\n",
    "\n",
    "Now that we have a general idea of our data, let's come up with a list of questions. For starters:\n",
    "\n",
    "- What's the total, average and median salary for an MLB player?\n",
    "- How many players are on each team?\n",
    "- Which catchers makes the most money?\n",
    "- How many players make the league minimum?\n",
    "- Which teams have the biggest payrolls?\n",
    "\n",
    "Other questions?"
   ]
  },
  {
   "cell_type": "markdown",
   "metadata": {},
   "source": [
    "### Q: What's the total, average and median salary for an MLB player?\n",
    "\n",
    "If we were doing this in Excel, we'd probably scroll to the bottom of the worksheet and enter, in the SALARY column, `=SUM(D2:D868)`, and below that, `=AVERAGE(D2:D868)`, and then below that, `=MEDIAN(D2:D868)`. Here, we're going to select the values in the SALARY column and use a couple of built-in pandas methods to do the same math.\n",
    "\n",
    "In pandas, to select a column of data, you can use dot notation (`df.SALARY`) or bracket notation (`df['SALARY']`). If your column name has spaces, you must use bracket notation."
   ]
  },
  {
   "cell_type": "code",
   "execution_count": null,
   "metadata": {},
   "outputs": [],
   "source": [
    "# sum of salary column\n"
   ]
  },
  {
   "cell_type": "code",
   "execution_count": null,
   "metadata": {},
   "outputs": [],
   "source": [
    "# mean of salary column\n"
   ]
  },
  {
   "cell_type": "code",
   "execution_count": null,
   "metadata": {},
   "outputs": [],
   "source": [
    "# median of salary column\n"
   ]
  },
  {
   "cell_type": "markdown",
   "metadata": {},
   "source": [
    "You can also use the [`agg()`](https://pandas.pydata.org/pandas-docs/stable/generated/pandas.DataFrame.agg.html) method to pass in multiple functions, including ones that you write yourself."
   ]
  },
  {
   "cell_type": "code",
   "execution_count": null,
   "metadata": {},
   "outputs": [],
   "source": [
    "# agg - sum, mean, median\n"
   ]
  },
  {
   "cell_type": "markdown",
   "metadata": {},
   "source": [
    "### Q: How many players are on each team?\n",
    "\n",
    "To answer this question, we're going to use a method called [`value_counts()`](https://pandas.pydata.org/pandas-docs/stable/generated/pandas.Series.value_counts.html) on the TEAM column. The equivalent operation in Excel would involve a pivot table. In SQL, it might be something like:\n",
    "\n",
    "```sql\n",
    "SELECT TEAM, COUNT(*)\n",
    "FROM mlb\n",
    "GROUP BY TEAM\n",
    "ORDER BY 2 DESC\n",
    "```\n",
    "\n",
    "👉 For more details on grouping with `value_counts()`, [see this notebook](../reference/Grouping%20data%20in%20pandas.ipynb#Value-counts)."
   ]
  },
  {
   "cell_type": "code",
   "execution_count": null,
   "metadata": {},
   "outputs": [],
   "source": [
    "# value_counts() of TEAM column\n"
   ]
  },
  {
   "cell_type": "markdown",
   "metadata": {},
   "source": [
    "### Q: Which catchers makes the most money?\n",
    "\n",
    "To answer this question, first we'll _filter_ the dataframe to include only catchers. Then we'll sort the data descending and look at the top 5.\n",
    "\n",
    "👉For more details on filtering data in pandas, [see this notebook](../reference/Filtering%20columns%20and%20rows%20in%20pandas.ipynb).\n",
    "\n",
    "First, we need to figure out how \"catcher\" is represented in our data. Let's use the [`unique()`](https://pandas.pydata.org/pandas-docs/stable/generated/pandas.Series.unique.html) method to get a list of unique values in the `POS` column."
   ]
  },
  {
   "cell_type": "code",
   "execution_count": null,
   "metadata": {},
   "outputs": [],
   "source": [
    "# unique() on POS column\n"
   ]
  },
  {
   "cell_type": "markdown",
   "metadata": {},
   "source": [
    "Looks like we want to target records where the `POS` value is \"C.\"\n",
    "\n",
    "To filter data in a pandas dataframe, we'll put the filtering condition inside square brackets and pass that to the `df[]`. It's a little confusing at first."
   ]
  },
  {
   "cell_type": "code",
   "execution_count": null,
   "metadata": {},
   "outputs": [],
   "source": [
    "# filter for catchers on POS column\n"
   ]
  },
  {
   "cell_type": "markdown",
   "metadata": {},
   "source": [
    "Now we want to sort these records top to bottom. To do that, we'll use the [`sort_values()`](https://pandas.pydata.org/pandas-docs/stable/generated/pandas.DataFrame.sort_values.html) method, which needs the name of the column to sort by ('SALARY'). We want to sort largest to smallest, so we'll also specify that `ascending=False`. Finally, we want to look at the top 10, so we'll tack on `.head(10)` to our method chain."
   ]
  },
  {
   "cell_type": "code",
   "execution_count": null,
   "metadata": {},
   "outputs": [],
   "source": [
    "# sort values by SALARY column descending and take the top 10\n"
   ]
  },
  {
   "cell_type": "markdown",
   "metadata": {},
   "source": [
    "### Q: How many players make the league minimum?\n",
    "\n",
    "First, we'll need to figure out what the [league minimum](https://www.statista.com/statistics/256187/minimum-salary-of-players-in-major-league-baseball/) is.\n",
    "\n",
    "By definition, it's the lowest number in the salary data. We could also reasonably expect that number to occur more frequently than other numbers.\n",
    "\n",
    "So first, let's use the [`min()`](https://pandas.pydata.org/pandas-docs/stable/generated/pandas.DataFrame.min.html) method to see what the lowest salary value is; then we'll use `value_counts()` to check the frequency. (If we wanted to get crazy, we could also get the [`mode()`](https://pandas.pydata.org/pandas-docs/stable/generated/pandas.Series.mode.html) of the SALARY column -- there's always a zillion ways to skin the cat.)"
   ]
  },
  {
   "cell_type": "code",
   "execution_count": null,
   "metadata": {},
   "outputs": [],
   "source": [
    "# min() value of SALARY column\n"
   ]
  },
  {
   "cell_type": "code",
   "execution_count": null,
   "metadata": {},
   "outputs": [],
   "source": [
    "# take the mode() for kicks\n"
   ]
  },
  {
   "cell_type": "code",
   "execution_count": null,
   "metadata": {},
   "outputs": [],
   "source": [
    "# value_counts() on salary to verify + head()\n"
   ]
  },
  {
   "cell_type": "markdown",
   "metadata": {},
   "source": [
    "#### Bonus Q: What percentage of MLB players make the league minimum?\n",
    "\n",
    "First, we can filter to get just the players who make the league minimum. Then we can use the built-in Python function `len()` to get the count. We can also use `len()` to count the records in our main data frame -- `df`, the one will all of the players in it -- and from there the math is straightforward: `(part / whole) * 100`"
   ]
  },
  {
   "cell_type": "code",
   "execution_count": null,
   "metadata": {},
   "outputs": [],
   "source": [
    "# filter to get just league minimum\n"
   ]
  },
  {
   "cell_type": "code",
   "execution_count": null,
   "metadata": {},
   "outputs": [],
   "source": [
    "# calculate the percent who make minimum\n",
    "\n",
    "# and print it\n"
   ]
  },
  {
   "cell_type": "markdown",
   "metadata": {},
   "source": [
    "### Q: Which teams have the biggest payrolls?\n",
    "\n",
    "To answer this question, we're again going to use equivalent of an Excel pivot table. Our steps:\n",
    "\n",
    "1. Select the two columns we're interested in: `[TEAM, SALARY]`\n",
    "2. Use the [`groupby()`](https://pandas.pydata.org/pandas-docs/stable/generated/pandas.DataFrame.groupby.html) method to group the data by team\n",
    "3. Use the [`sum()`](https://pandas.pydata.org/pandas-docs/stable/generated/pandas.core.groupby.GroupBy.sum.html) method to sum salaries by team\n",
    "4. Use the [`sort_values()`](https://pandas.pydata.org/pandas-docs/stable/generated/pandas.DataFrame.sort_values.html) method to sort the results descending\n",
    "\n",
    "_Furthermore_, we're gonna chain these methods together and do it all in one whack. And we can use `\\` at the end of the line to tell Python that we're _not quite done yet_.\n",
    "\n",
    "👉 For more details on grouping data in pandas, [see this notebook](../reference/Grouping%20data%20in%20pandas.ipynb)"
   ]
  },
  {
   "cell_type": "code",
   "execution_count": null,
   "metadata": {},
   "outputs": [],
   "source": [
    "# select TEAM, SALARY\n",
    "# groupby TEAM\n",
    "# sum()\n",
    "# sort values descending on SALARY\n"
   ]
  },
  {
   "cell_type": "code",
   "execution_count": null,
   "metadata": {},
   "outputs": [],
   "source": [
    "# run head() to check top values\n"
   ]
  },
  {
   "cell_type": "markdown",
   "metadata": {},
   "source": [
    "### Reformatting how the salary looks"
   ]
  },
  {
   "cell_type": "markdown",
   "metadata": {},
   "source": [
    "If you'd like to change how the `SALARY` column is being displayed, you can change the [formatting specification](https://docs.python.org/3/library/string.html#format-examples) by handing off a dictionary to our grouped object's [`style.format`](https://pandas.pydata.org/pandas-docs/stable/style.html#Finer-Control:-Display-Values) attribute.\n",
    "\n",
    "👉 For more information on dictionaries, [see this notebook](../reference/Python%20data%20types%20and%20basic%20syntax.ipynb#Dictionaries)\n",
    "\n",
    "👉 For more information on using Python string formatting to display numbers, [see this notebook](../reference/String%20formatting.ipynb#Formatting-numbers)."
   ]
  },
  {
   "cell_type": "code",
   "execution_count": null,
   "metadata": {},
   "outputs": [],
   "source": [
    "# change the formatting of the salary column\n"
   ]
  },
  {
   "cell_type": "markdown",
   "metadata": {},
   "source": [
    "# 📚 GROUP HOMEWORK 📚\n",
    "\n",
    "In your groups, write the code necessary to answer these questions:\n",
    "- How many starting pitchers make the league minimum?\n",
    "- Which teams have designated hitters?\n",
    "- Which Chicago team pays better (Sox or Cubs, you pick the metric for \"better\")?"
   ]
  },
  {
   "cell_type": "code",
   "execution_count": null,
   "metadata": {},
   "outputs": [],
   "source": []
  }
 ],
 "metadata": {
  "kernelspec": {
   "display_name": "Python 3",
   "language": "python",
   "name": "python3"
  },
  "language_info": {
   "codemirror_mode": {
    "name": "ipython",
    "version": 3
   },
   "file_extension": ".py",
   "mimetype": "text/x-python",
   "name": "python",
   "nbconvert_exporter": "python",
   "pygments_lexer": "ipython3",
   "version": "3.7.0"
  }
 },
 "nbformat": 4,
 "nbformat_minor": 2
}
