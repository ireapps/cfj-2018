{
 "cells": [
  {
   "cell_type": "markdown",
   "metadata": {},
   "source": [
    "# Melting Nashville library data\n",
    "\n",
    "One reshaping task that comes up frequently is \"melting\" or \"unpivoting\" data -- turning \"long\" data into something that's tidier and easier to analyze.\n",
    "\n",
    "A good example of data that needs melting is the city of Nashville's [\"Public Library Visits By Branch\"](https://data.nashville.gov/Libraries/Nashville-Public-Library-Visits-by-Branch/3iet-ewuy) database.\n",
    "\n",
    "The header row looks like this: `Month,Year,Bellevue Library,Bordeaux Library,Donelson Library,East Library,Edgehill Library,Edmonson Pike Library,Goodlettsville Library,Green Hills Library,Hadley Park Library,Hermitage Library,Inglewood Library,Looby Library,Madison Library,Main Library,North Library,Old Hickory Library,Pruitt Library,Richland Park Library,Southeast Library,Thompson Lane Library,Watkins Library,Notes\n",
    "`. Each row has multiple observations, one for each branch in the library system.\n",
    "\n",
    "It'd be a lot easier to analyze if the data looked more like this: `Month,Year,Library,Count`. This is sometimes called [\"tidy data,\"](http://vita.had.co.nz/papers/tidy-data.html) where each row represents _one_ observation.\n",
    "\n",
    "To tidy up this untidy data, we're going to use a pandas method called [`melt()`](https://pandas.pydata.org/pandas-docs/stable/generated/pandas.melt.html), which will take each column of library data and \"melt\" it into a new row. We just need to tell it which ones are the \"identifying\" columns (month, year and notes) and which are the \"value\" columns we want to melt. We'll also specify the names of the new columns that are created, but that step is optional.\n",
    "\n",
    "Let's start by importing pandas."
   ]
  },
  {
   "cell_type": "code",
   "execution_count": null,
   "metadata": {},
   "outputs": [],
   "source": [
    "# import pandas\n"
   ]
  },
  {
   "cell_type": "markdown",
   "metadata": {},
   "source": [
    "Next, let's read in the data live from the city's open data portal. (If this fails for some reason, we've got a cached copy at `../data/nashville-library.csv`.)"
   ]
  },
  {
   "cell_type": "code",
   "execution_count": null,
   "metadata": {},
   "outputs": [],
   "source": [
    "# read data into data frame from\n",
    "# https://data.nashville.gov/api/views/3iet-ewuy/rows.csv?accessType=DOWNLOAD\n"
   ]
  },
  {
   "cell_type": "code",
   "execution_count": null,
   "metadata": {},
   "outputs": [],
   "source": [
    "# check the output with head()\n"
   ]
  },
  {
   "cell_type": "markdown",
   "metadata": {},
   "source": [
    "Looking through the `melt()` documentation, it looks like we can hand off a list to the `id_vars` argument -- the columns that we _don't_ want to melt, because we need them as identifiers. We can also hand off a list to the `value_vars` argument -- the columns we want to unpivot.\n",
    "\n",
    "👉 For a refresher on lists, [check out this notebook](../reference/Python%20data%20types%20and%20basic%20syntax.ipynb#Lists).\n",
    "\n",
    "Writing out `Month`, `Year` and `Notes` in a list isn't that big of a deal for the ID columns. For the value columns ... We _could_ take the time to write out the names of all those columns. But that's inefficient! Let's take a look at the column names with the data frame's `columns` attribute:"
   ]
  },
  {
   "cell_type": "code",
   "execution_count": null,
   "metadata": {},
   "outputs": [],
   "source": [
    "# check out columns attribute\n"
   ]
  },
  {
   "cell_type": "markdown",
   "metadata": {},
   "source": [
    "Sure looks iterable. What happens if we try to slice it?"
   ]
  },
  {
   "cell_type": "code",
   "execution_count": null,
   "metadata": {},
   "outputs": [],
   "source": [
    "# get the fourth [3] item out\n"
   ]
  },
  {
   "cell_type": "markdown",
   "metadata": {},
   "source": [
    "Sure enough, we can slice away. So that means our columns of interest start in position three (`[2]`, which is 'Bellevue Library') and go all the way to the second from the end (`[-1]`, 'Watkins Library'). Let's slice those out and save as a new variable:"
   ]
  },
  {
   "cell_type": "code",
   "execution_count": null,
   "metadata": {},
   "outputs": [],
   "source": [
    "# get the library_columns by grabbing everything from 2 to -1\n"
   ]
  },
  {
   "cell_type": "code",
   "execution_count": null,
   "metadata": {},
   "outputs": [],
   "source": [
    "# print library_columns\n"
   ]
  },
  {
   "cell_type": "markdown",
   "metadata": {},
   "source": [
    "Perfect. Now we're ready to melt. We'll pass the `melt()` method five arguments:\n",
    "- `df`, the data frame we're melting\n",
    "- `id_vars=['Month', 'Year', 'Notes']`, the \"identification\" columns\n",
    "- `value_vars=library_columns`, the \"value\" columns we're melting\n",
    "- `var_name='Library'`, the name of our new column that will hold the library name (default is \"variable\" if you don't specify)\n",
    "- `value_name='Visits'`, the name of our new column with the visit counts (default is \"value\" if you don't specify)\n",
    "\n",
    "We'll save the whole thing under a new variable, `melted`."
   ]
  },
  {
   "cell_type": "code",
   "execution_count": null,
   "metadata": {},
   "outputs": [],
   "source": [
    "# mellllllllt it\n"
   ]
  },
  {
   "cell_type": "code",
   "execution_count": null,
   "metadata": {},
   "outputs": [],
   "source": [
    "# check it out with head()\n"
   ]
  },
  {
   "cell_type": "markdown",
   "metadata": {},
   "source": [
    "One thing that remains untidy is the `Notes` field. In the original data, these notes applied to every library in the system that month.\n",
    "\n",
    "Here, for instance, is the data for November 2013 from our original data frame -- see the note at the end about why Old Hickory's number was 0 that month:"
   ]
  },
  {
   "cell_type": "code",
   "execution_count": null,
   "metadata": {},
   "outputs": [],
   "source": [
    "df[(df['Month'] == 11) & (df['Year'] == 2013)]"
   ]
  },
  {
   "cell_type": "markdown",
   "metadata": {},
   "source": [
    "... and here's the same thing in our melted data:"
   ]
  },
  {
   "cell_type": "code",
   "execution_count": null,
   "metadata": {
    "scrolled": true
   },
   "outputs": [],
   "source": [
    "melted[(melted['Month'] == 11) & (melted['Year'] == 2013)]"
   ]
  }
 ],
 "metadata": {
  "kernelspec": {
   "display_name": "Python 3",
   "language": "python",
   "name": "python3"
  },
  "language_info": {
   "codemirror_mode": {
    "name": "ipython",
    "version": 3
   },
   "file_extension": ".py",
   "mimetype": "text/x-python",
   "name": "python",
   "nbconvert_exporter": "python",
   "pygments_lexer": "ipython3",
   "version": "3.7.0"
  }
 },
 "nbformat": 4,
 "nbformat_minor": 2
}
