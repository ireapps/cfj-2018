{
 "cells": [
  {
   "cell_type": "markdown",
   "metadata": {},
   "source": [
    "# Extract data from a PDF\n",
    "\n",
    "The PDF we'll be working with today is [a list of licensed debt collectors in Colorado](https://coag.gov/sites/default/files/contentuploads/cp/ConsumerCreditUnit/InternetReports/carreport_0.pdf).\n",
    "\n",
    "The file lives at `../pdfs/collections.pdf`. The data start on page 2, and the table on each page has headers.\n",
    "\n",
    "We're going to use a really cool tool called [`pdfplumber`](https://github.com/jsvine/pdfplumber) to extract the data.\n",
    "\n",
    "Our steps:\n",
    "1. Import dependencies\n",
    "2. Open the PDF and noodle around\n",
    "3. Create an empty data frame and specify the columns\n",
    "4. Create a function to extract data from a single PDF page and return a data frame\n",
    "5. Loop over the pages and call the function on each page\n",
    "6. Clean up the data a bit\n",
    "7. Do one quick bit of basic analysis in pandas"
   ]
  },
  {
   "cell_type": "markdown",
   "metadata": {},
   "source": [
    "# 1. Import dependencies"
   ]
  },
  {
   "cell_type": "code",
   "execution_count": null,
   "metadata": {},
   "outputs": [],
   "source": [
    "# pdfplumber and pandas\n"
   ]
  },
  {
   "cell_type": "markdown",
   "metadata": {},
   "source": [
    "## 2. Open the PDF and noodle around\n",
    "\n",
    "Using `pdfplumber`'s syntax to open a file, let's see what's on the first page, see if we can extract a table, etc."
   ]
  },
  {
   "cell_type": "code",
   "execution_count": null,
   "metadata": {},
   "outputs": [],
   "source": [
    "# open the pdf with pdfplumber\n",
    "\n",
    "    # print(pdf)\n",
    "\n",
    "    # print(pdf.pages)\n",
    "    \n",
    "    # get test page\n",
    "    \n",
    "    # try to extract the table on the test page\n",
    "\n",
    "    # and print it\n"
   ]
  },
  {
   "cell_type": "markdown",
   "metadata": {},
   "source": [
    "## 3. Create an empty data frame and define the columns\n",
    "\n",
    "We're going to create an empty data frame. By looking at the source PDF, we can also define its column headers."
   ]
  },
  {
   "cell_type": "code",
   "execution_count": null,
   "metadata": {},
   "outputs": [],
   "source": [
    "# columns for our data frame\n",
    "cols = ['bizname', 'license_loc', 'instate_loc', 'mailing_loc',\n",
    "        'license_no', 'lic_date', 'status', 'cr_date', 'action']\n",
    "\n",
    "# create a data frame from those columns\n"
   ]
  },
  {
   "cell_type": "markdown",
   "metadata": {},
   "source": [
    "## 4. Create a function to extract data from a single PDF page\n",
    "\n",
    "This function will be called on every PDF page we hand it. Its job is simple: Take a `pdfplumber.Page` object, extract the table and return the data in a data frame with the same headers as the empty one we just created.\n",
    "\n",
    "👉 For more details on writing your own functions, [see this notebook](../reference/Functions.ipynb)."
   ]
  },
  {
   "cell_type": "code",
   "execution_count": null,
   "metadata": {},
   "outputs": [],
   "source": [
    "# define a new function, page_to_df\n",
    "# takes one argument: page\n",
    "\n",
    "    \n",
    "    # find the table on the page and extract the data\n",
    "\n",
    "    \n",
    "    # grab all rows in the table except for the first one,\n",
    "    # which is the header row\n",
    "\n",
    "    \n",
    "    # return the data as a new data frame\n"
   ]
  },
  {
   "cell_type": "markdown",
   "metadata": {},
   "source": [
    "## 5. Loop over the pages and call the function on each page\n",
    "\n",
    "As we extract the data from each page, we'll append the data frame returned by our function to the empty data frame (`df`) that we created earlier. This code block takes a little while to run."
   ]
  },
  {
   "cell_type": "code",
   "execution_count": null,
   "metadata": {},
   "outputs": [],
   "source": [
    "# open the PDF\n",
    "\n",
    "    \n",
    "    # skip the first page, which doesn't have a data table\n",
    "\n",
    "    \n",
    "    # loop over the pages with data\n",
    "\n",
    "        \n",
    "        # call the extraction function to grab the data from this page\n",
    "\n",
    "        \n",
    "        # append it to our main dataframe, chopping off the index column\n"
   ]
  },
  {
   "cell_type": "markdown",
   "metadata": {},
   "source": [
    "Before we continue, let's take a look at what we've got using the pandas `head()` method."
   ]
  },
  {
   "cell_type": "code",
   "execution_count": null,
   "metadata": {},
   "outputs": [],
   "source": [
    "# check it out with head()\n"
   ]
  },
  {
   "cell_type": "markdown",
   "metadata": {},
   "source": [
    "I notice two things:\n",
    "- `\\n` newline breaks are being interpreted literally as text -- let's globally replace those\n",
    "- The license date is coming in as a string, not a date, and we might be interested in doing some date filtering later -- let's coerce those values to date objects"
   ]
  },
  {
   "cell_type": "markdown",
   "metadata": {},
   "source": [
    "## 6. Clean up the data a bit"
   ]
  },
  {
   "cell_type": "code",
   "execution_count": null,
   "metadata": {},
   "outputs": [],
   "source": [
    "# kill line breaks\n",
    "# do it inplace\n",
    "# specify that you need regular expression support\n",
    "\n",
    "\n",
    "# convert license date column to datetime\n",
    "# coerce errors\n",
    "\n",
    "\n",
    "# \"save\" sorted version (by lic_date column)\n"
   ]
  },
  {
   "cell_type": "code",
   "execution_count": null,
   "metadata": {},
   "outputs": [],
   "source": [
    "# check the output with head()\n"
   ]
  },
  {
   "cell_type": "markdown",
   "metadata": {},
   "source": [
    "## 7. Do some basic analysis\n",
    "\n",
    "Let's get a feel for how many records there are and figure out how many of debt collectors have been subject to some kind of \"action.\"\n",
    "\n",
    "According to the Colorado Attorney General (see page 1 of the PDF), the presence of \"Yes\" in the \"action\" column means that the company has been\n",
    "\n",
    "> subject to legal or administrative action by this office or the licensee entered into a voluntary settlement with this office. If the entry is \"yes,\" the licensee may have been subject to one or more letters of admonition, suspension of the license, a judgment or order against the licensee, or other action, including payments (fines, penalties, consumer refunds, or other monetary payments.) Additionally, \"yes\" may mean that the licensee's records include a voluntary settlement or stipulation with this office. If a licensee has been disciplined, it might still retain its license. Actions and settlements are matters of public record although research, copying, and mailing costs may apply. Contact this office for more information.\n",
    "\n",
    "Let's write _an entire journalism sentence_ using math and some [string formatting](../reference/String%20formatting.ipynb). We're going to report the number of debt collectors who've faced some form of legal or administrative action, and the percentage of the total that represents.\n",
    "\n",
    "Let's do the math up front:"
   ]
  },
  {
   "cell_type": "code",
   "execution_count": null,
   "metadata": {},
   "outputs": [],
   "source": [
    "# how many records are there, total? use len\n",
    "# variable should be called record_count\n",
    "\n",
    "# let's filter to get just the collectors who've had some action taken against them\n",
    "# variable should be called action\n",
    "\n",
    "\n",
    "# how many of those are there?\n",
    "# variable should be called action_count\n",
    "\n",
    "\n",
    "# calculate the percentage of the whole\n",
    "# variable should be called pct_whole\n"
   ]
  },
  {
   "cell_type": "markdown",
   "metadata": {},
   "source": [
    "... and now we can formulate a sentence."
   ]
  },
  {
   "cell_type": "code",
   "execution_count": null,
   "metadata": {},
   "outputs": [],
   "source": [
    "# write out our formatted sentence using an f-string\n",
    "story_sentence = f'Of {record_count:,} licensed debt collectors in Colorado, {action_count:,} ({pct_whole:0.2f}%) have been subject to some form of legal or administrative action, according to an analysis of Colorado Secretary of State data.'\n",
    "\n",
    "print(story_sentence)"
   ]
  },
  {
   "cell_type": "markdown",
   "metadata": {},
   "source": [
    "# 📚 GROUP HOMEWORK 📚\n",
    "\n",
    "In groups, answer these questions:\n",
    "- How many debt collectors had their licenses revoked?\n",
    "- **Bonus**: How many debt collectors were licensed in the past three years? (Hint: Will require using the [`apply()`](../reference/Using%20the%20apply%20method%20in%20pandas.ipynb) method"
   ]
  },
  {
   "cell_type": "code",
   "execution_count": null,
   "metadata": {},
   "outputs": [],
   "source": []
  }
 ],
 "metadata": {
  "kernelspec": {
   "display_name": "Python 3",
   "language": "python",
   "name": "python3"
  },
  "language_info": {
   "codemirror_mode": {
    "name": "ipython",
    "version": 3
   },
   "file_extension": ".py",
   "mimetype": "text/x-python",
   "name": "python",
   "nbconvert_exporter": "python",
   "pygments_lexer": "ipython3",
   "version": "3.7.0"
  }
 },
 "nbformat": 4,
 "nbformat_minor": 2
}
