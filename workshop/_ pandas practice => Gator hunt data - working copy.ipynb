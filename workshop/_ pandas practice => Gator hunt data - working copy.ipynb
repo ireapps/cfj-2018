{
 "cells": [
  {
   "cell_type": "markdown",
   "metadata": {},
   "source": [
    "# Gator hunt\n",
    "\n",
    "The Florida Fish and Wildlife Conservation Commission keeps track of [gators killed by hunters](http://myfwc.com/wildlifehabitats/managed/alligator/harvest/data-export/). A cut of this data lives in `../data/gators.csv`.\n",
    "\n",
    "Let's take a look."
   ]
  },
  {
   "cell_type": "code",
   "execution_count": null,
   "metadata": {},
   "outputs": [],
   "source": [
    "# import pandas\n"
   ]
  },
  {
   "cell_type": "code",
   "execution_count": null,
   "metadata": {},
   "outputs": [],
   "source": [
    "# read in the CSV\n"
   ]
  },
  {
   "cell_type": "code",
   "execution_count": null,
   "metadata": {},
   "outputs": [],
   "source": [
    "# check the output with `head()`\n"
   ]
  },
  {
   "cell_type": "markdown",
   "metadata": {},
   "source": [
    "### Check it out\n",
    "\n",
    "First, let's take a look at our data and examine some of the column values that we might be interested in analyzing. We're already starting to think about the questions we want this data to help us answer."
   ]
  },
  {
   "cell_type": "code",
   "execution_count": null,
   "metadata": {},
   "outputs": [],
   "source": [
    "# get the info()\n"
   ]
  },
  {
   "cell_type": "code",
   "execution_count": null,
   "metadata": {},
   "outputs": [],
   "source": [
    "# use value_counts() --> what's the `year` range?\n"
   ]
  },
  {
   "cell_type": "code",
   "execution_count": null,
   "metadata": {},
   "outputs": [],
   "source": [
    "# let's also peep the unique() carcass size values to get the pattern\n"
   ]
  },
  {
   "cell_type": "markdown",
   "metadata": {},
   "source": [
    "### Come up with a list of questions\n",
    "\n",
    "- What's the longest gator in our data?\n",
    "- Average length by year?\n",
    "- How many gators are killed by month?"
   ]
  },
  {
   "cell_type": "markdown",
   "metadata": {},
   "source": [
    "### Write a function to calculate gator length in inches\n",
    "\n",
    "Right now, the value for the gator's length is a string following this pattern: `{} ft. {} in.`.\n",
    "\n",
    "Let's create a new column to get the gator's length in a constant, numeric value: inches.\n",
    "\n",
    "We're going to write a function to do these steps:\n",
    "- Given a row of data, capture the feet and inch values in the carcass size column -- we can split the string on 'ft.' and clean up each piece from there\n",
    "- Multiply feet by 12\n",
    "- Add that number to the inch value\n",
    "- `return` the result\n",
    "\n",
    "We shall call this function on the data frame using the [`.apply()`](https://pandas.pydata.org/pandas-docs/stable/generated/pandas.DataFrame.apply.html) method.\n",
    "\n",
    "👉 Learn more about functions in [this notebook](../reference/Functions.ipynb).\n",
    "\n",
    "👉 Learn more about using the `apply()` function in [this notebook](../reference/Using%20the%20apply%20method%20in%20pandas.ipynb).\n",
    "\n",
    "👉 Learn more about string methods like `split()` in [this notebook](../reference/Python%20data%20types%20and%20basic%20syntax.ipynb#String-methods)."
   ]
  },
  {
   "cell_type": "code",
   "execution_count": null,
   "metadata": {},
   "outputs": [],
   "source": [
    "# define a function to calculate inches from the length string\n",
    "\n",
    "    '''Given a row of gator data, parse out gator length in inches'''\n",
    "\n",
    "    # get the carcass size string\n",
    "\n",
    "    \n",
    "    # split on 'ft.'\n",
    "\n",
    "    \n",
    "    # grab the first item in the resulting list [0] - the number of feet\n",
    "    # strip whitespace\n",
    "    # coerce to integer\n",
    "\n",
    "    \n",
    "    # get the second item [1] in that list - the number of inches\n",
    "    # replace 'in.' with nothing\n",
    "    # strip whitespace\n",
    "    # coerce to integer\n",
    "\n",
    "    \n",
    "    # return inches plus ft*12\n"
   ]
  },
  {
   "cell_type": "code",
   "execution_count": null,
   "metadata": {},
   "outputs": [],
   "source": [
    "# apply our new formula, specifying axis=1\n",
    "# for row-wise application\n"
   ]
  },
  {
   "cell_type": "code",
   "execution_count": null,
   "metadata": {},
   "outputs": [],
   "source": [
    "# check the output with head()\n"
   ]
  },
  {
   "cell_type": "code",
   "execution_count": null,
   "metadata": {},
   "outputs": [],
   "source": [
    "# sort by length descending on our new column, check it out with head()\n"
   ]
  },
  {
   "cell_type": "markdown",
   "metadata": {},
   "source": [
    "### Count by year\n",
    "\n",
    "Our friend `value_counts()` is _on it_."
   ]
  },
  {
   "cell_type": "code",
   "execution_count": null,
   "metadata": {},
   "outputs": [],
   "source": [
    "# value_counts() on year column\n"
   ]
  },
  {
   "cell_type": "markdown",
   "metadata": {},
   "source": [
    "### Average length by year\n",
    "\n",
    "To get the average length of gators by year, we'll run a [pivot table](https://pandas.pydata.org/pandas-docs/stable/generated/pandas.pivot_table.html).\n",
    "\n",
    "👉 For more details on creating pivot tables, [see this notebook](../reference/Grouping%20data%20in%20pandas.ipynb#pivot_table())."
   ]
  },
  {
   "cell_type": "code",
   "execution_count": null,
   "metadata": {},
   "outputs": [],
   "source": [
    "# get average length harvested by year\n",
    "# pivot table values are inch length column\n",
    "# index is Year\n",
    "# aggfunc is 'mean'\n"
   ]
  },
  {
   "cell_type": "code",
   "execution_count": null,
   "metadata": {},
   "outputs": [],
   "source": []
  },
  {
   "cell_type": "markdown",
   "metadata": {},
   "source": [
    "### Treating dates as dates\n",
    "\n",
    "This data include the date on which the gator was killed, but the date values are being stored as strings. If we want to do some time-based analysis -- comparing the gator hunt by month, or whatever -- we'd want to deal directly with native dates.\n",
    "\n",
    "Noting the format (month-day-year), let's use the [`to_datetime()`](https://pandas.pydata.org/pandas-docs/stable/generated/pandas.to_datetime.html) method to convert the dates into native date objects. We'll tell pandas to use the [correct date specification](http://strftime.org/) and to coerce errors to null values rather than throw a giant exception.\n",
    "\n",
    "👉 For more information on handling dates in pandas, [see this notebook](../reference/Date%20and%20time%20data%20types.ipynb#Working-with-dates-in-pandas)."
   ]
  },
  {
   "cell_type": "code",
   "execution_count": null,
   "metadata": {},
   "outputs": [],
   "source": [
    "# new column, harvest_date_clean\n",
    "# to datetime, pattern is '%m-%d-%Y'\n",
    "# coerce errors\n"
   ]
  },
  {
   "cell_type": "code",
   "execution_count": null,
   "metadata": {},
   "outputs": [],
   "source": [
    "# check the results with head()\n"
   ]
  },
  {
   "cell_type": "markdown",
   "metadata": {},
   "source": [
    "If you want to doublecheck that the data type is correct, you can access the `dtypes` attribute."
   ]
  },
  {
   "cell_type": "code",
   "execution_count": null,
   "metadata": {},
   "outputs": [],
   "source": [
    "# check dtypes\n"
   ]
  },
  {
   "cell_type": "markdown",
   "metadata": {},
   "source": [
    "### Gator hunt by month\n",
    "\n",
    "[According to](http://myfwc.com/media/310257/Alligator-processors.pdf) the Florida Fish and Wildlife Conservation Commission, the gator hunt season is in the fall:\n",
    "\n",
    "![gatorhunt](../img/gatorhunt.png \"gatorhunt\")\n",
    "\n",
    "Let's look at the totals by month:\n",
    "- Create a new column for the month using `apply()` with a [lambda expression](https://docs.python.org/3/tutorial/controlflow.html#lambda-expressions) -- we'll access the `month` attribute of the date\n",
    "- Do value counts by month\n",
    "\n",
    "👉 For more information on using lambda expressions, [see this notebook](../reference/Functions.ipynb#Lambda-expressions)."
   ]
  },
  {
   "cell_type": "code",
   "execution_count": null,
   "metadata": {},
   "outputs": [],
   "source": [
    "# new column, month, extracted from our clean harvest date column\n",
    "# in a lambda expression\n"
   ]
  },
  {
   "cell_type": "code",
   "execution_count": null,
   "metadata": {},
   "outputs": [],
   "source": [
    "# get unique() month values\n"
   ]
  },
  {
   "cell_type": "code",
   "execution_count": null,
   "metadata": {},
   "outputs": [],
   "source": [
    "# value_counts() on month, sort_index()\n"
   ]
  },
  {
   "cell_type": "markdown",
   "metadata": {},
   "source": [
    "What if we wanted to get a count by month _by year_? Pivot tables to the rescue, again.\n",
    "\n",
    "We'll provide the `pivot_table` method with five things:\n",
    "- `df` specifies what data frame we're pivoting\n",
    "- `index='month'` specifies the column we're grouping on\n",
    "- `columns='Year'` specifies the columns value\n",
    "- `aggfunc='count'` tells pandas how to aggregate the data -- we want to count the values\n",
    "- `values='length_in'` specifies the column of data to apply the aggregation to -- we're going to count up every record of a carcass that has a length"
   ]
  },
  {
   "cell_type": "code",
   "execution_count": null,
   "metadata": {},
   "outputs": [],
   "source": [
    "# pivot to get by month by year\n"
   ]
  },
  {
   "cell_type": "code",
   "execution_count": null,
   "metadata": {},
   "outputs": [],
   "source": []
  },
  {
   "cell_type": "markdown",
   "metadata": {},
   "source": [
    "All those `NaN`s mixed in with our numbers gives me the fantods. Let's use the `.fillna()` method to replace those with `0`."
   ]
  },
  {
   "cell_type": "code",
   "execution_count": null,
   "metadata": {},
   "outputs": [],
   "source": [
    "# fillna(0)\n"
   ]
  },
  {
   "cell_type": "code",
   "execution_count": null,
   "metadata": {},
   "outputs": [],
   "source": [
    "# what else?"
   ]
  }
 ],
 "metadata": {
  "kernelspec": {
   "display_name": "Python 3",
   "language": "python",
   "name": "python3"
  },
  "language_info": {
   "codemirror_mode": {
    "name": "ipython",
    "version": 3
   },
   "file_extension": ".py",
   "mimetype": "text/x-python",
   "name": "python",
   "nbconvert_exporter": "python",
   "pygments_lexer": "ipython3",
   "version": "3.7.0"
  }
 },
 "nbformat": 4,
 "nbformat_minor": 2
}
