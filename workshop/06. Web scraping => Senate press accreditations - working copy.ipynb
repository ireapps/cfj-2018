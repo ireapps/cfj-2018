{
 "cells": [
  {
   "cell_type": "markdown",
   "metadata": {},
   "source": [
    "# Web scraping: Senate press accrediations\n",
    "\n",
    "In this notebook, we're going to scrape [a table of journalists in the Senate press gallery](https://www.dailypress.senate.gov/?page_id=67).\n",
    "\n",
    "The data are paginated, but what do we see when we inspect the source? Boom: All of the table rows are there on the page when it loads; some are just hidden from view. This is good news for us -- we don't have to worry about handling pagination or anything, we can just grab that one page.\n",
    "\n",
    "First, let's import our dependencies:"
   ]
  },
  {
   "cell_type": "code",
   "execution_count": null,
   "metadata": {},
   "outputs": [],
   "source": [
    "# csv\n",
    "\n",
    "\n",
    "# requests\n",
    "\n",
    "# BeautifulSoup from bs4\n"
   ]
  },
  {
   "cell_type": "markdown",
   "metadata": {},
   "source": [
    "Now, some variables:\n",
    "- The URL to the web page we're going to scrape\n",
    "- The name of the `.html` file we're going to save the page as\n",
    "- The name of the `.csv` file we're going to write the parsed data into"
   ]
  },
  {
   "cell_type": "code",
   "execution_count": null,
   "metadata": {},
   "outputs": [],
   "source": [
    "URL = 'https://www.dailypress.senate.gov/?page_id=67'\n",
    "SAVED_HTML = 'senate-press-gallery.html'\n",
    "CSV_FILE = 'congress-press.csv'"
   ]
  },
  {
   "cell_type": "markdown",
   "metadata": {},
   "source": [
    "Use `requests` to fetch the page, adding a _dictionary_ of [custom headers](http://docs.python-requests.org/en/master/user/quickstart/#custom-headers) to identify yourself.\n",
    "\n",
    "👉 For more on dictionaries, [see this notebook](../reference/Python%20data%20types%20and%20basic%20syntax.ipynb#Dictionaries)."
   ]
  },
  {
   "cell_type": "code",
   "execution_count": null,
   "metadata": {},
   "outputs": [],
   "source": [
    "# get the HTML\n",
    "# include a dictionary with your name and email\n"
   ]
  },
  {
   "cell_type": "markdown",
   "metadata": {},
   "source": [
    "Open the local HTML file in write (`w`) mode and write in the `text` returned in the request."
   ]
  },
  {
   "cell_type": "code",
   "execution_count": null,
   "metadata": {},
   "outputs": [],
   "source": [
    "# in a with block, open the SAVED_HTML page in write mode\n",
    "# and write in the text returned when you fetched the page\n"
   ]
  },
  {
   "cell_type": "markdown",
   "metadata": {},
   "source": [
    "Now let's open that file in read (`r`) mode and turn the HTML into a `BeautifulSoup` object."
   ]
  },
  {
   "cell_type": "code",
   "execution_count": null,
   "metadata": {},
   "outputs": [],
   "source": [
    "# open the same file in read mode\n",
    "\n",
    "    # read in the contents of the file\n",
    "\n",
    "    \n",
    "    # turn it into soup\n"
   ]
  },
  {
   "cell_type": "markdown",
   "metadata": {},
   "source": [
    "Quick HTML lesson! A `<table>` element typically contains rows, represented by the `<tr>` tag, and each row, in turn, contains one or more \"table data\" cells, represented by the `<td>` tag.\n",
    "\n",
    "So we're going to loop over the rows in the table, and for each row, we're going to extract the bits of data in each `td` cell.\n",
    "\n",
    "👉 For more information on _for loops_, [check out this notebook](../reference/Python%20data%20types%20and%20basic%20syntax.ipynb#for-loops).\n",
    "\n",
    "The table we're after has the class `tablepress`, so that's how we'll target it. To target elements using BeautifulSoup, we'll pass the `find()` method two things:\n",
    "- `table`: The name of the element we're targeting\n",
    "- `{'class': 'tablepress'}`: A dictionary with key/value pairs that describe the element we're targeting\n",
    "\n",
    "The `find()` method returns the first element it encounters that meets the criteria, reading top to bottom. If we thought there might be more than one table of interest, we could use the `find_all()` method, which returns a list."
   ]
  },
  {
   "cell_type": "code",
   "execution_count": null,
   "metadata": {},
   "outputs": [],
   "source": [
    "# find the table with the class 'tablepress'\n"
   ]
  },
  {
   "cell_type": "markdown",
   "metadata": {},
   "source": [
    "Next, let's get a list of the rows in the table. In HTML, table rows are represented by the element `tr`."
   ]
  },
  {
   "cell_type": "code",
   "execution_count": null,
   "metadata": {},
   "outputs": [],
   "source": [
    "# get a list of rows in the table we just found\n"
   ]
  },
  {
   "cell_type": "markdown",
   "metadata": {},
   "source": [
    "Let's see what we've got:"
   ]
  },
  {
   "cell_type": "code",
   "execution_count": null,
   "metadata": {},
   "outputs": [],
   "source": [
    "# rows\n"
   ]
  },
  {
   "cell_type": "markdown",
   "metadata": {},
   "source": [
    "It's a list! Which means we can loop over the rows, using list slicing (`[1:]`) to skip the first (`[0]`) row, which has the headers, and extract the data from the `td` (table data) tags in each row."
   ]
  },
  {
   "cell_type": "code",
   "execution_count": null,
   "metadata": {},
   "outputs": [],
   "source": [
    "# loop over the table rows, skipping the first row\n",
    "\n",
    "    \n",
    "    # find all of the `td` cells in this row\n",
    "\n",
    "    \n",
    "    # first name is in position [0]\n",
    "    # get the `string` attribute and call the `strip()` method on it\n",
    "\n",
    "\n",
    "    # last name is in position [1]\n",
    "\n",
    "\n",
    "    # affiliation is in position [2]\n",
    "\n",
    "    # print out what we've got\n"
   ]
  },
  {
   "cell_type": "markdown",
   "metadata": {},
   "source": [
    "Great! Now, instead of printing, we'll write the results out to file.\n",
    "\n",
    "👉 For more information on reading and writing delimited files, [see this notebook](../reference/Reading%20and%20writing%20delimited%20data%20files%20with%20vanilla%20Python.ipynb)."
   ]
  },
  {
   "cell_type": "code",
   "execution_count": null,
   "metadata": {},
   "outputs": [],
   "source": [
    "# open the file to write to\n",
    "# specify write mode, newline=''\n",
    "\n",
    "\n",
    "    # create a DictWriter object and specify the fieldnames\n",
    "\n",
    "    \n",
    "    # write header row\n",
    "\n",
    "\n",
    "    # loop over table rows, skipping first row\n",
    "\n",
    "        \n",
    "        # get a list of `td` tags in this row\n",
    "\n",
    "        \n",
    "        # first name is in position [0]        \n",
    "\n",
    "        \n",
    "        # last name is in position [1]\n",
    "\n",
    "        \n",
    "        # affiliation is in position [2]\n",
    "\n",
    "\n",
    "        # write out dictionary to file\n"
   ]
  },
  {
   "cell_type": "markdown",
   "metadata": {},
   "source": [
    "# 📚 GROUP HOMEWORK 📚\n",
    "\n",
    "In groups: Print a list of numbers from the calendar on the right-hand rail.\n",
    "\n",
    "**Bonus** (will require some Googling): Print a list of _links_ in the calendar on the right-hand rail. (Hint: links are `a` tags, the URL is stored in the `href` attribute.)"
   ]
  },
  {
   "cell_type": "code",
   "execution_count": null,
   "metadata": {},
   "outputs": [],
   "source": []
  }
 ],
 "metadata": {
  "kernelspec": {
   "display_name": "Python 3",
   "language": "python",
   "name": "python3"
  },
  "language_info": {
   "codemirror_mode": {
    "name": "ipython",
    "version": 3
   },
   "file_extension": ".py",
   "mimetype": "text/x-python",
   "name": "python",
   "nbconvert_exporter": "python",
   "pygments_lexer": "ipython3",
   "version": "3.7.0"
  }
 },
 "nbformat": 4,
 "nbformat_minor": 2
}
