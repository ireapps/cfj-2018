{
 "cells": [
  {
   "cell_type": "markdown",
   "metadata": {},
   "source": [
    "# Hockey fights\n",
    "\n",
    "David Singer, the gentleman who runs [hockeyfights dot com](http://www.hockeyfights.com/), was kind enough to provide us with a cut of the data powering his website for us to use in training sessions. Thanks, David!\n",
    "\n",
    "This data lives here: `../data/hockey-fights.xlsx`. Every row in the data is one fight.\n",
    "\n",
    "Let's take a look, eh?\n",
    "\n",
    "First, we'll import pandas, then we'll use the `read_excel()` method to load the data into a dataframe. (Note: To use this functionality, we'll also need the `xlrd` library, which luckily we've installed already.)"
   ]
  },
  {
   "cell_type": "code",
   "execution_count": null,
   "metadata": {},
   "outputs": [],
   "source": [
    "# import pandas\n"
   ]
  },
  {
   "cell_type": "code",
   "execution_count": null,
   "metadata": {},
   "outputs": [],
   "source": [
    "# read excel sheet into a data frame, specify sheet_name is 'fights'\n"
   ]
  },
  {
   "cell_type": "code",
   "execution_count": null,
   "metadata": {},
   "outputs": [],
   "source": [
    "# check it out with head()\n"
   ]
  },
  {
   "cell_type": "markdown",
   "metadata": {},
   "source": [
    "### Check out the data"
   ]
  },
  {
   "cell_type": "code",
   "execution_count": null,
   "metadata": {},
   "outputs": [],
   "source": [
    "# info()\n"
   ]
  },
  {
   "cell_type": "code",
   "execution_count": null,
   "metadata": {},
   "outputs": [],
   "source": [
    "# min date\n"
   ]
  },
  {
   "cell_type": "code",
   "execution_count": null,
   "metadata": {},
   "outputs": [],
   "source": [
    "# max date\n"
   ]
  },
  {
   "cell_type": "code",
   "execution_count": null,
   "metadata": {},
   "outputs": [],
   "source": [
    "# unique list of away teams\n"
   ]
  },
  {
   "cell_type": "code",
   "execution_count": null,
   "metadata": {},
   "outputs": [],
   "source": [
    "# unique list of home teams\n"
   ]
  },
  {
   "cell_type": "code",
   "execution_count": null,
   "metadata": {},
   "outputs": [],
   "source": [
    "# etc ..."
   ]
  },
  {
   "cell_type": "markdown",
   "metadata": {},
   "source": [
    "### Come up with a list of questions\n",
    "\n",
    "- Which player was involved in the most fights?\n",
    "- Average number of fights per game?\n",
    "- What was the longest fight?\n",
    "\n",
    "... what else?"
   ]
  },
  {
   "cell_type": "markdown",
   "metadata": {},
   "source": [
    "### Q: Which player was involved in the most fights?\n",
    "\n",
    "This one will be a little tricky because of how the data is structured -- a player could be fighting either as the home or away player, so there's not an obvious column to group or pivot on. There are a couple of strategies we could use to answer this question, but here's what we're going to do:\n",
    "\n",
    "- Use the [`concat()`](https://pandas.pydata.org/pandas-docs/stable/generated/pandas.concat.html) method to stack the column values in each player ID column into one Series (we're using player ID instead of name to avoid the \"John Smith\" problem (or, I guess, \"Graham MacKenzie\"))\n",
    "- Use `value_counts()` to get a count\n",
    "- Grab the player ID with the most fights by getting the first ([0]) element in the `index` list for the Series returned by `value_counts()`\n",
    "- Go back to the original data frame and filter for that ID, then use [`iloc`](https://pandas.pydata.org/pandas-docs/version/0.17.0/generated/pandas.DataFrame.iloc.html) to get a single fight record with the player's name, team, etc."
   ]
  },
  {
   "cell_type": "code",
   "execution_count": null,
   "metadata": {},
   "outputs": [],
   "source": [
    "# use concat to stack the home and away player IDs\n"
   ]
  },
  {
   "cell_type": "code",
   "execution_count": null,
   "metadata": {},
   "outputs": [],
   "source": [
    "# use value_counts() to get a frequency count, then grab the top (first) one\n"
   ]
  },
  {
   "cell_type": "code",
   "execution_count": null,
   "metadata": {},
   "outputs": [],
   "source": [
    "# filter the main data frame for fights involving that player\n",
    "# arbitrarily, i have chosen to filter on the away_player_id column\n",
    "# and grab the first record with iloc\n",
    "\n",
    "\n",
    "# get the away player's name from this fight\n",
    "\n",
    "\n",
    "# and his team name\n",
    "\n",
    "\n",
    "# and print them\n"
   ]
  },
  {
   "cell_type": "markdown",
   "metadata": {},
   "source": [
    "### Q: Average number of fights per game?\n",
    "\n",
    "This one will be pretty easy. We need two numbers: The total number of fights -- which is the same as asking how many records are in our original data frame -- and the total number of games, which will just involve counting the unique number of games in our data.\n",
    "\n",
    "To get the number of records in our data frame, we shall use the `shape` attribute, which returns a [tuple](https://www.tutorialspoint.com/python/python_tuples.htm) with two things: the number of rows (the first thing) and the number of columns (the second thing). You can access items in a tuple [just like you'd access items in a list](../reference/Python%20data%20types%20and%20basic%20syntax.ipynb#Lists): With square brackets `[]` and the index number of the thing you're trying to get.\n",
    "\n",
    "To get the number of unique games, we're going to use the [`nunique()`](https://pandas.pydata.org/pandas-docs/stable/generated/pandas.Series.nunique.html) method to get the number of unique game IDs. (How did I know about the `nunique()` method? I didn't until I Googled \"pandas count unique values series.\")"
   ]
  },
  {
   "cell_type": "code",
   "execution_count": null,
   "metadata": {},
   "outputs": [],
   "source": [
    "# check the shape\n"
   ]
  },
  {
   "cell_type": "code",
   "execution_count": null,
   "metadata": {},
   "outputs": [],
   "source": [
    "# num_fights is the first item in that tuple\n",
    "# alternatively, you could do len(df)\n"
   ]
  },
  {
   "cell_type": "code",
   "execution_count": null,
   "metadata": {},
   "outputs": [],
   "source": [
    "# num_games is the number of unique values in the game_id column\n"
   ]
  },
  {
   "cell_type": "code",
   "execution_count": null,
   "metadata": {},
   "outputs": [],
   "source": [
    "# avg_fights_per_game is fights divided into games\n",
    "\n",
    "# print the result\n"
   ]
  },
  {
   "cell_type": "markdown",
   "metadata": {},
   "source": [
    "### Q: What was the longest fight?\n",
    "\n",
    "We have fight duration as a mixture of minutes and seconds, so we first need to convert to seconds ((minutes * 60) + seconds). We'll create a new column, `fight_duration`, for this."
   ]
  },
  {
   "cell_type": "code",
   "execution_count": null,
   "metadata": {},
   "outputs": [],
   "source": [
    "# create a new column, fight_duration, that takes fight minutes, times 60, plus fight seconds\n"
   ]
  },
  {
   "cell_type": "markdown",
   "metadata": {},
   "source": [
    "Now it's just a matter of sorting our data frame top to bottom by that new column, with `sort_values()`, and using [`.iloc[0]`](https://pandas.pydata.org/pandas-docs/stable/generated/pandas.DataFrame.iloc.html) to grab the first record."
   ]
  },
  {
   "cell_type": "code",
   "execution_count": null,
   "metadata": {},
   "outputs": [],
   "source": [
    "# sort values descending by fight_duration descending\n",
    "# and grab the first record with iloc[0]\n"
   ]
  },
  {
   "cell_type": "markdown",
   "metadata": {},
   "source": [
    "A 20-minute fight! Wow! But, if you [check the video](https://www.youtube.com/watch?v=1ocGtekdf8o), this one appears to be a data entry issue."
   ]
  },
  {
   "cell_type": "markdown",
   "metadata": {},
   "source": [
    "# 📚 GROUP HOMEWORK 📚\n",
    "\n",
    "Using your pandas-fu, answer these questions in your group:\n",
    "- What was the most common period for a fight to happen?\n",
    "- What was the median and average length of fights?"
   ]
  },
  {
   "cell_type": "code",
   "execution_count": null,
   "metadata": {},
   "outputs": [],
   "source": []
  }
 ],
 "metadata": {
  "kernelspec": {
   "display_name": "Python 3",
   "language": "python",
   "name": "python3"
  },
  "language_info": {
   "codemirror_mode": {
    "name": "ipython",
    "version": 3
   },
   "file_extension": ".py",
   "mimetype": "text/x-python",
   "name": "python",
   "nbconvert_exporter": "python",
   "pygments_lexer": "ipython3",
   "version": "3.7.0"
  }
 },
 "nbformat": 4,
 "nbformat_minor": 2
}
