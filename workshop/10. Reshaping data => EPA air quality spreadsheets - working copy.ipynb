{
 "cells": [
  {
   "cell_type": "markdown",
   "metadata": {},
   "source": [
    "# Reshaping data: EPA air quality spreadsheets\n",
    "\n",
    "One of my favorite tasks for Python is reshaping data -- taking data that's spread across dozens or hundreds of identically formatted worksheets or even separate spreadsheets, say, and pulling it all into a nice, clean CSV. Or taking a jankily formatted data set and tidying it up. Pandas has a number of tools and strategies for reshaping data [that you can read about here](https://pandas.pydata.org/pandas-docs/stable/reshaping.html).\n",
    "\n",
    "In this notebook, we're going to do something a little more bespoke. We've got a spreadsheet of EPA air quality data for core-based statistical areas in Ohio ([thanks, Becca!](https://twitter.com/_becca_king_)). The spreadsheet has a few dozen worksheets, one for each year.\n",
    "\n",
    "Our mission: Turn it into a single CSV with nice, flat data, and the year appended to each row.\n",
    "\n",
    "So right now, the headers on each sheet look like this:\n",
    "\n",
    "`CBSA Code\tCBSA\tCO 2nd Max 1-hr\tCO 2nd Max 8-hr\tNO2 98th Percentile 1-hr\tNO2 Mean 1-hr\tOzone 2nd Max 1-hr\tOzone 4th Max 8-hr\tSO2 99th Percentile 1-hr\tSO2 2nd Max 24-hr\tSO2 Mean 1-hr\tPM2.5 98th Percentile 24-hr\tPM2.5 Weighted Mean 24-hr\tPM10 2nd Max 24-hr\tPM10 Mean 24-hr\tLead Max 3-Mo Avg`\n",
    "\n",
    "In our CSV, the headers will be the same but with a `year` column added.\n",
    "\n",
    "There is a way to do this whole thing in pandas, I'm pretty sure, but I like [`openpyxl`](https://openpyxl.readthedocs.io/) for this task, so that's what we'll use.\n",
    "\n",
    "First, let's import our dependencies, `pandas` and the `load_workbook` method from the `openpyxl` package."
   ]
  },
  {
   "cell_type": "code",
   "execution_count": null,
   "metadata": {},
   "outputs": [],
   "source": [
    "# import pandas\n",
    "\n",
    "# import load_workbook from openpyxl\n"
   ]
  },
  {
   "cell_type": "markdown",
   "metadata": {},
   "source": [
    "Next, load the spreadsheet up. (You might get a warning here, which is fine, [we can ignore it](https://bitbucket.org/openpyxl/openpyxl/issues/537/userwarning-unknown-extension-is-not).)"
   ]
  },
  {
   "cell_type": "code",
   "execution_count": null,
   "metadata": {},
   "outputs": [],
   "source": [
    "# load the epa workbook\n"
   ]
  },
  {
   "cell_type": "markdown",
   "metadata": {},
   "source": [
    "### Noodle around\n",
    "\n",
    "With `openpyxl`, you can get a list of worksheet names using the attribute `sheetnames`:"
   ]
  },
  {
   "cell_type": "code",
   "execution_count": null,
   "metadata": {},
   "outputs": [],
   "source": [
    "# check out the .sheetnames attribute\n"
   ]
  },
  {
   "cell_type": "markdown",
   "metadata": {},
   "source": [
    "... and you can access the data inside a worksheet by passing the name of the worksheet to your workbook variable inside square brackets, just like you would access a value in a dictionary.\n",
    "\n",
    "Let's check out the first worksheet:"
   ]
  },
  {
   "cell_type": "code",
   "execution_count": null,
   "metadata": {},
   "outputs": [],
   "source": [
    "# get the name of the first [0] sheet\n",
    "\n",
    "# grab the first sheet\n",
    "\n",
    "# this is the same as if we'd hardcoded it: wb['conreport1980.csv']"
   ]
  },
  {
   "cell_type": "markdown",
   "metadata": {},
   "source": [
    "The `values` attribute of a sheet returns the actual data in that worksheet. It returns what's called a `generator object`; we don't need to worry about what the means right now. Just know that you can use the [`list()`](https://docs.python.org/3/library/functions.html#func-list) function to turn it into a list."
   ]
  },
  {
   "cell_type": "code",
   "execution_count": null,
   "metadata": {},
   "outputs": [],
   "source": [
    "# get the .values attribute of that sheet\n"
   ]
  },
  {
   "cell_type": "code",
   "execution_count": null,
   "metadata": {},
   "outputs": [],
   "source": [
    "# same, but turn that generator object into a list\n"
   ]
  },
  {
   "cell_type": "markdown",
   "metadata": {},
   "source": [
    "Each item in the list represents a row's worth of data. It's stored in a data structure called a [tuple](https://docs.python.org/3/tutorial/datastructures.html#tuples-and-sequences). You can't add things to a tuple, though, and we need to add the year, so we're going to use `list()` again to convert each row of values into a list.\n",
    "\n",
    "Where are we going to get the year from, though? _From the sheet name, exactly._ Let's test it out on our `first_sheet` variable."
   ]
  },
  {
   "cell_type": "code",
   "execution_count": null,
   "metadata": {},
   "outputs": [],
   "source": [
    "# print name of first sheet\n"
   ]
  },
  {
   "cell_type": "markdown",
   "metadata": {},
   "source": [
    "OK, so we need to get the four numbers directly to the left of the period. As in most things Python, there are a dozen ways we could go about this ([regular expressions](https://docs.python.org/3/library/re.html), anyone? Anyone? OK fine). I like to use splitting and list slicing. First, let's get the bit before the period:"
   ]
  },
  {
   "cell_type": "code",
   "execution_count": null,
   "metadata": {},
   "outputs": [],
   "source": [
    "# see what it looks like splitting the sheet name on a period\n"
   ]
  },
  {
   "cell_type": "markdown",
   "metadata": {},
   "source": [
    "`split()` returns a list, and we want the first (`[0]`) item in that list:"
   ]
  },
  {
   "cell_type": "code",
   "execution_count": null,
   "metadata": {},
   "outputs": [],
   "source": [
    "# look at the first [0] item in that list\n"
   ]
  },
  {
   "cell_type": "markdown",
   "metadata": {},
   "source": [
    "Then we just need to grab the _last four_ characters from that string.\n",
    "\n",
    "Remember: You can [slice](../reference/Python%20data%20types%20and%20basic%20syntax.ipynb#Lists) strings just like you would a list, and negative indexing is allowed. To get the last four characters in a string, then, you'd say: `[-4:]`. In other words, starting from the fourth character from the end of the string, take everything until the end of the string."
   ]
  },
  {
   "cell_type": "code",
   "execution_count": null,
   "metadata": {},
   "outputs": [],
   "source": [
    "# split on period\n",
    "# get the first [0] item in the list that gets returned\n",
    "# get the last four [-4:] characters from that string\n"
   ]
  },
  {
   "cell_type": "markdown",
   "metadata": {},
   "source": [
    "Cool. Now let's grab a list of headers for our CSV and append a `'Year'` value. We'll grab the headers from the first sheet and then, as we cruise through each sheet, check to make sure that the headers in _that_ worksheet match the headers we've extracted.\n",
    "\n",
    "This one is a little tangled, but let's work inside out to parse it out."
   ]
  },
  {
   "cell_type": "code",
   "execution_count": null,
   "metadata": {},
   "outputs": [],
   "source": [
    "# get the values from the first worksheet and turn 'em into a list\n",
    "\n",
    "\n",
    "# get the first [0] item in the list -- the headers -- and\n",
    "# turn the tuple into a list\n",
    "\n",
    "\n",
    "# append the fieldname 'Year' to our list of headers\n"
   ]
  },
  {
   "cell_type": "markdown",
   "metadata": {},
   "source": [
    "### Write an extraction function\n",
    "\n",
    "We're going to write a function that will take the name of a worksheet, extract the data and return it as a list of dictionaries.\n",
    "\n",
    "We're also going to see a few new built-in functions:\n",
    "- [`assert()`](https://docs.python.org/3/reference/simple_stmts.html#the-assert-statement) for making sure that the headers on each sheet match\n",
    "- [`zip()`](https://docs.python.org/3/library/functions.html#zip) for marrying up each piece of data in a row to its correct field name\n",
    "- [`dict()`](https://docs.python.org/3/library/functions.html#func-dict) for turning our zipped object into a dictionary\n",
    "\n",
    "👉 For more details on writing your own functions, [see this notebook](../reference/Functions.ipynb)."
   ]
  },
  {
   "cell_type": "code",
   "execution_count": null,
   "metadata": {},
   "outputs": [],
   "source": [
    "# define a function that accepts a worksheet name\n",
    "\n",
    "    \n",
    "    # \"open\" the worksheet and turn the values into a list\n",
    "\n",
    "    \n",
    "    # grab the year from the worksheet name\n",
    "    # the int() call is just another check that a number is returned\n",
    "\n",
    "    \n",
    "    # the column names are the first item in the data list\n",
    "    # and we turn the tuple into a list\n",
    "\n",
    "    \n",
    "    # ... and append the 'Year' fieldname\n",
    "\n",
    "    \n",
    "    # using our friend `assert()`,\n",
    "    # check that the column names for this worksheet match the\n",
    "    # headers we defined above\n",
    "\n",
    "    \n",
    "    # create an empty list to hold the output data\n",
    "\n",
    "    \n",
    "    # loop over the data, skipping the header row\n",
    "\n",
    "        \n",
    "        # turn the tuple of row data into a list\n",
    "\n",
    "        \n",
    "        # append the year\n",
    "\n",
    "        \n",
    "        # append a correctly formatted dictionary to the list\n",
    "        # use `zip` to match headers and row data and `dict`\n",
    "        # to turn the whole thing into a dictionary \n",
    "\n",
    "\n",
    "\n",
    "    # return the list of data\n"
   ]
  },
  {
   "cell_type": "markdown",
   "metadata": {},
   "source": [
    "Next, we'll create an empty dataframe to hold our data."
   ]
  },
  {
   "cell_type": "code",
   "execution_count": null,
   "metadata": {},
   "outputs": [],
   "source": [
    "# create an empty data frame with the columns defined above\n",
    "\n",
    "# check the results with head()\n"
   ]
  },
  {
   "cell_type": "markdown",
   "metadata": {},
   "source": [
    "Finally, we'll loop over the sheet names in the spreadsheet, call the extraction function on each sheet and append the data to our empty datafraame."
   ]
  },
  {
   "cell_type": "code",
   "execution_count": null,
   "metadata": {},
   "outputs": [],
   "source": [
    "# loop over sheet names\n",
    "\n",
    "    \n",
    "    # use our extraction function to get the data\n",
    "\n",
    "    \n",
    "    # append the data to our dataframe\n"
   ]
  },
  {
   "cell_type": "code",
   "execution_count": null,
   "metadata": {},
   "outputs": [],
   "source": [
    "# check the results with head()\n"
   ]
  },
  {
   "cell_type": "markdown",
   "metadata": {},
   "source": [
    "One last bit of cleanup: Periods mean \"no observation\" or \"no data.\" That's fine, I guess, but it would make more sense to have those values represented as nulls. Let's fix that.\n",
    "\n",
    "We'll import numpy, a Python package for scientific computing that pandas is built on, and use its `nan` value."
   ]
  },
  {
   "cell_type": "code",
   "execution_count": null,
   "metadata": {},
   "outputs": [],
   "source": [
    "# import numpy as np\n",
    "\n",
    "# replace periods with np.nan in our data frame\n"
   ]
  },
  {
   "cell_type": "code",
   "execution_count": null,
   "metadata": {},
   "outputs": [],
   "source": [
    "# check the results with head()\n"
   ]
  },
  {
   "cell_type": "markdown",
   "metadata": {},
   "source": [
    "_Now_ we're ready to export to a CSV using the [`to_csv()`](https://pandas.pydata.org/pandas-docs/stable/generated/pandas.DataFrame.to_csv.html) method."
   ]
  },
  {
   "cell_type": "code",
   "execution_count": null,
   "metadata": {},
   "outputs": [],
   "source": [
    "# export to csv 'parsed-ohio-air-quality-data.csv'\n"
   ]
  }
 ],
 "metadata": {
  "kernelspec": {
   "display_name": "Python 3",
   "language": "python",
   "name": "python3"
  },
  "language_info": {
   "codemirror_mode": {
    "name": "ipython",
    "version": 3
   },
   "file_extension": ".py",
   "mimetype": "text/x-python",
   "name": "python",
   "nbconvert_exporter": "python",
   "pygments_lexer": "ipython3",
   "version": "3.7.0"
  }
 },
 "nbformat": 4,
 "nbformat_minor": 2
}
