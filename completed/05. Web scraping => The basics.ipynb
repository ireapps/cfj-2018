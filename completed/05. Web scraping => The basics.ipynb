{
 "cells": [
  {
   "cell_type": "markdown",
   "metadata": {},
   "source": [
    "# Web scraping 101\n",
    "\n",
    "Web scraping is the process of fetching and parsing unstructured or semistructured data from the web, adding structure and (often) saving to a local file for later use.\n",
    "\n",
    "Scraping is all about finding the patterns in the information displayed on the page.\n",
    "\n",
    "### A few best practices\n",
    "\n",
    "- Scraping can be brittle and error-prone -- it should be your last resort\n",
    "    - Ask for the data first\n",
    "    - If the page is grabbing and parsing a data file to build the page, intercept it! (ABI: **A**lways **B**e **I**nspectin' (the network traffic)) [Here's an example](http://results.enr.clarityelections.com/NE/Sarpy/64652/184054/en/summary.html).\n",
    "- Don't DDOS your target page -- pause between multiple HTTP requests\n",
    "- Especially as you're fiddling with your script, save a cached version of each page you're scraping and work with those\n",
    "- Include contact info in your headers\n",
    "\n",
    "### Python modules we'll be using\n",
    "- [requests](http://docs.python-requests.org/en/master/) for HTTP requests (fetching a page's contents)\n",
    "- [BeautifulSoup](https://www.crummy.com/software/BeautifulSoup/bs4/doc/) for parsing the page's contents into something that Python can work with\n",
    "- [csv](https://docs.python.org/3/library/csv.html) for writing the data to a file\n",
    "- [time](https://docs.python.org/3/library/time.html) for pausing between requests"
   ]
  },
  {
   "cell_type": "markdown",
   "metadata": {},
   "source": [
    "### HTML: How web pages are made\n",
    "\n",
    "To scrape a web page, you need to _sort of_ understand how a web page is built.\n",
    "\n",
    "Web pages are text files, basically, written in something called HTML (Hypertext Markup Language). HTML elements are represented (usually) by a pair of tags -- an opening tag and a closing tag.\n",
    "\n",
    "A table, for example, starts with &lt;table> and ends with &lt;/table>. The first tag tells the browser: \"Hey! I got a table here! Render it as a table.\" The closing tag (note the forward slash!) tells the browser: \"Hey! I'm all done with that table, thanks.\" Inside the table are nested more HTML tags representing rows (&lt;tr>) and cells (&lt;td>).\n",
    "\n",
    "There's a lot more to it, but that's probably good for now."
   ]
  },
  {
   "cell_type": "markdown",
   "metadata": {},
   "source": [
    "### Inspect the source!\n",
    "\n",
    "If I'm thinking about scraping a page, the first thing I do is look at the HTML code that makes up the page. You can do this right from your browser -- I like to use Chrome but Firefox has some good developer tools, as well. (Maybe IE does too, who knows lol)\n",
    "\n",
    "To \"view source\" in Chrome, you'd hit Ctrl+U on a PC and Cmd+Opt+U on a Mac. It's also in the menu bar: View -> Developer -> View Page Source.\n",
    "\n",
    "You'll get a page showing you all the HTML code that makes up that page. Locate the element(s) that you want to target and note the structure.\n",
    "\n",
    "You can also inspect specific elements on the page by right clicking and selecting \"Inspect\" or \"Inspect Element\" from the context menu that pops up.\n",
    "\n",
    "Let's inspect the source on the [Texas death row offender page](https://www.tdcj.state.tx.us/death_row/dr_offenders_on_dr.html).\n",
    "\n",
    "- View source\n",
    "- Ctrl+F to search for the table with the information we want.\n",
    "- Is it the only table on the page?\n",
    "- Take note of the table's attributes."
   ]
  },
  {
   "cell_type": "markdown",
   "metadata": {},
   "source": [
    "### Exercise on your own\n",
    "Inspect the source of this page of [certified lead burn instructors in Texas](https://www.texasagriculture.gov/Portals/0/Reports/PIR/certified_lead_burn_instructors.html). Find the table of instructors. Is it the only table on the page? Take note of your target table's attributes."
   ]
  }
 ],
 "metadata": {
  "kernelspec": {
   "display_name": "Python 3",
   "language": "python",
   "name": "python3"
  },
  "language_info": {
   "codemirror_mode": {
    "name": "ipython",
    "version": 3
   },
   "file_extension": ".py",
   "mimetype": "text/x-python",
   "name": "python",
   "nbconvert_exporter": "python",
   "pygments_lexer": "ipython3",
   "version": "3.7.0"
  }
 },
 "nbformat": 4,
 "nbformat_minor": 2
}
