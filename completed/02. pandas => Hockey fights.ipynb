{
 "cells": [
  {
   "cell_type": "markdown",
   "metadata": {},
   "source": [
    "# Hockey fights\n",
    "\n",
    "David Singer, the gentleman who runs [hockeyfights dot com](http://www.hockeyfights.com/), was kind enough to provide us with a cut of the data powering his website for us to use in training sessions. Thanks, David!\n",
    "\n",
    "This data lives here: `../data/hockey-fights.xlsx`. Every row in the data is one fight.\n",
    "\n",
    "Let's take a look, eh?\n",
    "\n",
    "First, we'll import pandas, then we'll use the `read_excel()` method to load the data into a dataframe. (Note: To use this functionality, we'll also need the `xlrd` library, which luckily we've installed already.)"
   ]
  },
  {
   "cell_type": "code",
   "execution_count": 10,
   "metadata": {},
   "outputs": [],
   "source": [
    "import pandas as pd"
   ]
  },
  {
   "cell_type": "code",
   "execution_count": 11,
   "metadata": {},
   "outputs": [],
   "source": [
    "df = pd.read_excel('../data/hockey-fights.xlsx', sheet_name='fights')"
   ]
  },
  {
   "cell_type": "code",
   "execution_count": 12,
   "metadata": {},
   "outputs": [
    {
     "data": {
      "text/html": [
       "<div>\n",
       "<style scoped>\n",
       "    .dataframe tbody tr th:only-of-type {\n",
       "        vertical-align: middle;\n",
       "    }\n",
       "\n",
       "    .dataframe tbody tr th {\n",
       "        vertical-align: top;\n",
       "    }\n",
       "\n",
       "    .dataframe thead th {\n",
       "        text-align: right;\n",
       "    }\n",
       "</style>\n",
       "<table border=\"1\" class=\"dataframe\">\n",
       "  <thead>\n",
       "    <tr style=\"text-align: right;\">\n",
       "      <th></th>\n",
       "      <th>fight_id</th>\n",
       "      <th>date</th>\n",
       "      <th>game_id</th>\n",
       "      <th>away_team_id</th>\n",
       "      <th>away_team_name</th>\n",
       "      <th>home_team_id</th>\n",
       "      <th>home_team_name</th>\n",
       "      <th>away_player_id</th>\n",
       "      <th>away_player_name</th>\n",
       "      <th>away_player_got_fm</th>\n",
       "      <th>home_player_id</th>\n",
       "      <th>home_player_name</th>\n",
       "      <th>home_player_got_fm</th>\n",
       "      <th>fight_period</th>\n",
       "      <th>fight_minutes</th>\n",
       "      <th>fight_seconds</th>\n",
       "      <th>fight_votes_away_win</th>\n",
       "      <th>fight_votes_home_win</th>\n",
       "      <th>fight_votes_draw</th>\n",
       "    </tr>\n",
       "  </thead>\n",
       "  <tbody>\n",
       "    <tr>\n",
       "      <th>0</th>\n",
       "      <td>111386</td>\n",
       "      <td>2012-04-07</td>\n",
       "      <td>137330</td>\n",
       "      <td>26</td>\n",
       "      <td>St. Louis Blues</td>\n",
       "      <td>10</td>\n",
       "      <td>Dallas Stars</td>\n",
       "      <td>587</td>\n",
       "      <td>Barret Jackman</td>\n",
       "      <td>True</td>\n",
       "      <td>13274</td>\n",
       "      <td>Ryan Garbutt</td>\n",
       "      <td>True</td>\n",
       "      <td>2</td>\n",
       "      <td>5</td>\n",
       "      <td>34</td>\n",
       "      <td>37</td>\n",
       "      <td>4</td>\n",
       "      <td>1</td>\n",
       "    </tr>\n",
       "    <tr>\n",
       "      <th>1</th>\n",
       "      <td>111389</td>\n",
       "      <td>2012-04-07</td>\n",
       "      <td>137327</td>\n",
       "      <td>19</td>\n",
       "      <td>New York Islanders</td>\n",
       "      <td>9</td>\n",
       "      <td>Columbus Blue Jackets</td>\n",
       "      <td>4999</td>\n",
       "      <td>Matt Martin</td>\n",
       "      <td>True</td>\n",
       "      <td>1833</td>\n",
       "      <td>Derek Dorsett</td>\n",
       "      <td>True</td>\n",
       "      <td>2</td>\n",
       "      <td>12</td>\n",
       "      <td>1</td>\n",
       "      <td>13</td>\n",
       "      <td>2</td>\n",
       "      <td>35</td>\n",
       "    </tr>\n",
       "    <tr>\n",
       "      <th>2</th>\n",
       "      <td>111388</td>\n",
       "      <td>2012-04-07</td>\n",
       "      <td>137327</td>\n",
       "      <td>19</td>\n",
       "      <td>New York Islanders</td>\n",
       "      <td>9</td>\n",
       "      <td>Columbus Blue Jackets</td>\n",
       "      <td>1743</td>\n",
       "      <td>Micheal Haley</td>\n",
       "      <td>True</td>\n",
       "      <td>2705</td>\n",
       "      <td>Jared Boll</td>\n",
       "      <td>True</td>\n",
       "      <td>2</td>\n",
       "      <td>9</td>\n",
       "      <td>46</td>\n",
       "      <td>3</td>\n",
       "      <td>46</td>\n",
       "      <td>8</td>\n",
       "    </tr>\n",
       "    <tr>\n",
       "      <th>3</th>\n",
       "      <td>111387</td>\n",
       "      <td>2012-04-07</td>\n",
       "      <td>137327</td>\n",
       "      <td>19</td>\n",
       "      <td>New York Islanders</td>\n",
       "      <td>9</td>\n",
       "      <td>Columbus Blue Jackets</td>\n",
       "      <td>4999</td>\n",
       "      <td>Matt Martin</td>\n",
       "      <td>True</td>\n",
       "      <td>1833</td>\n",
       "      <td>Derek Dorsett</td>\n",
       "      <td>True</td>\n",
       "      <td>1</td>\n",
       "      <td>5</td>\n",
       "      <td>2</td>\n",
       "      <td>16</td>\n",
       "      <td>2</td>\n",
       "      <td>21</td>\n",
       "    </tr>\n",
       "    <tr>\n",
       "      <th>4</th>\n",
       "      <td>111384</td>\n",
       "      <td>2012-04-07</td>\n",
       "      <td>137321</td>\n",
       "      <td>22</td>\n",
       "      <td>Philadelphia Flyers</td>\n",
       "      <td>24</td>\n",
       "      <td>Pittsburgh Penguins</td>\n",
       "      <td>16507</td>\n",
       "      <td>Harry Zolnierczyk</td>\n",
       "      <td>True</td>\n",
       "      <td>6702</td>\n",
       "      <td>Joe Vitale</td>\n",
       "      <td>True</td>\n",
       "      <td>1</td>\n",
       "      <td>2</td>\n",
       "      <td>22</td>\n",
       "      <td>4</td>\n",
       "      <td>128</td>\n",
       "      <td>1</td>\n",
       "    </tr>\n",
       "  </tbody>\n",
       "</table>\n",
       "</div>"
      ],
      "text/plain": [
       "   fight_id       date  game_id  away_team_id       away_team_name  \\\n",
       "0    111386 2012-04-07   137330            26      St. Louis Blues   \n",
       "1    111389 2012-04-07   137327            19   New York Islanders   \n",
       "2    111388 2012-04-07   137327            19   New York Islanders   \n",
       "3    111387 2012-04-07   137327            19   New York Islanders   \n",
       "4    111384 2012-04-07   137321            22  Philadelphia Flyers   \n",
       "\n",
       "   home_team_id         home_team_name  away_player_id   away_player_name  \\\n",
       "0            10           Dallas Stars             587     Barret Jackman   \n",
       "1             9  Columbus Blue Jackets            4999        Matt Martin   \n",
       "2             9  Columbus Blue Jackets            1743      Micheal Haley   \n",
       "3             9  Columbus Blue Jackets            4999        Matt Martin   \n",
       "4            24    Pittsburgh Penguins           16507  Harry Zolnierczyk   \n",
       "\n",
       "   away_player_got_fm  home_player_id home_player_name  home_player_got_fm  \\\n",
       "0                True           13274     Ryan Garbutt                True   \n",
       "1                True            1833    Derek Dorsett                True   \n",
       "2                True            2705       Jared Boll                True   \n",
       "3                True            1833    Derek Dorsett                True   \n",
       "4                True            6702       Joe Vitale                True   \n",
       "\n",
       "   fight_period  fight_minutes  fight_seconds  fight_votes_away_win  \\\n",
       "0             2              5             34                    37   \n",
       "1             2             12              1                    13   \n",
       "2             2              9             46                     3   \n",
       "3             1              5              2                    16   \n",
       "4             1              2             22                     4   \n",
       "\n",
       "   fight_votes_home_win  fight_votes_draw  \n",
       "0                     4                 1  \n",
       "1                     2                35  \n",
       "2                    46                 8  \n",
       "3                     2                21  \n",
       "4                   128                 1  "
      ]
     },
     "execution_count": 12,
     "metadata": {},
     "output_type": "execute_result"
    }
   ],
   "source": [
    "df.head()"
   ]
  },
  {
   "cell_type": "markdown",
   "metadata": {},
   "source": [
    "### Check out the data"
   ]
  },
  {
   "cell_type": "code",
   "execution_count": 13,
   "metadata": {},
   "outputs": [
    {
     "name": "stdout",
     "output_type": "stream",
     "text": [
      "<class 'pandas.core.frame.DataFrame'>\n",
      "RangeIndex: 2097 entries, 0 to 2096\n",
      "Data columns (total 19 columns):\n",
      "fight_id                2097 non-null int64\n",
      "date                    2097 non-null datetime64[ns]\n",
      "game_id                 2097 non-null int64\n",
      "away_team_id            2097 non-null int64\n",
      "away_team_name          2097 non-null object\n",
      "home_team_id            2097 non-null int64\n",
      "home_team_name          2097 non-null object\n",
      "away_player_id          2097 non-null int64\n",
      "away_player_name        2097 non-null object\n",
      "away_player_got_fm      2097 non-null bool\n",
      "home_player_id          2097 non-null int64\n",
      "home_player_name        2097 non-null object\n",
      "home_player_got_fm      2097 non-null bool\n",
      "fight_period            2097 non-null int64\n",
      "fight_minutes           2097 non-null int64\n",
      "fight_seconds           2097 non-null int64\n",
      "fight_votes_away_win    2097 non-null int64\n",
      "fight_votes_home_win    2097 non-null int64\n",
      "fight_votes_draw        2097 non-null int64\n",
      "dtypes: bool(2), datetime64[ns](1), int64(12), object(4)\n",
      "memory usage: 282.7+ KB\n"
     ]
    }
   ],
   "source": [
    "df.info()"
   ]
  },
  {
   "cell_type": "code",
   "execution_count": 14,
   "metadata": {},
   "outputs": [
    {
     "data": {
      "text/plain": [
       "Timestamp('2011-10-07 00:00:00')"
      ]
     },
     "execution_count": 14,
     "metadata": {},
     "output_type": "execute_result"
    }
   ],
   "source": [
    "df.date.min()"
   ]
  },
  {
   "cell_type": "code",
   "execution_count": 15,
   "metadata": {},
   "outputs": [
    {
     "data": {
      "text/plain": [
       "Timestamp('2016-04-10 00:00:00')"
      ]
     },
     "execution_count": 15,
     "metadata": {},
     "output_type": "execute_result"
    }
   ],
   "source": [
    "df.date.max()"
   ]
  },
  {
   "cell_type": "code",
   "execution_count": 16,
   "metadata": {},
   "outputs": [
    {
     "data": {
      "text/plain": [
       "array(['St. Louis Blues', 'New York Islanders', 'Philadelphia Flyers',\n",
       "       'Buffalo Sabres', 'Arizona Coyotes', 'San Jose Sharks',\n",
       "       'Anaheim Ducks', 'Columbus Blue Jackets', 'Pittsburgh Penguins',\n",
       "       'New York Rangers', 'Toronto Maple Leafs', 'Edmonton Oilers',\n",
       "       'Washington Capitals', 'Minnesota Wild', 'Ottawa Senators',\n",
       "       'Dallas Stars', 'Winnipeg Jets', 'Boston Bruins',\n",
       "       'Colorado Avalanche', 'Florida Panthers', 'Nashville Predators',\n",
       "       'Montreal Canadiens', 'Vancouver Canucks', 'Chicago Blackhawks',\n",
       "       'New Jersey Devils', 'Carolina Hurricanes', 'Los Angeles Kings',\n",
       "       'Calgary Flames', 'Tampa Bay Lightning', 'Detroit Red Wings'],\n",
       "      dtype=object)"
      ]
     },
     "execution_count": 16,
     "metadata": {},
     "output_type": "execute_result"
    }
   ],
   "source": [
    "df.away_team_name.unique()"
   ]
  },
  {
   "cell_type": "code",
   "execution_count": 17,
   "metadata": {},
   "outputs": [
    {
     "data": {
      "text/plain": [
       "array(['Dallas Stars', 'Columbus Blue Jackets', 'Pittsburgh Penguins',\n",
       "       'Boston Bruins', 'St. Louis Blues', 'Los Angeles Kings',\n",
       "       'Edmonton Oilers', 'Colorado Avalanche', 'Philadelphia Flyers',\n",
       "       'New Jersey Devils', 'Buffalo Sabres', 'Tampa Bay Lightning',\n",
       "       'Anaheim Ducks', 'Chicago Blackhawks', 'New York Islanders',\n",
       "       'San Jose Sharks', 'Arizona Coyotes', 'Carolina Hurricanes',\n",
       "       'Vancouver Canucks', 'Winnipeg Jets', 'Montreal Canadiens',\n",
       "       'Washington Capitals', 'Minnesota Wild', 'New York Rangers',\n",
       "       'Calgary Flames', 'Florida Panthers', 'Ottawa Senators',\n",
       "       'Toronto Maple Leafs', 'Nashville Predators', 'Detroit Red Wings'],\n",
       "      dtype=object)"
      ]
     },
     "execution_count": 17,
     "metadata": {},
     "output_type": "execute_result"
    }
   ],
   "source": [
    "df.home_team_name.unique()"
   ]
  },
  {
   "cell_type": "code",
   "execution_count": 18,
   "metadata": {},
   "outputs": [],
   "source": [
    "# etc ..."
   ]
  },
  {
   "cell_type": "markdown",
   "metadata": {},
   "source": [
    "### Come up with a list of questions\n",
    "\n",
    "- Which player was involved in the most fights?\n",
    "- Average number of fights per game?\n",
    "- What was the longest fight?\n",
    "\n",
    "... what else?"
   ]
  },
  {
   "cell_type": "markdown",
   "metadata": {},
   "source": [
    "### Q: Which player was involved in the most fights?\n",
    "\n",
    "This one will be a little tricky because of how the data is structured -- a player could be fighting either as the home or away player, so there's not an obvious column to group or pivot on. There are a couple of strategies we could use to answer this question, but here's what we're going to do:\n",
    "\n",
    "- Use the [`concat()`](https://pandas.pydata.org/pandas-docs/stable/generated/pandas.concat.html) method to stack the column values in each player ID column into one Series (we're using player ID instead of name to avoid the \"John Smith\" problem (or, I guess, \"Graham MacKenzie\"))\n",
    "- Use `value_counts()` to get a count\n",
    "- Grab the player ID with the most fights by getting the first ([0]) element in the `index` list for the Series returned by `value_counts()`\n",
    "- Go back to the original data frame and filter for that ID, then use [`iloc`](https://pandas.pydata.org/pandas-docs/version/0.17.0/generated/pandas.DataFrame.iloc.html) to get a single fight record with the player's name, team, etc."
   ]
  },
  {
   "cell_type": "code",
   "execution_count": 19,
   "metadata": {},
   "outputs": [],
   "source": [
    "# use concat to stack the home and away player IDs\n",
    "all_player_ids = pd.concat([df.home_player_id, df.away_player_id])"
   ]
  },
  {
   "cell_type": "code",
   "execution_count": 20,
   "metadata": {},
   "outputs": [],
   "source": [
    "# use value_counts() to get a frequency count, then grab the top (first) one\n",
    "top = all_player_ids.value_counts().index[0]"
   ]
  },
  {
   "cell_type": "code",
   "execution_count": 22,
   "metadata": {},
   "outputs": [
    {
     "name": "stdout",
     "output_type": "stream",
     "text": [
      "Cody McLeod Colorado Avalanche\n"
     ]
    }
   ],
   "source": [
    "# filter the main data frame for fights involving that player\n",
    "# arbitrarily, i have chosen to filter on the away_player_id column\n",
    "# and grab the first record with iloc\n",
    "fightiest_player_fight = df[df.away_player_id == top].iloc[0]\n",
    "\n",
    "# get the away player's name from this fight\n",
    "fightiest_player_name = fightiest_player_fight['away_player_name']\n",
    "\n",
    "# and his team name\n",
    "fightiest_player_team = fightiest_player_fight['away_team_name']\n",
    "\n",
    "# and print them\n",
    "print(fightiest_player_name, fightiest_player_team)"
   ]
  },
  {
   "cell_type": "markdown",
   "metadata": {},
   "source": [
    "### Q: Average number of fights per game?\n",
    "\n",
    "This one will be pretty easy. We need two numbers: The total number of fights -- which is the same as asking how many records are in our original data frame -- and the total number of games, which will just involve counting the unique number of games in our data.\n",
    "\n",
    "To get the number of records in our data frame, we shall use the `shape` attribute, which returns a [tuple](https://www.tutorialspoint.com/python/python_tuples.htm) with two things: the number of rows (the first thing) and the number of columns (the second thing). You can access items in a tuple [just like you'd access items in a list](../reference/Python%20data%20types%20and%20basic%20syntax.ipynb#Lists): With square brackets `[]` and the index number of the thing you're trying to get.\n",
    "\n",
    "To get the number of unique games, we're going to use the [`nunique()`](https://pandas.pydata.org/pandas-docs/stable/generated/pandas.Series.nunique.html) method to get the number of unique game IDs. (How did I know about the `nunique()` method? I didn't until I Googled \"pandas count unique values series.\")"
   ]
  },
  {
   "cell_type": "code",
   "execution_count": 16,
   "metadata": {},
   "outputs": [
    {
     "data": {
      "text/plain": [
       "(2097, 19)"
      ]
     },
     "execution_count": 16,
     "metadata": {},
     "output_type": "execute_result"
    }
   ],
   "source": [
    "df.shape"
   ]
  },
  {
   "cell_type": "code",
   "execution_count": 17,
   "metadata": {},
   "outputs": [],
   "source": [
    "num_fights = df.shape[0]"
   ]
  },
  {
   "cell_type": "code",
   "execution_count": 18,
   "metadata": {},
   "outputs": [],
   "source": [
    "num_games = df.game_id.nunique()"
   ]
  },
  {
   "cell_type": "code",
   "execution_count": 19,
   "metadata": {},
   "outputs": [
    {
     "name": "stdout",
     "output_type": "stream",
     "text": [
      "1.2541866028708133\n"
     ]
    }
   ],
   "source": [
    "avg_fights_per_game = num_fights / num_games\n",
    "\n",
    "print(avg_fights_per_game)"
   ]
  },
  {
   "cell_type": "markdown",
   "metadata": {},
   "source": [
    "### Q: What was the longest fight?\n",
    "\n",
    "We have fight duration as a mixture of minutes and seconds, so we first need to convert to seconds ((minutes * 60) + seconds). We'll create a new column, `fight_duration`, for this."
   ]
  },
  {
   "cell_type": "code",
   "execution_count": 24,
   "metadata": {},
   "outputs": [],
   "source": [
    "# create a new column that takes fight minutes, times 60, plus fight seconds\n",
    "df['fight_duration'] = (df.fight_minutes * 60) + df.fight_seconds"
   ]
  },
  {
   "cell_type": "markdown",
   "metadata": {},
   "source": [
    "Now it's just a matter of sorting our data frame top to bottom by that new column, with `sort_values()`, and using [`.iloc[0]`](https://pandas.pydata.org/pandas-docs/stable/generated/pandas.DataFrame.iloc.html) to grab the first record."
   ]
  },
  {
   "cell_type": "code",
   "execution_count": 25,
   "metadata": {},
   "outputs": [
    {
     "data": {
      "text/plain": [
       "fight_id                             116979\n",
       "date                    2013-03-22 00:00:00\n",
       "game_id                              155823\n",
       "away_team_id                             11\n",
       "away_team_name            Detroit Red Wings\n",
       "home_team_id                              1\n",
       "home_team_name                Anaheim Ducks\n",
       "away_player_id                         8977\n",
       "away_player_name              Brian Lashoff\n",
       "away_player_got_fm                     True\n",
       "home_player_id                        14446\n",
       "home_player_name              Kyle Palmieri\n",
       "home_player_got_fm                     True\n",
       "fight_period                              2\n",
       "fight_minutes                            20\n",
       "fight_seconds                             0\n",
       "fight_votes_away_win                     14\n",
       "fight_votes_home_win                      5\n",
       "fight_votes_draw                         34\n",
       "fight_duration                         1200\n",
       "Name: 653, dtype: object"
      ]
     },
     "execution_count": 25,
     "metadata": {},
     "output_type": "execute_result"
    }
   ],
   "source": [
    "df.sort_values('fight_duration', ascending=False).iloc[0]"
   ]
  },
  {
   "cell_type": "markdown",
   "metadata": {},
   "source": [
    "A 20-minute fight! Wow! But, if you [check the video](https://www.youtube.com/watch?v=1ocGtekdf8o), this one appears to be a data entry issue."
   ]
  }
 ],
 "metadata": {
  "kernelspec": {
   "display_name": "Python 3",
   "language": "python",
   "name": "python3"
  },
  "language_info": {
   "codemirror_mode": {
    "name": "ipython",
    "version": 3
   },
   "file_extension": ".py",
   "mimetype": "text/x-python",
   "name": "python",
   "nbconvert_exporter": "python",
   "pygments_lexer": "ipython3",
   "version": "3.7.0"
  }
 },
 "nbformat": 4,
 "nbformat_minor": 2
}
