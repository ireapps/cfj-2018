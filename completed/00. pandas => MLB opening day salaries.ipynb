{
 "cells": [
  {
   "cell_type": "markdown",
   "metadata": {},
   "source": [
    "# MLB opening day salaries\n",
    "\n",
    "Let's start by poking at some MLB opening day salary data from 2017. The file lives here: `../data/mlb.csv`.\n",
    "\n",
    "Let's also open the [pandas documentation](https://pandas.pydata.org/pandas-docs/stable/) in a new browser tab."
   ]
  },
  {
   "cell_type": "markdown",
   "metadata": {},
   "source": [
    "### Import pandas\n",
    "\n",
    "We've already installed `pandas`, an external Python library that we'll use to analyze data. Now we just need to _import_ it so we can use its functionality in our script.\n",
    "\n",
    "👉For more details on installing and importing Python libraries, [see this notebook](../reference/Installing%20and%20importing%20modules%20and%20libraries.ipynb)."
   ]
  },
  {
   "cell_type": "code",
   "execution_count": 29,
   "metadata": {},
   "outputs": [],
   "source": [
    "import pandas as pd"
   ]
  },
  {
   "cell_type": "markdown",
   "metadata": {},
   "source": [
    "### Load the CSV\n",
    "\n",
    "Next, we'll load the CSV into a pandas _data frame_, which is sort of like a virtual spreadsheet with rows and columns.\n",
    "\n",
    "We'll take a _string_ -- some text sandwiched between two apostrophes, or two quotation marks -- with the path to our CSV and hand it off to the pandas [`read_csv()`](https://pandas.pydata.org/pandas-docs/stable/generated/pandas.read_csv.html) method.\n",
    "\n",
    "We'll assign the result to a variable called `df`. (The name of the `df` variable is arbitrary -- you could call it `banana` and things would still work, though people reading your notebook would be confused.)\n",
    "\n",
    "👉For more details on _strings_ (and other data types) and _variable assignment_, [see this notebook](../reference/Python%20data%20types%20and%20basic%20syntax.ipynb).\n",
    "\n",
    "👉For more details on loading data into pandas, [see this notebook](../reference/Importing%20data%20into%20pandas.ipynb)."
   ]
  },
  {
   "cell_type": "code",
   "execution_count": 30,
   "metadata": {},
   "outputs": [],
   "source": [
    "df = pd.read_csv('../data/mlb.csv')"
   ]
  },
  {
   "cell_type": "markdown",
   "metadata": {},
   "source": [
    "### Use `head()` to check out the data\n",
    "\n",
    "Now that the dataframe is loaded with data, let's use the [`head()`](https://pandas.pydata.org/pandas-docs/stable/generated/pandas.DataFrame.head.html) method to see the first five rows of data."
   ]
  },
  {
   "cell_type": "code",
   "execution_count": 31,
   "metadata": {},
   "outputs": [
    {
     "data": {
      "text/html": [
       "<div>\n",
       "<style scoped>\n",
       "    .dataframe tbody tr th:only-of-type {\n",
       "        vertical-align: middle;\n",
       "    }\n",
       "\n",
       "    .dataframe tbody tr th {\n",
       "        vertical-align: top;\n",
       "    }\n",
       "\n",
       "    .dataframe thead th {\n",
       "        text-align: right;\n",
       "    }\n",
       "</style>\n",
       "<table border=\"1\" class=\"dataframe\">\n",
       "  <thead>\n",
       "    <tr style=\"text-align: right;\">\n",
       "      <th></th>\n",
       "      <th>NAME</th>\n",
       "      <th>TEAM</th>\n",
       "      <th>POS</th>\n",
       "      <th>SALARY</th>\n",
       "      <th>START_YEAR</th>\n",
       "      <th>END_YEAR</th>\n",
       "      <th>YEARS</th>\n",
       "    </tr>\n",
       "  </thead>\n",
       "  <tbody>\n",
       "    <tr>\n",
       "      <th>0</th>\n",
       "      <td>Clayton Kershaw</td>\n",
       "      <td>LAD</td>\n",
       "      <td>SP</td>\n",
       "      <td>33000000</td>\n",
       "      <td>2014</td>\n",
       "      <td>2020</td>\n",
       "      <td>7</td>\n",
       "    </tr>\n",
       "    <tr>\n",
       "      <th>1</th>\n",
       "      <td>Zack Greinke</td>\n",
       "      <td>ARI</td>\n",
       "      <td>SP</td>\n",
       "      <td>31876966</td>\n",
       "      <td>2016</td>\n",
       "      <td>2021</td>\n",
       "      <td>6</td>\n",
       "    </tr>\n",
       "    <tr>\n",
       "      <th>2</th>\n",
       "      <td>David Price</td>\n",
       "      <td>BOS</td>\n",
       "      <td>SP</td>\n",
       "      <td>30000000</td>\n",
       "      <td>2016</td>\n",
       "      <td>2022</td>\n",
       "      <td>7</td>\n",
       "    </tr>\n",
       "    <tr>\n",
       "      <th>3</th>\n",
       "      <td>Miguel Cabrera</td>\n",
       "      <td>DET</td>\n",
       "      <td>1B</td>\n",
       "      <td>28000000</td>\n",
       "      <td>2014</td>\n",
       "      <td>2023</td>\n",
       "      <td>10</td>\n",
       "    </tr>\n",
       "    <tr>\n",
       "      <th>4</th>\n",
       "      <td>Justin Verlander</td>\n",
       "      <td>DET</td>\n",
       "      <td>SP</td>\n",
       "      <td>28000000</td>\n",
       "      <td>2013</td>\n",
       "      <td>2019</td>\n",
       "      <td>7</td>\n",
       "    </tr>\n",
       "  </tbody>\n",
       "</table>\n",
       "</div>"
      ],
      "text/plain": [
       "               NAME TEAM POS    SALARY  START_YEAR  END_YEAR  YEARS\n",
       "0   Clayton Kershaw  LAD  SP  33000000        2014      2020      7\n",
       "1      Zack Greinke  ARI  SP  31876966        2016      2021      6\n",
       "2       David Price  BOS  SP  30000000        2016      2022      7\n",
       "3    Miguel Cabrera  DET  1B  28000000        2014      2023     10\n",
       "4  Justin Verlander  DET  SP  28000000        2013      2019      7"
      ]
     },
     "execution_count": 31,
     "metadata": {},
     "output_type": "execute_result"
    }
   ],
   "source": [
    "df.head()"
   ]
  },
  {
   "cell_type": "markdown",
   "metadata": {},
   "source": [
    "### Other ways to check out the dataframe\n",
    "\n",
    "- [`.tail()`](https://pandas.pydata.org/pandas-docs/stable/generated/pandas.DataFrame.tail.html) will get you the _last_ 5 rows of data\n",
    "- `.columns` will list the column names\n",
    "- [`.dtypes`](https://pandas.pydata.org/pandas-docs/stable/generated/pandas.DataFrame.dtypes.html) will list the data types of each column\n",
    "- [`.info()`](https://pandas.pydata.org/pandas-docs/stable/generated/pandas.DataFrame.info.html) will let us know if any columns have null values in them\n",
    "- [`.count()`](https://pandas.pydata.org/pandas-docs/stable/generated/pandas.DataFrame.count.html) will count the records in each column\n",
    "- [`.sample(5)`](https://pandas.pydata.org/pandas-docs/stable/generated/pandas.DataFrame.sample.html) will give you a sample of the data\n",
    "- [`.shape`](http://pandas.pydata.org/pandas-docs/version/0.17.0/generated/pandas.DataFrame.shape.html) will give you `(number of rows, number of columns)`\n",
    "- [`.describe()`](http://pandas.pydata.org/pandas-docs/version/0.17.0/generated/pandas.DataFrame.describe.html) will compute summary stats for the values in each numeric column"
   ]
  },
  {
   "cell_type": "code",
   "execution_count": 32,
   "metadata": {},
   "outputs": [
    {
     "data": {
      "text/html": [
       "<div>\n",
       "<style scoped>\n",
       "    .dataframe tbody tr th:only-of-type {\n",
       "        vertical-align: middle;\n",
       "    }\n",
       "\n",
       "    .dataframe tbody tr th {\n",
       "        vertical-align: top;\n",
       "    }\n",
       "\n",
       "    .dataframe thead th {\n",
       "        text-align: right;\n",
       "    }\n",
       "</style>\n",
       "<table border=\"1\" class=\"dataframe\">\n",
       "  <thead>\n",
       "    <tr style=\"text-align: right;\">\n",
       "      <th></th>\n",
       "      <th>NAME</th>\n",
       "      <th>TEAM</th>\n",
       "      <th>POS</th>\n",
       "      <th>SALARY</th>\n",
       "      <th>START_YEAR</th>\n",
       "      <th>END_YEAR</th>\n",
       "      <th>YEARS</th>\n",
       "    </tr>\n",
       "  </thead>\n",
       "  <tbody>\n",
       "    <tr>\n",
       "      <th>863</th>\n",
       "      <td>Steve Selsky</td>\n",
       "      <td>BOS</td>\n",
       "      <td>RF</td>\n",
       "      <td>535000</td>\n",
       "      <td>2017</td>\n",
       "      <td>2017</td>\n",
       "      <td>1</td>\n",
       "    </tr>\n",
       "    <tr>\n",
       "      <th>864</th>\n",
       "      <td>Stuart Turner</td>\n",
       "      <td>CIN</td>\n",
       "      <td>C</td>\n",
       "      <td>535000</td>\n",
       "      <td>2017</td>\n",
       "      <td>2017</td>\n",
       "      <td>1</td>\n",
       "    </tr>\n",
       "    <tr>\n",
       "      <th>865</th>\n",
       "      <td>Vicente Campos</td>\n",
       "      <td>LAA</td>\n",
       "      <td>RP</td>\n",
       "      <td>535000</td>\n",
       "      <td>2017</td>\n",
       "      <td>2017</td>\n",
       "      <td>1</td>\n",
       "    </tr>\n",
       "    <tr>\n",
       "      <th>866</th>\n",
       "      <td>Wandy Peralta</td>\n",
       "      <td>CIN</td>\n",
       "      <td>RP</td>\n",
       "      <td>535000</td>\n",
       "      <td>2017</td>\n",
       "      <td>2017</td>\n",
       "      <td>1</td>\n",
       "    </tr>\n",
       "    <tr>\n",
       "      <th>867</th>\n",
       "      <td>Yandy Diaz</td>\n",
       "      <td>CLE</td>\n",
       "      <td>3B</td>\n",
       "      <td>535000</td>\n",
       "      <td>2017</td>\n",
       "      <td>2017</td>\n",
       "      <td>1</td>\n",
       "    </tr>\n",
       "  </tbody>\n",
       "</table>\n",
       "</div>"
      ],
      "text/plain": [
       "               NAME TEAM POS  SALARY  START_YEAR  END_YEAR  YEARS\n",
       "863    Steve Selsky  BOS  RF  535000        2017      2017      1\n",
       "864   Stuart Turner  CIN   C  535000        2017      2017      1\n",
       "865  Vicente Campos  LAA  RP  535000        2017      2017      1\n",
       "866   Wandy Peralta  CIN  RP  535000        2017      2017      1\n",
       "867      Yandy Diaz  CLE  3B  535000        2017      2017      1"
      ]
     },
     "execution_count": 32,
     "metadata": {},
     "output_type": "execute_result"
    }
   ],
   "source": [
    "df.tail()"
   ]
  },
  {
   "cell_type": "code",
   "execution_count": 33,
   "metadata": {},
   "outputs": [
    {
     "data": {
      "text/plain": [
       "Index(['NAME', 'TEAM', 'POS', 'SALARY', 'START_YEAR', 'END_YEAR', 'YEARS'], dtype='object')"
      ]
     },
     "execution_count": 33,
     "metadata": {},
     "output_type": "execute_result"
    }
   ],
   "source": [
    "df.columns"
   ]
  },
  {
   "cell_type": "code",
   "execution_count": 34,
   "metadata": {},
   "outputs": [
    {
     "data": {
      "text/plain": [
       "NAME          object\n",
       "TEAM          object\n",
       "POS           object\n",
       "SALARY         int64\n",
       "START_YEAR     int64\n",
       "END_YEAR       int64\n",
       "YEARS          int64\n",
       "dtype: object"
      ]
     },
     "execution_count": 34,
     "metadata": {},
     "output_type": "execute_result"
    }
   ],
   "source": [
    "df.dtypes"
   ]
  },
  {
   "cell_type": "code",
   "execution_count": 35,
   "metadata": {},
   "outputs": [
    {
     "name": "stdout",
     "output_type": "stream",
     "text": [
      "<class 'pandas.core.frame.DataFrame'>\n",
      "RangeIndex: 868 entries, 0 to 867\n",
      "Data columns (total 7 columns):\n",
      "NAME          868 non-null object\n",
      "TEAM          868 non-null object\n",
      "POS           868 non-null object\n",
      "SALARY        868 non-null int64\n",
      "START_YEAR    868 non-null int64\n",
      "END_YEAR      868 non-null int64\n",
      "YEARS         868 non-null int64\n",
      "dtypes: int64(4), object(3)\n",
      "memory usage: 47.5+ KB\n"
     ]
    }
   ],
   "source": [
    "df.info()"
   ]
  },
  {
   "cell_type": "code",
   "execution_count": 36,
   "metadata": {},
   "outputs": [
    {
     "data": {
      "text/plain": [
       "NAME          868\n",
       "TEAM          868\n",
       "POS           868\n",
       "SALARY        868\n",
       "START_YEAR    868\n",
       "END_YEAR      868\n",
       "YEARS         868\n",
       "dtype: int64"
      ]
     },
     "execution_count": 36,
     "metadata": {},
     "output_type": "execute_result"
    }
   ],
   "source": [
    "df.count()"
   ]
  },
  {
   "cell_type": "code",
   "execution_count": 37,
   "metadata": {},
   "outputs": [
    {
     "data": {
      "text/html": [
       "<div>\n",
       "<style scoped>\n",
       "    .dataframe tbody tr th:only-of-type {\n",
       "        vertical-align: middle;\n",
       "    }\n",
       "\n",
       "    .dataframe tbody tr th {\n",
       "        vertical-align: top;\n",
       "    }\n",
       "\n",
       "    .dataframe thead th {\n",
       "        text-align: right;\n",
       "    }\n",
       "</style>\n",
       "<table border=\"1\" class=\"dataframe\">\n",
       "  <thead>\n",
       "    <tr style=\"text-align: right;\">\n",
       "      <th></th>\n",
       "      <th>NAME</th>\n",
       "      <th>TEAM</th>\n",
       "      <th>POS</th>\n",
       "      <th>SALARY</th>\n",
       "      <th>START_YEAR</th>\n",
       "      <th>END_YEAR</th>\n",
       "      <th>YEARS</th>\n",
       "    </tr>\n",
       "  </thead>\n",
       "  <tbody>\n",
       "    <tr>\n",
       "      <th>816</th>\n",
       "      <td>Manuel Margot</td>\n",
       "      <td>SD</td>\n",
       "      <td>CF</td>\n",
       "      <td>535600</td>\n",
       "      <td>2017</td>\n",
       "      <td>2017</td>\n",
       "      <td>1</td>\n",
       "    </tr>\n",
       "    <tr>\n",
       "      <th>75</th>\n",
       "      <td>Yadier Molina</td>\n",
       "      <td>STL</td>\n",
       "      <td>C</td>\n",
       "      <td>14200000</td>\n",
       "      <td>2013</td>\n",
       "      <td>2017</td>\n",
       "      <td>5</td>\n",
       "    </tr>\n",
       "    <tr>\n",
       "      <th>723</th>\n",
       "      <td>Michael Ynoa</td>\n",
       "      <td>CWS</td>\n",
       "      <td>RP</td>\n",
       "      <td>540000</td>\n",
       "      <td>2017</td>\n",
       "      <td>2017</td>\n",
       "      <td>1</td>\n",
       "    </tr>\n",
       "    <tr>\n",
       "      <th>753</th>\n",
       "      <td>Orlando Arcia</td>\n",
       "      <td>MIL</td>\n",
       "      <td>SS</td>\n",
       "      <td>538100</td>\n",
       "      <td>2017</td>\n",
       "      <td>2017</td>\n",
       "      <td>1</td>\n",
       "    </tr>\n",
       "    <tr>\n",
       "      <th>744</th>\n",
       "      <td>Mac Williamson</td>\n",
       "      <td>SF</td>\n",
       "      <td>RF</td>\n",
       "      <td>539000</td>\n",
       "      <td>2017</td>\n",
       "      <td>2017</td>\n",
       "      <td>1</td>\n",
       "    </tr>\n",
       "  </tbody>\n",
       "</table>\n",
       "</div>"
      ],
      "text/plain": [
       "               NAME TEAM POS    SALARY  START_YEAR  END_YEAR  YEARS\n",
       "816   Manuel Margot   SD  CF    535600        2017      2017      1\n",
       "75    Yadier Molina  STL   C  14200000        2013      2017      5\n",
       "723    Michael Ynoa  CWS  RP    540000        2017      2017      1\n",
       "753   Orlando Arcia  MIL  SS    538100        2017      2017      1\n",
       "744  Mac Williamson   SF  RF    539000        2017      2017      1"
      ]
     },
     "execution_count": 37,
     "metadata": {},
     "output_type": "execute_result"
    }
   ],
   "source": [
    "df.sample(5)"
   ]
  },
  {
   "cell_type": "code",
   "execution_count": 38,
   "metadata": {},
   "outputs": [
    {
     "data": {
      "text/plain": [
       "(868, 7)"
      ]
     },
     "execution_count": 38,
     "metadata": {},
     "output_type": "execute_result"
    }
   ],
   "source": [
    "df.shape"
   ]
  },
  {
   "cell_type": "code",
   "execution_count": 39,
   "metadata": {},
   "outputs": [
    {
     "data": {
      "text/html": [
       "<div>\n",
       "<style scoped>\n",
       "    .dataframe tbody tr th:only-of-type {\n",
       "        vertical-align: middle;\n",
       "    }\n",
       "\n",
       "    .dataframe tbody tr th {\n",
       "        vertical-align: top;\n",
       "    }\n",
       "\n",
       "    .dataframe thead th {\n",
       "        text-align: right;\n",
       "    }\n",
       "</style>\n",
       "<table border=\"1\" class=\"dataframe\">\n",
       "  <thead>\n",
       "    <tr style=\"text-align: right;\">\n",
       "      <th></th>\n",
       "      <th>SALARY</th>\n",
       "      <th>START_YEAR</th>\n",
       "      <th>END_YEAR</th>\n",
       "      <th>YEARS</th>\n",
       "    </tr>\n",
       "  </thead>\n",
       "  <tbody>\n",
       "    <tr>\n",
       "      <th>count</th>\n",
       "      <td>8.680000e+02</td>\n",
       "      <td>868.000000</td>\n",
       "      <td>868.000000</td>\n",
       "      <td>868.000000</td>\n",
       "    </tr>\n",
       "    <tr>\n",
       "      <th>mean</th>\n",
       "      <td>4.468069e+06</td>\n",
       "      <td>2016.486175</td>\n",
       "      <td>2017.430876</td>\n",
       "      <td>1.944700</td>\n",
       "    </tr>\n",
       "    <tr>\n",
       "      <th>std</th>\n",
       "      <td>5.948459e+06</td>\n",
       "      <td>1.205923</td>\n",
       "      <td>1.163087</td>\n",
       "      <td>1.916764</td>\n",
       "    </tr>\n",
       "    <tr>\n",
       "      <th>min</th>\n",
       "      <td>5.350000e+05</td>\n",
       "      <td>2008.000000</td>\n",
       "      <td>2015.000000</td>\n",
       "      <td>1.000000</td>\n",
       "    </tr>\n",
       "    <tr>\n",
       "      <th>25%</th>\n",
       "      <td>5.455000e+05</td>\n",
       "      <td>2017.000000</td>\n",
       "      <td>2017.000000</td>\n",
       "      <td>1.000000</td>\n",
       "    </tr>\n",
       "    <tr>\n",
       "      <th>50%</th>\n",
       "      <td>1.562500e+06</td>\n",
       "      <td>2017.000000</td>\n",
       "      <td>2017.000000</td>\n",
       "      <td>1.000000</td>\n",
       "    </tr>\n",
       "    <tr>\n",
       "      <th>75%</th>\n",
       "      <td>6.000000e+06</td>\n",
       "      <td>2017.000000</td>\n",
       "      <td>2017.000000</td>\n",
       "      <td>2.000000</td>\n",
       "    </tr>\n",
       "    <tr>\n",
       "      <th>max</th>\n",
       "      <td>3.300000e+07</td>\n",
       "      <td>2017.000000</td>\n",
       "      <td>2027.000000</td>\n",
       "      <td>13.000000</td>\n",
       "    </tr>\n",
       "  </tbody>\n",
       "</table>\n",
       "</div>"
      ],
      "text/plain": [
       "             SALARY   START_YEAR     END_YEAR       YEARS\n",
       "count  8.680000e+02   868.000000   868.000000  868.000000\n",
       "mean   4.468069e+06  2016.486175  2017.430876    1.944700\n",
       "std    5.948459e+06     1.205923     1.163087    1.916764\n",
       "min    5.350000e+05  2008.000000  2015.000000    1.000000\n",
       "25%    5.455000e+05  2017.000000  2017.000000    1.000000\n",
       "50%    1.562500e+06  2017.000000  2017.000000    1.000000\n",
       "75%    6.000000e+06  2017.000000  2017.000000    2.000000\n",
       "max    3.300000e+07  2017.000000  2027.000000   13.000000"
      ]
     },
     "execution_count": 39,
     "metadata": {},
     "output_type": "execute_result"
    }
   ],
   "source": [
    "df.describe()"
   ]
  },
  {
   "cell_type": "markdown",
   "metadata": {},
   "source": [
    "### Come up with a list of questions\n",
    "\n",
    "Now that we have a general idea of our data, let's come up with a list of questions. For starters:\n",
    "\n",
    "- What's the total, average and median salary for an MLB player?\n",
    "- How many players are on each team?\n",
    "- Which catchers makes the most money?\n",
    "- How many players make the league minimum?\n",
    "- Which teams have the biggest payrolls?\n",
    "\n",
    "Other questions?"
   ]
  },
  {
   "cell_type": "markdown",
   "metadata": {},
   "source": [
    "### Q: What's the total, average and median salary for an MLB player?\n",
    "\n",
    "If we were doing this in Excel, we'd probably scroll to the bottom of the worksheet and enter, in the SALARY column, `=SUM(D2:D868)`, and below that, `=AVERAGE(D2:D868)`, and then below that, `=MEDIAN(D2:D868)`. Here, we're going to select the values in the SALARY column and use a couple of built-in pandas methods to do the same math.\n",
    "\n",
    "In pandas, to select a column of data, you can use dot notation (`df.SALARY`) or bracket notation (`df['SALARY']`). If your column name has spaces, you must use bracket notation."
   ]
  },
  {
   "cell_type": "code",
   "execution_count": 40,
   "metadata": {},
   "outputs": [
    {
     "data": {
      "text/plain": [
       "3878284045"
      ]
     },
     "execution_count": 40,
     "metadata": {},
     "output_type": "execute_result"
    }
   ],
   "source": [
    "df.SALARY.sum()"
   ]
  },
  {
   "cell_type": "code",
   "execution_count": 41,
   "metadata": {},
   "outputs": [
    {
     "data": {
      "text/plain": [
       "4468069.176267281"
      ]
     },
     "execution_count": 41,
     "metadata": {},
     "output_type": "execute_result"
    }
   ],
   "source": [
    "df.SALARY.mean()"
   ]
  },
  {
   "cell_type": "code",
   "execution_count": 42,
   "metadata": {},
   "outputs": [
    {
     "data": {
      "text/plain": [
       "1562500.0"
      ]
     },
     "execution_count": 42,
     "metadata": {},
     "output_type": "execute_result"
    }
   ],
   "source": [
    "df.SALARY.median()"
   ]
  },
  {
   "cell_type": "markdown",
   "metadata": {},
   "source": [
    "You can also use the [`agg()`](https://pandas.pydata.org/pandas-docs/stable/generated/pandas.DataFrame.agg.html) method to pass in multiple functions, including ones that you write yourself."
   ]
  },
  {
   "cell_type": "code",
   "execution_count": 43,
   "metadata": {},
   "outputs": [
    {
     "data": {
      "text/plain": [
       "mean      4.468069e+06\n",
       "median    1.562500e+06\n",
       "sum       3.878284e+09\n",
       "Name: SALARY, dtype: float64"
      ]
     },
     "execution_count": 43,
     "metadata": {},
     "output_type": "execute_result"
    }
   ],
   "source": [
    "df.SALARY.agg(['mean', 'median', 'sum'])"
   ]
  },
  {
   "cell_type": "markdown",
   "metadata": {},
   "source": [
    "### Q: How many players are on each team?\n",
    "\n",
    "To answer this question, we're going to use a method called [`value_counts()`](https://pandas.pydata.org/pandas-docs/stable/generated/pandas.Series.value_counts.html) on the TEAM column. The equivalent operation in Excel would involve a pivot table. In SQL, it might be something like:\n",
    "\n",
    "```sql\n",
    "SELECT TEAM, COUNT(*)\n",
    "FROM mlb\n",
    "GROUP BY TEAM\n",
    "ORDER BY 2 DESC\n",
    "```\n",
    "\n",
    "👉 For more details on grouping with `value_counts()`, [see this notebook](../reference/Grouping%20data%20in%20pandas.ipynb#Value-counts)."
   ]
  },
  {
   "cell_type": "code",
   "execution_count": 44,
   "metadata": {},
   "outputs": [
    {
     "data": {
      "text/plain": [
       "TEX    34\n",
       "TB     32\n",
       "COL    32\n",
       "NYM    31\n",
       "SD     31\n",
       "SEA    31\n",
       "LAD    31\n",
       "CIN    31\n",
       "BOS    31\n",
       "STL    30\n",
       "OAK    30\n",
       "LAA    30\n",
       "ATL    30\n",
       "TOR    29\n",
       "MIN    29\n",
       "SF     28\n",
       "KC     28\n",
       "ARI    28\n",
       "CWS    28\n",
       "BAL    28\n",
       "CLE    28\n",
       "MIA    28\n",
       "HOU    27\n",
       "NYY    27\n",
       "WSH    26\n",
       "PHI    26\n",
       "MIL    26\n",
       "DET    26\n",
       "PIT    26\n",
       "CHC    26\n",
       "Name: TEAM, dtype: int64"
      ]
     },
     "execution_count": 44,
     "metadata": {},
     "output_type": "execute_result"
    }
   ],
   "source": [
    "df.TEAM.value_counts()"
   ]
  },
  {
   "cell_type": "markdown",
   "metadata": {},
   "source": [
    "### Q: Which catchers makes the most money?\n",
    "\n",
    "To answer this question, first we'll _filter_ the dataframe to include only catchers. Then we'll sort the data descending and look at the top 5.\n",
    "\n",
    "👉For more details on filtering data in pandas, [see this notebook](../reference/Filtering%20columns%20and%20rows%20in%20pandas.ipynb).\n",
    "\n",
    "First, we need to figure out how \"catcher\" is represented in our data. Let's use the [`unique()`](https://pandas.pydata.org/pandas-docs/stable/generated/pandas.Series.unique.html) method to get a list of unique values in the `POS` column."
   ]
  },
  {
   "cell_type": "code",
   "execution_count": 45,
   "metadata": {},
   "outputs": [
    {
     "data": {
      "text/plain": [
       "array(['SP', '1B', 'RF', '2B', 'DH', 'CF', 'C', 'LF', '3B', 'SS', 'OF',\n",
       "       'RP', 'P'], dtype=object)"
      ]
     },
     "execution_count": 45,
     "metadata": {},
     "output_type": "execute_result"
    }
   ],
   "source": [
    "df.POS.unique()"
   ]
  },
  {
   "cell_type": "markdown",
   "metadata": {},
   "source": [
    "Looks like we want to target records where the `POS` value is \"C.\"\n",
    "\n",
    "To filter data in a pandas dataframe, we'll put the filtering condition inside square brackets and pass that to the `df[]`. It's a little confusing at first."
   ]
  },
  {
   "cell_type": "code",
   "execution_count": 46,
   "metadata": {},
   "outputs": [],
   "source": [
    "catchers = df[df['POS'] == 'C']"
   ]
  },
  {
   "cell_type": "markdown",
   "metadata": {},
   "source": [
    "Now we want to sort these records top to bottom. To do that, we'll use the [`sort_values()`](https://pandas.pydata.org/pandas-docs/stable/generated/pandas.DataFrame.sort_values.html) method, which needs the name of the column to sort by ('SALARY'). We want to sort largest to smallest, so we'll also specify that `ascending=False`. Finally, we want to look at the top 10, so we'll tack on `.head(10)` to our method chain."
   ]
  },
  {
   "cell_type": "code",
   "execution_count": 47,
   "metadata": {},
   "outputs": [
    {
     "data": {
      "text/html": [
       "<div>\n",
       "<style scoped>\n",
       "    .dataframe tbody tr th:only-of-type {\n",
       "        vertical-align: middle;\n",
       "    }\n",
       "\n",
       "    .dataframe tbody tr th {\n",
       "        vertical-align: top;\n",
       "    }\n",
       "\n",
       "    .dataframe thead th {\n",
       "        text-align: right;\n",
       "    }\n",
       "</style>\n",
       "<table border=\"1\" class=\"dataframe\">\n",
       "  <thead>\n",
       "    <tr style=\"text-align: right;\">\n",
       "      <th></th>\n",
       "      <th>NAME</th>\n",
       "      <th>TEAM</th>\n",
       "      <th>POS</th>\n",
       "      <th>SALARY</th>\n",
       "      <th>START_YEAR</th>\n",
       "      <th>END_YEAR</th>\n",
       "      <th>YEARS</th>\n",
       "    </tr>\n",
       "  </thead>\n",
       "  <tbody>\n",
       "    <tr>\n",
       "      <th>18</th>\n",
       "      <td>Buster Posey</td>\n",
       "      <td>SF</td>\n",
       "      <td>C</td>\n",
       "      <td>22177778</td>\n",
       "      <td>2013</td>\n",
       "      <td>2021</td>\n",
       "      <td>9</td>\n",
       "    </tr>\n",
       "    <tr>\n",
       "      <th>36</th>\n",
       "      <td>Russell Martin</td>\n",
       "      <td>TOR</td>\n",
       "      <td>C</td>\n",
       "      <td>20000000</td>\n",
       "      <td>2015</td>\n",
       "      <td>2019</td>\n",
       "      <td>5</td>\n",
       "    </tr>\n",
       "    <tr>\n",
       "      <th>52</th>\n",
       "      <td>Brian McCann</td>\n",
       "      <td>HOU</td>\n",
       "      <td>C</td>\n",
       "      <td>17000000</td>\n",
       "      <td>2014</td>\n",
       "      <td>2018</td>\n",
       "      <td>5</td>\n",
       "    </tr>\n",
       "    <tr>\n",
       "      <th>75</th>\n",
       "      <td>Yadier Molina</td>\n",
       "      <td>STL</td>\n",
       "      <td>C</td>\n",
       "      <td>14200000</td>\n",
       "      <td>2013</td>\n",
       "      <td>2017</td>\n",
       "      <td>5</td>\n",
       "    </tr>\n",
       "    <tr>\n",
       "      <th>77</th>\n",
       "      <td>Miguel Montero</td>\n",
       "      <td>CHC</td>\n",
       "      <td>C</td>\n",
       "      <td>14000000</td>\n",
       "      <td>2013</td>\n",
       "      <td>2017</td>\n",
       "      <td>5</td>\n",
       "    </tr>\n",
       "    <tr>\n",
       "      <th>108</th>\n",
       "      <td>Carlos Santana</td>\n",
       "      <td>CLE</td>\n",
       "      <td>C</td>\n",
       "      <td>12000000</td>\n",
       "      <td>2012</td>\n",
       "      <td>2016</td>\n",
       "      <td>5</td>\n",
       "    </tr>\n",
       "    <tr>\n",
       "      <th>129</th>\n",
       "      <td>Matt Wieters</td>\n",
       "      <td>WSH</td>\n",
       "      <td>C</td>\n",
       "      <td>10500000</td>\n",
       "      <td>2017</td>\n",
       "      <td>2017</td>\n",
       "      <td>1</td>\n",
       "    </tr>\n",
       "    <tr>\n",
       "      <th>143</th>\n",
       "      <td>Francisco Cervelli</td>\n",
       "      <td>PIT</td>\n",
       "      <td>C</td>\n",
       "      <td>9000000</td>\n",
       "      <td>2017</td>\n",
       "      <td>2019</td>\n",
       "      <td>3</td>\n",
       "    </tr>\n",
       "    <tr>\n",
       "      <th>151</th>\n",
       "      <td>Jason Castro</td>\n",
       "      <td>MIN</td>\n",
       "      <td>C</td>\n",
       "      <td>8500000</td>\n",
       "      <td>2017</td>\n",
       "      <td>2019</td>\n",
       "      <td>3</td>\n",
       "    </tr>\n",
       "    <tr>\n",
       "      <th>176</th>\n",
       "      <td>Devin Mesoraco</td>\n",
       "      <td>CIN</td>\n",
       "      <td>C</td>\n",
       "      <td>7325000</td>\n",
       "      <td>2015</td>\n",
       "      <td>2018</td>\n",
       "      <td>4</td>\n",
       "    </tr>\n",
       "  </tbody>\n",
       "</table>\n",
       "</div>"
      ],
      "text/plain": [
       "                   NAME TEAM POS    SALARY  START_YEAR  END_YEAR  YEARS\n",
       "18         Buster Posey   SF   C  22177778        2013      2021      9\n",
       "36       Russell Martin  TOR   C  20000000        2015      2019      5\n",
       "52         Brian McCann  HOU   C  17000000        2014      2018      5\n",
       "75        Yadier Molina  STL   C  14200000        2013      2017      5\n",
       "77       Miguel Montero  CHC   C  14000000        2013      2017      5\n",
       "108      Carlos Santana  CLE   C  12000000        2012      2016      5\n",
       "129        Matt Wieters  WSH   C  10500000        2017      2017      1\n",
       "143  Francisco Cervelli  PIT   C   9000000        2017      2019      3\n",
       "151        Jason Castro  MIN   C   8500000        2017      2019      3\n",
       "176      Devin Mesoraco  CIN   C   7325000        2015      2018      4"
      ]
     },
     "execution_count": 47,
     "metadata": {},
     "output_type": "execute_result"
    }
   ],
   "source": [
    "catchers.sort_values('SALARY', ascending=False).head(10)"
   ]
  },
  {
   "cell_type": "markdown",
   "metadata": {},
   "source": [
    "### Q: How many players make the league minimum?\n",
    "\n",
    "First, we'll need to figure out what the [league minimum](https://www.statista.com/statistics/256187/minimum-salary-of-players-in-major-league-baseball/) is.\n",
    "\n",
    "By definition, it's the lowest number in the salary data. We could also reasonably expect that number to occur more frequently than other numbers.\n",
    "\n",
    "So first, let's use the [`min()`](https://pandas.pydata.org/pandas-docs/stable/generated/pandas.DataFrame.min.html) method to see what the lowest salary value is; then we'll use `value_counts()` to check the frequency. (If we wanted to get crazy, we could also get the [`mode()`](https://pandas.pydata.org/pandas-docs/stable/generated/pandas.Series.mode.html) of the SALARY column -- there's always a zillion ways to skin the cat.)"
   ]
  },
  {
   "cell_type": "code",
   "execution_count": 48,
   "metadata": {},
   "outputs": [
    {
     "data": {
      "text/plain": [
       "535000"
      ]
     },
     "execution_count": 48,
     "metadata": {},
     "output_type": "execute_result"
    }
   ],
   "source": [
    "df.SALARY.min()"
   ]
  },
  {
   "cell_type": "code",
   "execution_count": 49,
   "metadata": {},
   "outputs": [
    {
     "data": {
      "text/plain": [
       "0    535000\n",
       "dtype: int64"
      ]
     },
     "execution_count": 49,
     "metadata": {},
     "output_type": "execute_result"
    }
   ],
   "source": [
    "df.SALARY.mode()"
   ]
  },
  {
   "cell_type": "code",
   "execution_count": 50,
   "metadata": {},
   "outputs": [
    {
     "data": {
      "text/plain": [
       "535000     50\n",
       "540000     21\n",
       "545000     14\n",
       "2000000    13\n",
       "4000000    13\n",
       "Name: SALARY, dtype: int64"
      ]
     },
     "execution_count": 50,
     "metadata": {},
     "output_type": "execute_result"
    }
   ],
   "source": [
    "df.SALARY.value_counts().head()"
   ]
  },
  {
   "cell_type": "markdown",
   "metadata": {},
   "source": [
    "#### Bonus Q: What percentage of MLB players make the league minimum?\n",
    "\n",
    "First, we can filter to get just the players who make the league minimum. Then we can use the built-in Python function `len()` to get the count. We can also use `len()` to count the records in our main data frame -- `df`, the one will all of the players in it -- and from there the math is straightforward: `(part / whole) * 100`"
   ]
  },
  {
   "cell_type": "code",
   "execution_count": 51,
   "metadata": {},
   "outputs": [],
   "source": [
    "league_min = df[df.SALARY == df.SALARY.min()]"
   ]
  },
  {
   "cell_type": "code",
   "execution_count": 52,
   "metadata": {},
   "outputs": [
    {
     "name": "stdout",
     "output_type": "stream",
     "text": [
      "5.76036866359447\n"
     ]
    }
   ],
   "source": [
    "pct_minimum = (len(league_min) / len(df)) * 100\n",
    "print(pct_minimum)"
   ]
  },
  {
   "cell_type": "markdown",
   "metadata": {},
   "source": [
    "### Q: Which teams have the biggest payrolls?\n",
    "\n",
    "To answer this question, we're again going to use equivalent of an Excel pivot table. Our steps:\n",
    "\n",
    "1. Select the two columns we're interested in: `[TEAM, SALARY]`\n",
    "2. Use the [`groupby()`](https://pandas.pydata.org/pandas-docs/stable/generated/pandas.DataFrame.groupby.html) method to group the data by team\n",
    "3. Use the [`sum()`](https://pandas.pydata.org/pandas-docs/stable/generated/pandas.core.groupby.GroupBy.sum.html) method to sum salaries by team\n",
    "4. Use the [`sort_values()`](https://pandas.pydata.org/pandas-docs/stable/generated/pandas.DataFrame.sort_values.html) method to sort the results descending\n",
    "\n",
    "_Furthermore_, we're gonna chain these methods together and do it all in one whack. And we can use `\\` at the end of the line to tell Python that we're _not quite done yet_.\n",
    "\n",
    "👉 For more details on grouping data in pandas, [see this notebook](../reference/Grouping%20data%20in%20pandas.ipynb)"
   ]
  },
  {
   "cell_type": "code",
   "execution_count": 53,
   "metadata": {},
   "outputs": [],
   "source": [
    "grouped = df[['TEAM', 'SALARY']].groupby('TEAM') \\\n",
    "                                .sum() \\\n",
    "                                .sort_values('SALARY', ascending=False)"
   ]
  },
  {
   "cell_type": "code",
   "execution_count": 54,
   "metadata": {},
   "outputs": [
    {
     "data": {
      "text/html": [
       "<div>\n",
       "<style scoped>\n",
       "    .dataframe tbody tr th:only-of-type {\n",
       "        vertical-align: middle;\n",
       "    }\n",
       "\n",
       "    .dataframe tbody tr th {\n",
       "        vertical-align: top;\n",
       "    }\n",
       "\n",
       "    .dataframe thead th {\n",
       "        text-align: right;\n",
       "    }\n",
       "</style>\n",
       "<table border=\"1\" class=\"dataframe\">\n",
       "  <thead>\n",
       "    <tr style=\"text-align: right;\">\n",
       "      <th></th>\n",
       "      <th>SALARY</th>\n",
       "    </tr>\n",
       "    <tr>\n",
       "      <th>TEAM</th>\n",
       "      <th></th>\n",
       "    </tr>\n",
       "  </thead>\n",
       "  <tbody>\n",
       "    <tr>\n",
       "      <th>LAD</th>\n",
       "      <td>187989811</td>\n",
       "    </tr>\n",
       "    <tr>\n",
       "      <th>DET</th>\n",
       "      <td>180250600</td>\n",
       "    </tr>\n",
       "    <tr>\n",
       "      <th>TEX</th>\n",
       "      <td>178431396</td>\n",
       "    </tr>\n",
       "    <tr>\n",
       "      <th>SF</th>\n",
       "      <td>176531278</td>\n",
       "    </tr>\n",
       "    <tr>\n",
       "      <th>NYM</th>\n",
       "      <td>176284679</td>\n",
       "    </tr>\n",
       "  </tbody>\n",
       "</table>\n",
       "</div>"
      ],
      "text/plain": [
       "         SALARY\n",
       "TEAM           \n",
       "LAD   187989811\n",
       "DET   180250600\n",
       "TEX   178431396\n",
       "SF    176531278\n",
       "NYM   176284679"
      ]
     },
     "execution_count": 54,
     "metadata": {},
     "output_type": "execute_result"
    }
   ],
   "source": [
    "grouped.head()"
   ]
  },
  {
   "cell_type": "markdown",
   "metadata": {},
   "source": [
    "### Reformatting how the salary looks"
   ]
  },
  {
   "cell_type": "markdown",
   "metadata": {},
   "source": [
    "If you'd like to change how the `SALARY` column is being displayed, you can change the [formatting specification](https://docs.python.org/3/library/string.html#format-examples) by handing off a dictionary to our grouped object's [`style.format`](https://pandas.pydata.org/pandas-docs/stable/style.html#Finer-Control:-Display-Values) attribute.\n",
    "\n",
    "👉 For more information on dictionaries, [see this notebook](../reference/Python%20data%20types%20and%20basic%20syntax.ipynb#Dictionaries)\n",
    "\n",
    "👉 For more information on using Python string formatting to display numbers, [see this notebook](../reference/String%20formatting.ipynb#Formatting-numbers)."
   ]
  },
  {
   "cell_type": "code",
   "execution_count": 55,
   "metadata": {},
   "outputs": [
    {
     "data": {
      "text/html": [
       "<style  type=\"text/css\" >\n",
       "</style>  \n",
       "<table id=\"T_e74d6f9a_a595_11e8_922d_3a005990a201\" > \n",
       "<thead>    <tr> \n",
       "        <th class=\"blank level0\" ></th> \n",
       "        <th class=\"col_heading level0 col0\" >SALARY</th> \n",
       "    </tr>    <tr> \n",
       "        <th class=\"index_name level0\" >TEAM</th> \n",
       "        <th class=\"blank\" ></th> \n",
       "    </tr></thead> \n",
       "<tbody>    <tr> \n",
       "        <th id=\"T_e74d6f9a_a595_11e8_922d_3a005990a201level0_row0\" class=\"row_heading level0 row0\" >LAD</th> \n",
       "        <td id=\"T_e74d6f9a_a595_11e8_922d_3a005990a201row0_col0\" class=\"data row0 col0\" >$187,989,811</td> \n",
       "    </tr>    <tr> \n",
       "        <th id=\"T_e74d6f9a_a595_11e8_922d_3a005990a201level0_row1\" class=\"row_heading level0 row1\" >DET</th> \n",
       "        <td id=\"T_e74d6f9a_a595_11e8_922d_3a005990a201row1_col0\" class=\"data row1 col0\" >$180,250,600</td> \n",
       "    </tr>    <tr> \n",
       "        <th id=\"T_e74d6f9a_a595_11e8_922d_3a005990a201level0_row2\" class=\"row_heading level0 row2\" >TEX</th> \n",
       "        <td id=\"T_e74d6f9a_a595_11e8_922d_3a005990a201row2_col0\" class=\"data row2 col0\" >$178,431,396</td> \n",
       "    </tr>    <tr> \n",
       "        <th id=\"T_e74d6f9a_a595_11e8_922d_3a005990a201level0_row3\" class=\"row_heading level0 row3\" >SF</th> \n",
       "        <td id=\"T_e74d6f9a_a595_11e8_922d_3a005990a201row3_col0\" class=\"data row3 col0\" >$176,531,278</td> \n",
       "    </tr>    <tr> \n",
       "        <th id=\"T_e74d6f9a_a595_11e8_922d_3a005990a201level0_row4\" class=\"row_heading level0 row4\" >NYM</th> \n",
       "        <td id=\"T_e74d6f9a_a595_11e8_922d_3a005990a201row4_col0\" class=\"data row4 col0\" >$176,284,679</td> \n",
       "    </tr>    <tr> \n",
       "        <th id=\"T_e74d6f9a_a595_11e8_922d_3a005990a201level0_row5\" class=\"row_heading level0 row5\" >BOS</th> \n",
       "        <td id=\"T_e74d6f9a_a595_11e8_922d_3a005990a201row5_col0\" class=\"data row5 col0\" >$174,287,098</td> \n",
       "    </tr>    <tr> \n",
       "        <th id=\"T_e74d6f9a_a595_11e8_922d_3a005990a201level0_row6\" class=\"row_heading level0 row6\" >NYY</th> \n",
       "        <td id=\"T_e74d6f9a_a595_11e8_922d_3a005990a201row6_col0\" class=\"data row6 col0\" >$170,389,199</td> \n",
       "    </tr>    <tr> \n",
       "        <th id=\"T_e74d6f9a_a595_11e8_922d_3a005990a201level0_row7\" class=\"row_heading level0 row7\" >CHC</th> \n",
       "        <td id=\"T_e74d6f9a_a595_11e8_922d_3a005990a201row7_col0\" class=\"data row7 col0\" >$170,088,502</td> \n",
       "    </tr>    <tr> \n",
       "        <th id=\"T_e74d6f9a_a595_11e8_922d_3a005990a201level0_row8\" class=\"row_heading level0 row8\" >WSH</th> \n",
       "        <td id=\"T_e74d6f9a_a595_11e8_922d_3a005990a201row8_col0\" class=\"data row8 col0\" >$162,742,157</td> \n",
       "    </tr>    <tr> \n",
       "        <th id=\"T_e74d6f9a_a595_11e8_922d_3a005990a201level0_row9\" class=\"row_heading level0 row9\" >TOR</th> \n",
       "        <td id=\"T_e74d6f9a_a595_11e8_922d_3a005990a201row9_col0\" class=\"data row9 col0\" >$162,353,367</td> \n",
       "    </tr>    <tr> \n",
       "        <th id=\"T_e74d6f9a_a595_11e8_922d_3a005990a201level0_row10\" class=\"row_heading level0 row10\" >BAL</th> \n",
       "        <td id=\"T_e74d6f9a_a595_11e8_922d_3a005990a201row10_col0\" class=\"data row10 col0\" >$161,684,185</td> \n",
       "    </tr>    <tr> \n",
       "        <th id=\"T_e74d6f9a_a595_11e8_922d_3a005990a201level0_row11\" class=\"row_heading level0 row11\" >SEA</th> \n",
       "        <td id=\"T_e74d6f9a_a595_11e8_922d_3a005990a201row11_col0\" class=\"data row11 col0\" >$155,207,720</td> \n",
       "    </tr>    <tr> \n",
       "        <th id=\"T_e74d6f9a_a595_11e8_922d_3a005990a201level0_row12\" class=\"row_heading level0 row12\" >STL</th> \n",
       "        <td id=\"T_e74d6f9a_a595_11e8_922d_3a005990a201row12_col0\" class=\"data row12 col0\" >$146,630,000</td> \n",
       "    </tr>    <tr> \n",
       "        <th id=\"T_e74d6f9a_a595_11e8_922d_3a005990a201level0_row13\" class=\"row_heading level0 row13\" >LAA</th> \n",
       "        <td id=\"T_e74d6f9a_a595_11e8_922d_3a005990a201row13_col0\" class=\"data row13 col0\" >$143,965,833</td> \n",
       "    </tr>    <tr> \n",
       "        <th id=\"T_e74d6f9a_a595_11e8_922d_3a005990a201level0_row14\" class=\"row_heading level0 row14\" >ATL</th> \n",
       "        <td id=\"T_e74d6f9a_a595_11e8_922d_3a005990a201row14_col0\" class=\"data row14 col0\" >$137,339,527</td> \n",
       "    </tr>    <tr> \n",
       "        <th id=\"T_e74d6f9a_a595_11e8_922d_3a005990a201level0_row15\" class=\"row_heading level0 row15\" >KC</th> \n",
       "        <td id=\"T_e74d6f9a_a595_11e8_922d_3a005990a201row15_col0\" class=\"data row15 col0\" >$132,091,916</td> \n",
       "    </tr>    <tr> \n",
       "        <th id=\"T_e74d6f9a_a595_11e8_922d_3a005990a201level0_row16\" class=\"row_heading level0 row16\" >HOU</th> \n",
       "        <td id=\"T_e74d6f9a_a595_11e8_922d_3a005990a201row16_col0\" class=\"data row16 col0\" >$127,443,900</td> \n",
       "    </tr>    <tr> \n",
       "        <th id=\"T_e74d6f9a_a595_11e8_922d_3a005990a201level0_row17\" class=\"row_heading level0 row17\" >CLE</th> \n",
       "        <td id=\"T_e74d6f9a_a595_11e8_922d_3a005990a201row17_col0\" class=\"data row17 col0\" >$115,991,166</td> \n",
       "    </tr>    <tr> \n",
       "        <th id=\"T_e74d6f9a_a595_11e8_922d_3a005990a201level0_row18\" class=\"row_heading level0 row18\" >MIA</th> \n",
       "        <td id=\"T_e74d6f9a_a595_11e8_922d_3a005990a201row18_col0\" class=\"data row18 col0\" >$115,348,302</td> \n",
       "    </tr>    <tr> \n",
       "        <th id=\"T_e74d6f9a_a595_11e8_922d_3a005990a201level0_row19\" class=\"row_heading level0 row19\" >CWS</th> \n",
       "        <td id=\"T_e74d6f9a_a595_11e8_922d_3a005990a201row19_col0\" class=\"data row19 col0\" >$109,591,167</td> \n",
       "    </tr>    <tr> \n",
       "        <th id=\"T_e74d6f9a_a595_11e8_922d_3a005990a201level0_row20\" class=\"row_heading level0 row20\" >COL</th> \n",
       "        <td id=\"T_e74d6f9a_a595_11e8_922d_3a005990a201row20_col0\" class=\"data row20 col0\" >$101,513,571</td> \n",
       "    </tr>    <tr> \n",
       "        <th id=\"T_e74d6f9a_a595_11e8_922d_3a005990a201level0_row21\" class=\"row_heading level0 row21\" >MIN</th> \n",
       "        <td id=\"T_e74d6f9a_a595_11e8_922d_3a005990a201row21_col0\" class=\"data row21 col0\" >$100,787,500</td> \n",
       "    </tr>    <tr> \n",
       "        <th id=\"T_e74d6f9a_a595_11e8_922d_3a005990a201level0_row22\" class=\"row_heading level0 row22\" >PIT</th> \n",
       "        <td id=\"T_e74d6f9a_a595_11e8_922d_3a005990a201row22_col0\" class=\"data row22 col0\" >$94,637,833</td> \n",
       "    </tr>    <tr> \n",
       "        <th id=\"T_e74d6f9a_a595_11e8_922d_3a005990a201level0_row23\" class=\"row_heading level0 row23\" >ARI</th> \n",
       "        <td id=\"T_e74d6f9a_a595_11e8_922d_3a005990a201row23_col0\" class=\"data row23 col0\" >$90,730,499</td> \n",
       "    </tr>    <tr> \n",
       "        <th id=\"T_e74d6f9a_a595_11e8_922d_3a005990a201level0_row24\" class=\"row_heading level0 row24\" >PHI</th> \n",
       "        <td id=\"T_e74d6f9a_a595_11e8_922d_3a005990a201row24_col0\" class=\"data row24 col0\" >$87,418,378</td> \n",
       "    </tr>    <tr> \n",
       "        <th id=\"T_e74d6f9a_a595_11e8_922d_3a005990a201level0_row25\" class=\"row_heading level0 row25\" >CIN</th> \n",
       "        <td id=\"T_e74d6f9a_a595_11e8_922d_3a005990a201row25_col0\" class=\"data row25 col0\" >$82,375,785</td> \n",
       "    </tr>    <tr> \n",
       "        <th id=\"T_e74d6f9a_a595_11e8_922d_3a005990a201level0_row26\" class=\"row_heading level0 row26\" >OAK</th> \n",
       "        <td id=\"T_e74d6f9a_a595_11e8_922d_3a005990a201row26_col0\" class=\"data row26 col0\" >$70,601,667</td> \n",
       "    </tr>    <tr> \n",
       "        <th id=\"T_e74d6f9a_a595_11e8_922d_3a005990a201level0_row27\" class=\"row_heading level0 row27\" >TB</th> \n",
       "        <td id=\"T_e74d6f9a_a595_11e8_922d_3a005990a201row27_col0\" class=\"data row27 col0\" >$69,982,520</td> \n",
       "    </tr>    <tr> \n",
       "        <th id=\"T_e74d6f9a_a595_11e8_922d_3a005990a201level0_row28\" class=\"row_heading level0 row28\" >MIL</th> \n",
       "        <td id=\"T_e74d6f9a_a595_11e8_922d_3a005990a201row28_col0\" class=\"data row28 col0\" >$61,020,089</td> \n",
       "    </tr>    <tr> \n",
       "        <th id=\"T_e74d6f9a_a595_11e8_922d_3a005990a201level0_row29\" class=\"row_heading level0 row29\" >SD</th> \n",
       "        <td id=\"T_e74d6f9a_a595_11e8_922d_3a005990a201row29_col0\" class=\"data row29 col0\" >$34,574,400</td> \n",
       "    </tr></tbody> \n",
       "</table> "
      ],
      "text/plain": [
       "<pandas.io.formats.style.Styler at 0x10bab3978>"
      ]
     },
     "execution_count": 55,
     "metadata": {},
     "output_type": "execute_result"
    }
   ],
   "source": [
    "grouped.style.format(\n",
    "    {'SALARY': '${:,}'.format}\n",
    ")"
   ]
  }
 ],
 "metadata": {
  "kernelspec": {
   "display_name": "Python 3",
   "language": "python",
   "name": "python3"
  },
  "language_info": {
   "codemirror_mode": {
    "name": "ipython",
    "version": 3
   },
   "file_extension": ".py",
   "mimetype": "text/x-python",
   "name": "python",
   "nbconvert_exporter": "python",
   "pygments_lexer": "ipython3",
   "version": "3.7.0"
  }
 },
 "nbformat": 4,
 "nbformat_minor": 2
}
