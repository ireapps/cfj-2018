{
 "cells": [
  {
   "cell_type": "markdown",
   "metadata": {},
   "source": [
    "# Extract data from a PDF\n",
    "\n",
    "The PDF we'll be working with today is [a list of licensed debt collectors in Colorado](https://coag.gov/sites/default/files/contentuploads/cp/ConsumerCreditUnit/InternetReports/carreport_0.pdf).\n",
    "\n",
    "The file lives at `../pdfs/collections.pdf`. The data start on page 2, and the table on each page has headers.\n",
    "\n",
    "We're going to use a really cool tool called [`pdfplumber`](https://github.com/jsvine/pdfplumber) to extract the data.\n",
    "\n",
    "Our steps:\n",
    "1. Import dependencies\n",
    "2. Open the PDF and noodle around\n",
    "3. Create an empty data frame and specify the columns\n",
    "4. Create a function to extract data from a single PDF page and return a data frame\n",
    "5. Loop over the pages and call the function on each page\n",
    "6. Clean up the data a bit\n",
    "7. Do one quick bit of basic analysis in pandas"
   ]
  },
  {
   "cell_type": "markdown",
   "metadata": {},
   "source": [
    "# 1. Import dependencies"
   ]
  },
  {
   "cell_type": "code",
   "execution_count": 1,
   "metadata": {},
   "outputs": [],
   "source": [
    "import pdfplumber\n",
    "import pandas as pd"
   ]
  },
  {
   "cell_type": "markdown",
   "metadata": {},
   "source": [
    "## 2. Open the PDF and noodle around\n",
    "\n",
    "Using `pdfplumber`'s syntax to open a file, let's see what's on the first page, see if we can extract a table, etc."
   ]
  },
  {
   "cell_type": "code",
   "execution_count": 6,
   "metadata": {},
   "outputs": [
    {
     "name": "stdout",
     "output_type": "stream",
     "text": [
      "[['Original  Cancel/\\nLicensed Instate Mailing License  License  Revoke \\nBusiness/Trade Name Location Location Location Number Date Status Date Action', None, None, None, None, None, None, None, None], ['1ST CREDIT OF AMERICA LLC', '300 N ELIZABETH ST STE 220-B\\nCHICAGO, IL 60607', '3025 S PARKER RD STE 711\\nAURORA, CO 80014', '300 N ELIZABETH ST STE 220-B\\nCHICAGO, IL 60607', '988412', '2/20/2004', 'C', '5/15/2007', 'Yes'], ['1ST NATIONAL RECOVERY \\nSOLUTIONS LLC', '5497 BROADWAY ST\\nLANCASTER, NY 14086', '600 17TH ST STE 800 NORTH\\nDENVER, CO 80202', '5497 BROADWAY ST\\nLANCASTER, NY 14086', '989708', '8/15/2007', 'E', '3/8/2010', ''], ['1ST NATIONWIDE \\nCOLLECTION AGENCY INC', '3760 CALLE TECATE STE B\\nCAMARILLO, CA 93012', '3025 S PARKER RD STE 711\\nAURORA, CO 80014', 'PO BOX 1418\\nCAMARILLO, CA 93011-1418', '989591', '3/6/2007', 'C', '11/12/2008', ''], ['21ST MORTGAGE \\nCORPORATION', '620 MARKET ST\\nKNOXVILLE, TN 37902', '3455 W SERVICE RD\\nEVANS, CO 80620', 'PO BOX 477\\nKNOXVILLE, TN 37901-0477', '991831', '4/16/2013', 'A', 'Active', ''], ['24 ASSET MANAGEMENT \\nCORP', '2020 CAMINO DEL RIO N STE 900\\nSAN DIEGO, CA 92108', '80 GARDEN CTR STE 3\\nBROOMFIELD, CO 80020', '2020 CAMINO DEL RIO N STE \\n900\\nSAN DIEGO, CA 92108', '990402', '11/13/2009', 'C', '1/6/2016', ''], ['245 HOLDINGS LLC', '8000 AVALON 2660 MILTON \\nPKWY STE 810\\nALPHARETTA, GA 30009', '80 GARDEN CTR BLDG B, STE 3\\nBROOMFIELD, CO 80020', '8000 AVALON 2660 MILTON \\nPKWY STE 810\\nALPHARETTA, GA 30009', '990954', '3/8/2010', 'A', 'Active', ''], ['36K LLC', '7853 E ARAPAHOE CT STE 2900\\nCENTENNIAL, CO 80112', '7853 E ARAPAHOE CT STE 2900\\nCENTENNIAL, CO 80112', '7853 E ARAPAHOE CT STE \\n2900\\nCENTENNIAL, CO 80112', '990134', '1/30/2009', 'C', '7/1/2014', ''], ['3POINT REAL ESTATE \\nSOLUTIONS LLC', '7505 IRVINE CENTER DR STE \\n200\\nIRVINE, CA 92618', '3025 S PARKER RD STE 705\\nAURORA, CO 80014', '7505 IRVINE CENTER DR STE \\n200\\nIRVINE, CA 92618', '991736', '10/31/2012', 'C', '10/24/2014', ''], ['A & S COLLECTION \\nASSOCIATES INC', '4480 W PEORIA STE 204\\nGLENDALE, AZ 85302', '600 17TH ST STE 800 N\\nDENVER, CO 80202', 'PO BOX 395\\nWILLIAMSTOWN, VT 05679', '989372', '6/12/2006', 'E', '7/2/2008', 'Yes'], ['A & S COLLECTION \\nASSOCIATES INC', '10410 N 31ST AVE STE 401\\nPHOENIX, AZ 85051', '600 17TH ST STE 800 NORTH\\nDENVER, CO 80202-5442', 'PO BOX 395\\nWILLIAMSTOWN, VT 05679', '988358', '12/15/2003', 'E', '7/2/2005', 'Yes'], ['A + JUDGMENT RECOVERY \\nLLC', '8857 S PARTRIDGE ST PO BOX \\n260681\\nLITTLETON, CO 80126', '8857 S PARTRIDGE ST PO BOX \\n260681\\nLITTLETON, CO 80126', 'PO BOX 260681\\nHIGHLANDS RANCH, CO 80163-\\n0681', '988024', '9/6/2002', 'C', '7/1/2004', ''], ['A BENTLEY & ASSOCIATES \\nINC', '1100 E COLFAX AVE\\nDENVER, CO 80218', 'DENVER, CO 80218', 'PO BOX 18188\\nDENVER, CO 80218', '101627', '9/5/1997', 'C', '7/26/1999', 'Yes']]\n"
     ]
    }
   ],
   "source": [
    "with pdfplumber.open('../pdfs/collections.pdf') as pdf:\n",
    "    # print(pdf)\n",
    "    # print(pdf.pages)\n",
    "    test = pdf.pages[1]\n",
    "    table = test.extract_table()\n",
    "    print(table)"
   ]
  },
  {
   "cell_type": "markdown",
   "metadata": {},
   "source": [
    "## 3. Create an empty data frame and define the columns\n",
    "\n",
    "We're going to create an empty data frame. By looking at the source PDF, we can also define its column headers."
   ]
  },
  {
   "cell_type": "code",
   "execution_count": 7,
   "metadata": {},
   "outputs": [],
   "source": [
    "cols = ['bizname', 'license_loc', 'instate_loc', 'mailing_loc',\n",
    "        'license_no', 'lic_date', 'status', 'cr_date', 'action']\n",
    "\n",
    "df = pd.DataFrame(columns=cols)"
   ]
  },
  {
   "cell_type": "markdown",
   "metadata": {},
   "source": [
    "## 4. Create a function to extract data from a single PDF page\n",
    "\n",
    "This function will be called on every PDF page we hand it. Its job is simple: Take a `pdfplumber.Page` object, extract the table and return the data in a data frame with the same headers as the empty one we just created.\n",
    "\n",
    "👉 For more details on writing your own functions, [see this notebook](../reference/Functions.ipynb)."
   ]
  },
  {
   "cell_type": "code",
   "execution_count": 11,
   "metadata": {},
   "outputs": [],
   "source": [
    "def page_to_df(page):\n",
    "    \n",
    "    # find the table on the page and extract the data\n",
    "    table = page.extract_table()\n",
    "    \n",
    "    # grab all rows in the table except for the first one,\n",
    "    # which is the header row\n",
    "    lines = table[1:]\n",
    "    \n",
    "    # return the data in a data frame\n",
    "    return pd.DataFrame(lines, columns=cols)"
   ]
  },
  {
   "cell_type": "markdown",
   "metadata": {},
   "source": [
    "## 5. Loop over the pages and call the function on each page\n",
    "\n",
    "As we extract the data from each page, we'll append the data frame returned by our function to the empty data frame (`df`) that we created earlier. This code block takes a little while to run."
   ]
  },
  {
   "cell_type": "code",
   "execution_count": 12,
   "metadata": {},
   "outputs": [],
   "source": [
    "# open the PDF\n",
    "with pdfplumber.open('../pdfs/collections.pdf') as pdf:\n",
    "    \n",
    "    # skip the first page, which doesn't have a data table\n",
    "    pages_with_data = pdf.pages[1:]\n",
    "    \n",
    "    # loop over the pages with data\n",
    "    for page in pages_with_data:\n",
    "        \n",
    "        # call the extraction function to grab the data from this page\n",
    "        df_to_append = page_to_df(page)\n",
    "        \n",
    "        # append it to our main dataframe, chopping off the index column\n",
    "        df = df.append(df_to_append, ignore_index=True)"
   ]
  },
  {
   "cell_type": "markdown",
   "metadata": {},
   "source": [
    "Before we continue, let's take a look at what we've got using the pandas `head()` method."
   ]
  },
  {
   "cell_type": "code",
   "execution_count": 13,
   "metadata": {},
   "outputs": [
    {
     "data": {
      "text/html": [
       "<div>\n",
       "<style scoped>\n",
       "    .dataframe tbody tr th:only-of-type {\n",
       "        vertical-align: middle;\n",
       "    }\n",
       "\n",
       "    .dataframe tbody tr th {\n",
       "        vertical-align: top;\n",
       "    }\n",
       "\n",
       "    .dataframe thead th {\n",
       "        text-align: right;\n",
       "    }\n",
       "</style>\n",
       "<table border=\"1\" class=\"dataframe\">\n",
       "  <thead>\n",
       "    <tr style=\"text-align: right;\">\n",
       "      <th></th>\n",
       "      <th>bizname</th>\n",
       "      <th>license_loc</th>\n",
       "      <th>instate_loc</th>\n",
       "      <th>mailing_loc</th>\n",
       "      <th>license_no</th>\n",
       "      <th>lic_date</th>\n",
       "      <th>status</th>\n",
       "      <th>cr_date</th>\n",
       "      <th>action</th>\n",
       "    </tr>\n",
       "  </thead>\n",
       "  <tbody>\n",
       "    <tr>\n",
       "      <th>0</th>\n",
       "      <td>1ST CREDIT OF AMERICA LLC</td>\n",
       "      <td>300 N ELIZABETH ST STE 220-B\\nCHICAGO, IL 60607</td>\n",
       "      <td>3025 S PARKER RD STE 711\\nAURORA, CO 80014</td>\n",
       "      <td>300 N ELIZABETH ST STE 220-B\\nCHICAGO, IL 60607</td>\n",
       "      <td>988412</td>\n",
       "      <td>2/20/2004</td>\n",
       "      <td>C</td>\n",
       "      <td>5/15/2007</td>\n",
       "      <td>Yes</td>\n",
       "    </tr>\n",
       "    <tr>\n",
       "      <th>1</th>\n",
       "      <td>1ST NATIONAL RECOVERY \\nSOLUTIONS LLC</td>\n",
       "      <td>5497 BROADWAY ST\\nLANCASTER, NY 14086</td>\n",
       "      <td>600 17TH ST STE 800 NORTH\\nDENVER, CO 80202</td>\n",
       "      <td>5497 BROADWAY ST\\nLANCASTER, NY 14086</td>\n",
       "      <td>989708</td>\n",
       "      <td>8/15/2007</td>\n",
       "      <td>E</td>\n",
       "      <td>3/8/2010</td>\n",
       "      <td></td>\n",
       "    </tr>\n",
       "    <tr>\n",
       "      <th>2</th>\n",
       "      <td>1ST NATIONWIDE \\nCOLLECTION AGENCY INC</td>\n",
       "      <td>3760 CALLE TECATE STE B\\nCAMARILLO, CA 93012</td>\n",
       "      <td>3025 S PARKER RD STE 711\\nAURORA, CO 80014</td>\n",
       "      <td>PO BOX 1418\\nCAMARILLO, CA 93011-1418</td>\n",
       "      <td>989591</td>\n",
       "      <td>3/6/2007</td>\n",
       "      <td>C</td>\n",
       "      <td>11/12/2008</td>\n",
       "      <td></td>\n",
       "    </tr>\n",
       "    <tr>\n",
       "      <th>3</th>\n",
       "      <td>21ST MORTGAGE \\nCORPORATION</td>\n",
       "      <td>620 MARKET ST\\nKNOXVILLE, TN 37902</td>\n",
       "      <td>3455 W SERVICE RD\\nEVANS, CO 80620</td>\n",
       "      <td>PO BOX 477\\nKNOXVILLE, TN 37901-0477</td>\n",
       "      <td>991831</td>\n",
       "      <td>4/16/2013</td>\n",
       "      <td>A</td>\n",
       "      <td>Active</td>\n",
       "      <td></td>\n",
       "    </tr>\n",
       "    <tr>\n",
       "      <th>4</th>\n",
       "      <td>24 ASSET MANAGEMENT \\nCORP</td>\n",
       "      <td>2020 CAMINO DEL RIO N STE 900\\nSAN DIEGO, CA 9...</td>\n",
       "      <td>80 GARDEN CTR STE 3\\nBROOMFIELD, CO 80020</td>\n",
       "      <td>2020 CAMINO DEL RIO N STE \\n900\\nSAN DIEGO, CA...</td>\n",
       "      <td>990402</td>\n",
       "      <td>11/13/2009</td>\n",
       "      <td>C</td>\n",
       "      <td>1/6/2016</td>\n",
       "      <td></td>\n",
       "    </tr>\n",
       "  </tbody>\n",
       "</table>\n",
       "</div>"
      ],
      "text/plain": [
       "                                  bizname  \\\n",
       "0               1ST CREDIT OF AMERICA LLC   \n",
       "1   1ST NATIONAL RECOVERY \\nSOLUTIONS LLC   \n",
       "2  1ST NATIONWIDE \\nCOLLECTION AGENCY INC   \n",
       "3             21ST MORTGAGE \\nCORPORATION   \n",
       "4              24 ASSET MANAGEMENT \\nCORP   \n",
       "\n",
       "                                         license_loc  \\\n",
       "0    300 N ELIZABETH ST STE 220-B\\nCHICAGO, IL 60607   \n",
       "1              5497 BROADWAY ST\\nLANCASTER, NY 14086   \n",
       "2       3760 CALLE TECATE STE B\\nCAMARILLO, CA 93012   \n",
       "3                 620 MARKET ST\\nKNOXVILLE, TN 37902   \n",
       "4  2020 CAMINO DEL RIO N STE 900\\nSAN DIEGO, CA 9...   \n",
       "\n",
       "                                   instate_loc  \\\n",
       "0   3025 S PARKER RD STE 711\\nAURORA, CO 80014   \n",
       "1  600 17TH ST STE 800 NORTH\\nDENVER, CO 80202   \n",
       "2   3025 S PARKER RD STE 711\\nAURORA, CO 80014   \n",
       "3           3455 W SERVICE RD\\nEVANS, CO 80620   \n",
       "4    80 GARDEN CTR STE 3\\nBROOMFIELD, CO 80020   \n",
       "\n",
       "                                         mailing_loc license_no    lic_date  \\\n",
       "0    300 N ELIZABETH ST STE 220-B\\nCHICAGO, IL 60607     988412   2/20/2004   \n",
       "1              5497 BROADWAY ST\\nLANCASTER, NY 14086     989708   8/15/2007   \n",
       "2              PO BOX 1418\\nCAMARILLO, CA 93011-1418     989591    3/6/2007   \n",
       "3               PO BOX 477\\nKNOXVILLE, TN 37901-0477     991831   4/16/2013   \n",
       "4  2020 CAMINO DEL RIO N STE \\n900\\nSAN DIEGO, CA...     990402  11/13/2009   \n",
       "\n",
       "  status     cr_date action  \n",
       "0      C   5/15/2007    Yes  \n",
       "1      E    3/8/2010         \n",
       "2      C  11/12/2008         \n",
       "3      A      Active         \n",
       "4      C    1/6/2016         "
      ]
     },
     "execution_count": 13,
     "metadata": {},
     "output_type": "execute_result"
    }
   ],
   "source": [
    "df.head()"
   ]
  },
  {
   "cell_type": "markdown",
   "metadata": {},
   "source": [
    "I notice two things:\n",
    "- `\\n` newline breaks are being interpreted literally as text -- let's globally replace those\n",
    "- The license date is coming in as a string, not a date, and we might be interested in doing some date filtering later -- let's coerce those values to date objects"
   ]
  },
  {
   "cell_type": "markdown",
   "metadata": {},
   "source": [
    "## 6. Clean up the data a bit"
   ]
  },
  {
   "cell_type": "code",
   "execution_count": 14,
   "metadata": {},
   "outputs": [],
   "source": [
    "# kill line breaks\n",
    "df.replace('\\n', ' ', inplace=True, regex=True)\n",
    "\n",
    "# coerce license date col to datetime and sort descending\n",
    "df.lic_date = pd.to_datetime(df.lic_date, errors='coerce')\n",
    "df = df.sort_values('lic_date', ascending=False)"
   ]
  },
  {
   "cell_type": "code",
   "execution_count": 15,
   "metadata": {},
   "outputs": [
    {
     "data": {
      "text/html": [
       "<div>\n",
       "<style scoped>\n",
       "    .dataframe tbody tr th:only-of-type {\n",
       "        vertical-align: middle;\n",
       "    }\n",
       "\n",
       "    .dataframe tbody tr th {\n",
       "        vertical-align: top;\n",
       "    }\n",
       "\n",
       "    .dataframe thead th {\n",
       "        text-align: right;\n",
       "    }\n",
       "</style>\n",
       "<table border=\"1\" class=\"dataframe\">\n",
       "  <thead>\n",
       "    <tr style=\"text-align: right;\">\n",
       "      <th></th>\n",
       "      <th>bizname</th>\n",
       "      <th>license_loc</th>\n",
       "      <th>instate_loc</th>\n",
       "      <th>mailing_loc</th>\n",
       "      <th>license_no</th>\n",
       "      <th>lic_date</th>\n",
       "      <th>status</th>\n",
       "      <th>cr_date</th>\n",
       "      <th>action</th>\n",
       "    </tr>\n",
       "  </thead>\n",
       "  <tbody>\n",
       "    <tr>\n",
       "      <th>2192</th>\n",
       "      <td>TITANIUM FINANCIAL  SOLUTIONS LLC</td>\n",
       "      <td>3000 S JAMAICA CT STE 355 AURORA, CO 80014</td>\n",
       "      <td>3000 S JAMAICA CT STE 355 AURORA, CO 80014</td>\n",
       "      <td>PO BOX 372130 DENVER, CO 80237</td>\n",
       "      <td>993201</td>\n",
       "      <td>2018-03-06</td>\n",
       "      <td>A</td>\n",
       "      <td>Active</td>\n",
       "      <td></td>\n",
       "    </tr>\n",
       "    <tr>\n",
       "      <th>1847</th>\n",
       "      <td>RCS CAPITAL PARTNERS INC</td>\n",
       "      <td>270 NORTHPOINTE PKWY STE  40 AMHERST, NY 14228</td>\n",
       "      <td>7200 S ALTON WAY STE B180 DENVER, CO 80112</td>\n",
       "      <td>270 NORTHPOINTE PKWY STE  40 AMHERST, NY 14228</td>\n",
       "      <td>993200</td>\n",
       "      <td>2018-03-06</td>\n",
       "      <td>A</td>\n",
       "      <td>Active</td>\n",
       "      <td></td>\n",
       "    </tr>\n",
       "    <tr>\n",
       "      <th>1278</th>\n",
       "      <td>KINUM INC</td>\n",
       "      <td>800 SEAHAWK CIR STE 124 VIRGINIA BEACH, VA 23452</td>\n",
       "      <td>27 N WILLERUP STE B MONTROSE, CO 81401</td>\n",
       "      <td>2133 UPTON DR STE 126-129 VIRGINIA BEACH, VA 2...</td>\n",
       "      <td>993199</td>\n",
       "      <td>2018-03-06</td>\n",
       "      <td>A</td>\n",
       "      <td>Active</td>\n",
       "      <td>Yes</td>\n",
       "    </tr>\n",
       "    <tr>\n",
       "      <th>1716</th>\n",
       "      <td>PERFECTION COLLECTION  LLC</td>\n",
       "      <td>313 E 1200 S STE 102 OREM, UT 84058</td>\n",
       "      <td>27 N WILLERUP STE B MONTROSE, CO 81401</td>\n",
       "      <td>313 E 1200 S STE 102 OREM, UT 84058</td>\n",
       "      <td>993194</td>\n",
       "      <td>2018-02-26</td>\n",
       "      <td>A</td>\n",
       "      <td>Active</td>\n",
       "      <td>Yes</td>\n",
       "    </tr>\n",
       "    <tr>\n",
       "      <th>1974</th>\n",
       "      <td>RONEN LLC</td>\n",
       "      <td>2003 WESTERN AVE STE 340 SEATTLE, WA 98121</td>\n",
       "      <td>80 GARDEN CTR BLDG B, STE 3 BROOMFIELD, CO 80020</td>\n",
       "      <td>2003 WESTERN AVE STE 340 SEATTLE, WA 98121</td>\n",
       "      <td>993195</td>\n",
       "      <td>2018-02-26</td>\n",
       "      <td>A</td>\n",
       "      <td>Active</td>\n",
       "      <td></td>\n",
       "    </tr>\n",
       "  </tbody>\n",
       "</table>\n",
       "</div>"
      ],
      "text/plain": [
       "                                bizname  \\\n",
       "2192  TITANIUM FINANCIAL  SOLUTIONS LLC   \n",
       "1847           RCS CAPITAL PARTNERS INC   \n",
       "1278                          KINUM INC   \n",
       "1716         PERFECTION COLLECTION  LLC   \n",
       "1974                          RONEN LLC   \n",
       "\n",
       "                                           license_loc  \\\n",
       "2192        3000 S JAMAICA CT STE 355 AURORA, CO 80014   \n",
       "1847    270 NORTHPOINTE PKWY STE  40 AMHERST, NY 14228   \n",
       "1278  800 SEAHAWK CIR STE 124 VIRGINIA BEACH, VA 23452   \n",
       "1716               313 E 1200 S STE 102 OREM, UT 84058   \n",
       "1974        2003 WESTERN AVE STE 340 SEATTLE, WA 98121   \n",
       "\n",
       "                                           instate_loc  \\\n",
       "2192        3000 S JAMAICA CT STE 355 AURORA, CO 80014   \n",
       "1847        7200 S ALTON WAY STE B180 DENVER, CO 80112   \n",
       "1278            27 N WILLERUP STE B MONTROSE, CO 81401   \n",
       "1716            27 N WILLERUP STE B MONTROSE, CO 81401   \n",
       "1974  80 GARDEN CTR BLDG B, STE 3 BROOMFIELD, CO 80020   \n",
       "\n",
       "                                            mailing_loc license_no   lic_date  \\\n",
       "2192                     PO BOX 372130 DENVER, CO 80237     993201 2018-03-06   \n",
       "1847     270 NORTHPOINTE PKWY STE  40 AMHERST, NY 14228     993200 2018-03-06   \n",
       "1278  2133 UPTON DR STE 126-129 VIRGINIA BEACH, VA 2...     993199 2018-03-06   \n",
       "1716                313 E 1200 S STE 102 OREM, UT 84058     993194 2018-02-26   \n",
       "1974         2003 WESTERN AVE STE 340 SEATTLE, WA 98121     993195 2018-02-26   \n",
       "\n",
       "     status cr_date action  \n",
       "2192      A  Active         \n",
       "1847      A  Active         \n",
       "1278      A  Active    Yes  \n",
       "1716      A  Active    Yes  \n",
       "1974      A  Active         "
      ]
     },
     "execution_count": 15,
     "metadata": {},
     "output_type": "execute_result"
    }
   ],
   "source": [
    "df.head()"
   ]
  },
  {
   "cell_type": "markdown",
   "metadata": {},
   "source": [
    "## 7. Do some basic analysis\n",
    "\n",
    "Let's get a feel for how many records there are and figure out how many of debt collectors have been subject to some kind of \"action.\"\n",
    "\n",
    "According to the Colorado Attorney General (see page 1 of the PDF), the presence of \"Yes\" in the \"action\" column means that the company has been\n",
    "\n",
    "> subject to legal or administrative action by this office or the licensee entered into a voluntary settlement with this office. If the entry is \"yes,\" the licensee may have been subject to one or more letters of admonition, suspension of the license, a judgment or order against the licensee, or other action, including payments (fines, penalties, consumer refunds, or other monetary payments.) Additionally, \"yes\" may mean that the licensee's records include a voluntary settlement or stipulation with this office. If a licensee has been disciplined, it might still retain its license. Actions and settlements are matters of public record although research, copying, and mailing costs may apply. Contact this office for more information.\n",
    "\n",
    "Let's write _an entire journalism sentence_ using math and some [string formatting](../reference/String%20formatting.ipynb). We're going to report the number of debt collectors who've faced some form of legal or administrative action, and the percentage of the total that represents.\n",
    "\n",
    "Let's do the math up front:"
   ]
  },
  {
   "cell_type": "code",
   "execution_count": 16,
   "metadata": {},
   "outputs": [],
   "source": [
    "# how many records are there, total?\n",
    "record_count = len(df)\n",
    "\n",
    "# let's filter to get just the collectors who've had some action taken against them\n",
    "action = df[df.action == 'Yes']\n",
    "\n",
    "# how many of those are there?\n",
    "action_count = len(action)\n",
    "\n",
    "# calculate the percentage of the whole\n",
    "pct_whole = (action_count / record_count) * 100"
   ]
  },
  {
   "cell_type": "markdown",
   "metadata": {},
   "source": [
    "... and now we can formulate a sentence."
   ]
  },
  {
   "cell_type": "code",
   "execution_count": 19,
   "metadata": {},
   "outputs": [
    {
     "name": "stdout",
     "output_type": "stream",
     "text": [
      "Of 2,402 licensed debt collectors in Colorado, 687 (28.60%) have been subject to some form of legal or administrative action, according to an analysis of Colorado Secretary of State data.\n"
     ]
    }
   ],
   "source": [
    "# write out our formatted sentence using an f-string\n",
    "story_sentence = f'Of {record_count:,} licensed debt collectors in Colorado, {action_count:,} ({pct_whole:0.2f}%) have been subject to some form of legal or administrative action, according to an analysis of Colorado Secretary of State data.'\n",
    "\n",
    "print(story_sentence)"
   ]
  },
  {
   "cell_type": "code",
   "execution_count": 36,
   "metadata": {},
   "outputs": [],
   "source": [
    "# what else?"
   ]
  }
 ],
 "metadata": {
  "kernelspec": {
   "display_name": "Python 3",
   "language": "python",
   "name": "python3"
  },
  "language_info": {
   "codemirror_mode": {
    "name": "ipython",
    "version": 3
   },
   "file_extension": ".py",
   "mimetype": "text/x-python",
   "name": "python",
   "nbconvert_exporter": "python",
   "pygments_lexer": "ipython3",
   "version": "3.7.0"
  }
 },
 "nbformat": 4,
 "nbformat_minor": 2
}
