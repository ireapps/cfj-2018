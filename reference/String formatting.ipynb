{
 "cells": [
  {
   "cell_type": "markdown",
   "metadata": {},
   "source": [
    "# String formatting\n",
    "\n",
    "In many of the scripts in this series of lessons, you'll see something like this:\n",
    "\n",
    "```python\n",
    "msg_tmp = 'Hello, {}!'\n",
    "print(msg_tmp.format('Cody'))\n",
    "# => \"Hello, Cody!\"\n",
    "```\n",
    "\n",
    "Notice two things: the curly brackets `{}`, which is a placeholder, and the `.format()` method, which is where you specify what values should replace the curly bracket placeholders.\n",
    "\n",
    "This is Python's built-in string formatting specification, and it's really handy for creating text templates. Here's another example:"
   ]
  },
  {
   "cell_type": "code",
   "execution_count": 1,
   "metadata": {},
   "outputs": [],
   "source": [
    "greeting = 'Hello, my name is {}. I am {} years old, and I live in {}.'"
   ]
  },
  {
   "cell_type": "code",
   "execution_count": 2,
   "metadata": {},
   "outputs": [],
   "source": [
    "my_name = 'Cody'\n",
    "my_age = 33\n",
    "my_state = 'Colorado'"
   ]
  },
  {
   "cell_type": "code",
   "execution_count": 3,
   "metadata": {},
   "outputs": [
    {
     "name": "stdout",
     "output_type": "stream",
     "text": [
      "Hello, my name is Cody. I am 33 years old, and I live in Colorado.\n"
     ]
    }
   ],
   "source": [
    "print(greeting.format(my_name, my_age, my_state))"
   ]
  },
  {
   "cell_type": "markdown",
   "metadata": {},
   "source": [
    "When you use `format()` like this, _order matters_. Check out what happens when we switch it up:"
   ]
  },
  {
   "cell_type": "code",
   "execution_count": 4,
   "metadata": {},
   "outputs": [
    {
     "name": "stdout",
     "output_type": "stream",
     "text": [
      "Hello, my name is 33. I am Colorado years old, and I live in Cody.\n"
     ]
    }
   ],
   "source": [
    "print(greeting.format(my_age, my_state, my_name))"
   ]
  },
  {
   "cell_type": "markdown",
   "metadata": {},
   "source": [
    "### Using keywords instead\n",
    "\n",
    "In the same way that dictionaries and lists [have a different way of accessing bits of data](Python%20data%20types%20and%20basic%20syntax.ipynb#Collections-of-data) -- indexing by position versus indexing by keyword -- you can use position-based formatting or keyword-based formatting. Here's an example:"
   ]
  },
  {
   "cell_type": "code",
   "execution_count": 1,
   "metadata": {},
   "outputs": [],
   "source": [
    "mad_lib = 'The {noun} went to {city} and {past_tense_verb} for hours.'"
   ]
  },
  {
   "cell_type": "code",
   "execution_count": 4,
   "metadata": {},
   "outputs": [],
   "source": [
    "my_noun = 'kumquat'\n",
    "my_city = 'Pittsburgh'\n",
    "my_verb = 'spoke'"
   ]
  },
  {
   "cell_type": "code",
   "execution_count": 5,
   "metadata": {},
   "outputs": [
    {
     "name": "stdout",
     "output_type": "stream",
     "text": [
      "The kumquat went to Pittsburgh and spoke for hours.\n"
     ]
    }
   ],
   "source": [
    "my_sentence = mad_lib.format(noun=my_noun,\n",
    "                             city=my_city,\n",
    "                             past_tense_verb=my_verb)\n",
    "\n",
    "print(my_sentence)"
   ]
  },
  {
   "cell_type": "markdown",
   "metadata": {},
   "source": [
    "I prefer this approach because I find it easier to keep track of what's going on -- it's more explicit -- but it's largely a matter of preference, and in some circumstances the other approach might make more sense."
   ]
  },
  {
   "cell_type": "markdown",
   "metadata": {},
   "source": [
    "### Let's start a chain of family-style restaurants\n",
    "\n",
    "We'll start with three employees."
   ]
  },
  {
   "cell_type": "code",
   "execution_count": 10,
   "metadata": {},
   "outputs": [],
   "source": [
    "employees = ['Bob', 'Barb', 'Dana']"
   ]
  },
  {
   "cell_type": "markdown",
   "metadata": {},
   "source": [
    "We are friendly folk, and we want to say hello to each of our employees. We _could_ do this:"
   ]
  },
  {
   "cell_type": "code",
   "execution_count": 14,
   "metadata": {},
   "outputs": [
    {
     "name": "stdout",
     "output_type": "stream",
     "text": [
      "Hello, Bob! Are you wearing the appropriate amount of flair?\n",
      "Hello, Barb! Are you wearing the appropriate amount of flair?\n",
      "Hello, Dana! Are you wearing the appropriate amount of flair?\n"
     ]
    }
   ],
   "source": [
    "print('Hello,', employees[0] + '! Are you wearing the appropriate amount of flair?')\n",
    "print('Hello,', employees[1] + '! Are you wearing the appropriate amount of flair?')\n",
    "print('Hello,', employees[2] + '! Are you wearing the appropriate amount of flair?')"
   ]
  },
  {
   "cell_type": "markdown",
   "metadata": {},
   "source": [
    "Everything about that makes me want to vomit forever. The basic problem: We aren't being lazy enough!\n",
    "\n",
    "First, we should be using a [`for loop`](Python%20data%20types%20and%20basic%20syntax.ipynb#for-loops) to burn through that list.\n",
    "\n",
    "Second, we should be using a template to construct our employee greeting."
   ]
  },
  {
   "cell_type": "code",
   "execution_count": 15,
   "metadata": {},
   "outputs": [
    {
     "name": "stdout",
     "output_type": "stream",
     "text": [
      "Hello, Bob! Are you wearing the appropriate amount of flair?\n",
      "Hello, Barb! Are you wearing the appropriate amount of flair?\n",
      "Hello, Dana! Are you wearing the appropriate amount of flair?\n"
     ]
    }
   ],
   "source": [
    "greet = 'Hello, {valued_employee}! Are you wearing the appropriate amount of flair?'\n",
    "\n",
    "for emp in employees:\n",
    "    print(greet.format(valued_employee=emp))"
   ]
  },
  {
   "cell_type": "markdown",
   "metadata": {},
   "source": [
    "_Much_ less typing for us, and it's extensible should we ever decide to hire more than three employees."
   ]
  },
  {
   "cell_type": "markdown",
   "metadata": {},
   "source": [
    "### Let's go nuts and loop over a list of dictionaries\n",
    "\n",
    "We've collected more data on our employees, including the number of pieces of flair on each of their suspenders, and we're storing this data as a list of dictionaries.\n",
    "\n",
    "While we're at it, let's use some conditional logic (an `if` statement) to give a hard time to employees who aren't giving us 110%.\n",
    "\n",
    "👉 Forget how `if` statements work? [Check this notebook](Python%20data%20types%20and%20basic%20syntax.ipynb#if-statements)."
   ]
  },
  {
   "cell_type": "code",
   "execution_count": 7,
   "metadata": {},
   "outputs": [],
   "source": [
    "employees = [\n",
    "    {'name': 'Bob', 'position': 'server', 'flair_pieces': 10},\n",
    "    {'name': 'Barb', 'position': 'hostess', 'flair_pieces': 3},\n",
    "    {'name': 'Dana', 'position': 'server', 'flair_pieces': 30},    \n",
    "]"
   ]
  },
  {
   "cell_type": "code",
   "execution_count": 8,
   "metadata": {},
   "outputs": [],
   "source": [
    "# it's in the employee handbook, folks\n",
    "FLAIR_MINIMUM = 10"
   ]
  },
  {
   "cell_type": "code",
   "execution_count": 9,
   "metadata": {},
   "outputs": [
    {
     "name": "stdout",
     "output_type": "stream",
     "text": [
      "Hello, Bob! Congratulations on doing the absolute minimum, SLACKER.\n",
      "Hello, Barb! WHY ARE YOU WEARING LESS THAN THE REQUIRED AMOUNT OF FLAIR.\n",
      "Hello, Dana! You are a valued member of this team. Expect a promotion soon!\n"
     ]
    }
   ],
   "source": [
    "greeting = 'Hello, {name}! {msg}'\n",
    "\n",
    "for emp in employees:\n",
    "    if emp['flair_pieces'] < FLAIR_MINIMUM:\n",
    "        print(greeting.format(name=emp['name'],\n",
    "                              msg='WHY ARE YOU WEARING LESS THAN THE REQUIRED AMOUNT OF FLAIR.'))\n",
    "    elif emp['flair_pieces'] == FLAIR_MINIMUM:\n",
    "        print(greeting.format(name=emp['name'],\n",
    "                              msg='Congratulations on doing the absolute minimum, SLACKER.'))\n",
    "    else:\n",
    "        print(greeting.format(name=emp['name'],\n",
    "                              msg='You are a valued member of this team. Expect a promotion soon!'))"
   ]
  },
  {
   "cell_type": "markdown",
   "metadata": {},
   "source": [
    "### Formatting numbers\n",
    "\n",
    "Just like in Excel, you can change the formatting of a piece of data for display purposes without changing the underlying data itself. Here are a couple of the more common recipes for formatting numbers:"
   ]
  },
  {
   "cell_type": "code",
   "execution_count": 11,
   "metadata": {},
   "outputs": [],
   "source": [
    "my_number = 1902323820.823"
   ]
  },
  {
   "cell_type": "markdown",
   "metadata": {},
   "source": [
    "#### Add thousand-separator commas"
   ]
  },
  {
   "cell_type": "code",
   "execution_count": 12,
   "metadata": {},
   "outputs": [
    {
     "data": {
      "text/plain": [
       "'1,902,323,820.823'"
      ]
     },
     "execution_count": 12,
     "metadata": {},
     "output_type": "execute_result"
    }
   ],
   "source": [
    "'{:,}'.format(my_number)"
   ]
  },
  {
   "cell_type": "markdown",
   "metadata": {},
   "source": [
    "#### Increase or decrease decimal precision"
   ]
  },
  {
   "cell_type": "code",
   "execution_count": 13,
   "metadata": {},
   "outputs": [
    {
     "data": {
      "text/plain": [
       "'1902323821'"
      ]
     },
     "execution_count": 13,
     "metadata": {},
     "output_type": "execute_result"
    }
   ],
   "source": [
    "# no decimal places\n",
    "'{:0.0f}'.format(my_number)"
   ]
  },
  {
   "cell_type": "code",
   "execution_count": 14,
   "metadata": {},
   "outputs": [
    {
     "data": {
      "text/plain": [
       "'1902323820.82'"
      ]
     },
     "execution_count": 14,
     "metadata": {},
     "output_type": "execute_result"
    }
   ],
   "source": [
    "# two decimal places\n",
    "'{:0.2f}'.format(my_number)"
   ]
  },
  {
   "cell_type": "code",
   "execution_count": 15,
   "metadata": {},
   "outputs": [
    {
     "data": {
      "text/plain": [
       "'1,902,323,820.82'"
      ]
     },
     "execution_count": 15,
     "metadata": {},
     "output_type": "execute_result"
    }
   ],
   "source": [
    "# two decimal places ~and~ commas\n",
    "'{:,.2f}'.format(my_number)"
   ]
  },
  {
   "cell_type": "code",
   "execution_count": 16,
   "metadata": {},
   "outputs": [
    {
     "data": {
      "text/plain": [
       "'$1,902,323,820.82'"
      ]
     },
     "execution_count": 16,
     "metadata": {},
     "output_type": "execute_result"
    }
   ],
   "source": [
    "# add a dollar sign to that - note that it's OUTSIDE of the curly brackets\n",
    "'${:,.2f}'.format(my_number)"
   ]
  },
  {
   "cell_type": "code",
   "execution_count": 17,
   "metadata": {},
   "outputs": [
    {
     "data": {
      "text/plain": [
       "'￡1,902,323,820.82'"
      ]
     },
     "execution_count": 17,
     "metadata": {},
     "output_type": "execute_result"
    }
   ],
   "source": [
    "# add a british pound sign to that\n",
    "'￡{:,.2f}'.format(my_number)"
   ]
  },
  {
   "cell_type": "code",
   "execution_count": 18,
   "metadata": {},
   "outputs": [
    {
     "data": {
      "text/plain": [
       "'😬1,902,323,820.82'"
      ]
     },
     "execution_count": 18,
     "metadata": {},
     "output_type": "execute_result"
    }
   ],
   "source": [
    "# add an emoji to that\n",
    "'😬{:,.2f}'.format(my_number)"
   ]
  },
  {
   "cell_type": "code",
   "execution_count": 19,
   "metadata": {},
   "outputs": [
    {
     "data": {
      "text/plain": [
       "'I have 😬1,902,323,820.82 in GrimaceCoin, my new cryptocurrency.'"
      ]
     },
     "execution_count": 19,
     "metadata": {},
     "output_type": "execute_result"
    }
   ],
   "source": [
    "# add an emoji to that ... in a sentence\n",
    "'I have 😬{:,.2f} in GrimaceCoin, my new cryptocurrency.'.format(my_number)"
   ]
  }
 ],
 "metadata": {
  "kernelspec": {
   "display_name": "Python 3",
   "language": "python",
   "name": "python3"
  },
  "language_info": {
   "codemirror_mode": {
    "name": "ipython",
    "version": 3
   },
   "file_extension": ".py",
   "mimetype": "text/x-python",
   "name": "python",
   "nbconvert_exporter": "python",
   "pygments_lexer": "ipython3",
   "version": "3.7.0"
  }
 },
 "nbformat": 4,
 "nbformat_minor": 2
}
