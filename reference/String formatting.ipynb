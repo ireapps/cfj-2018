{
 "cells": [
  {
   "cell_type": "markdown",
   "metadata": {},
   "source": [
    "# String formatting\n",
    "\n",
    "In many of the notebooks in this series of lessons, you'll see something like this:\n",
    "\n",
    "```python\n",
    "name = 'Cody'\n",
    "print(f'Hello, {name}!')\n",
    "# Hello, Cody!\n",
    "```\n",
    "\n",
    "This is called \"string formatting,\" and it's using a tool called \"f-strings,\" which are available in Python 3.6 and later distributions. It's one way to pass variables to a template string. Note the `f` prepended to the string and the curly brackets `{}` placeholder with the name of the variable you'd like to inject into the string.\n",
    "\n",
    "Here's another example:"
   ]
  },
  {
   "cell_type": "code",
   "execution_count": 8,
   "metadata": {},
   "outputs": [],
   "source": [
    "my_name = 'Cody'\n",
    "my_age = 33\n",
    "my_state = 'Colorado'"
   ]
  },
  {
   "cell_type": "code",
   "execution_count": 9,
   "metadata": {},
   "outputs": [],
   "source": [
    "greeting = f'Hello, my name is {my_name}. I am {my_age} years old, and I live in {my_state}.'"
   ]
  },
  {
   "cell_type": "code",
   "execution_count": 10,
   "metadata": {},
   "outputs": [
    {
     "name": "stdout",
     "output_type": "stream",
     "text": [
      "Hello, my name is Cody. I am 33 years old, and I live in Colorado.\n"
     ]
    }
   ],
   "source": [
    "print(greeting)"
   ]
  },
  {
   "cell_type": "markdown",
   "metadata": {},
   "source": [
    "Another way to do the same thing is to use the `.format()` string method, which is a little more verbose:"
   ]
  },
  {
   "cell_type": "code",
   "execution_count": 14,
   "metadata": {},
   "outputs": [
    {
     "name": "stdout",
     "output_type": "stream",
     "text": [
      "Hello, my name is Cody. I am 33 years old, and I live in Colorado.\n"
     ]
    }
   ],
   "source": [
    "greeting_2 = 'Hello, my name is {}. I am {} years old, and I live in {}.'\n",
    "\n",
    "print(greeting_2.format(my_name, my_age, my_state))"
   ]
  },
  {
   "cell_type": "markdown",
   "metadata": {},
   "source": [
    "Using f-strings is cleaner and easier, generally."
   ]
  },
  {
   "cell_type": "markdown",
   "metadata": {},
   "source": [
    "### Let's start a chain of family-style restaurants\n",
    "\n",
    "We'll start with three employees.\n",
    "\n",
    "String formatting is really useful when you've got lots of data to punch through the same template. Let's walk through this example."
   ]
  },
  {
   "cell_type": "code",
   "execution_count": 15,
   "metadata": {},
   "outputs": [],
   "source": [
    "employees = ['Bob', 'Barb', 'Dana']"
   ]
  },
  {
   "cell_type": "markdown",
   "metadata": {},
   "source": [
    "We are friendly folk, and we want to say hello to each of our employees. We _could_ do this:"
   ]
  },
  {
   "cell_type": "code",
   "execution_count": 14,
   "metadata": {},
   "outputs": [
    {
     "name": "stdout",
     "output_type": "stream",
     "text": [
      "Hello, Bob! Are you wearing the appropriate amount of flair?\n",
      "Hello, Barb! Are you wearing the appropriate amount of flair?\n",
      "Hello, Dana! Are you wearing the appropriate amount of flair?\n"
     ]
    }
   ],
   "source": [
    "print('Hello,', employees[0] + '! Are you wearing the appropriate amount of flair?')\n",
    "print('Hello,', employees[1] + '! Are you wearing the appropriate amount of flair?')\n",
    "print('Hello,', employees[2] + '! Are you wearing the appropriate amount of flair?')"
   ]
  },
  {
   "cell_type": "markdown",
   "metadata": {},
   "source": [
    "Everything about that makes me want to vomit forever. The basic problem: We aren't being lazy enough!\n",
    "\n",
    "First, we should be using a [`for loop`](Python%20data%20types%20and%20basic%20syntax.ipynb#for-loops) to burn through that list.\n",
    "\n",
    "Second, we should be using a template to construct our employee greeting."
   ]
  },
  {
   "cell_type": "code",
   "execution_count": 16,
   "metadata": {},
   "outputs": [
    {
     "name": "stdout",
     "output_type": "stream",
     "text": [
      "Hello, Bob! Are you wearing the appropriate amount of flair?\n",
      "Hello, Barb! Are you wearing the appropriate amount of flair?\n",
      "Hello, Dana! Are you wearing the appropriate amount of flair?\n"
     ]
    }
   ],
   "source": [
    "for emp in employees:\n",
    "    print(f'Hello, {emp}! Are you wearing the appropriate amount of flair?')"
   ]
  },
  {
   "cell_type": "markdown",
   "metadata": {},
   "source": [
    "_Much_ less typing for us, and it's extensible should we ever decide to hire more than three employees."
   ]
  },
  {
   "cell_type": "markdown",
   "metadata": {},
   "source": [
    "### Let's go nuts and loop over a list of dictionaries\n",
    "\n",
    "We've collected more data on our employees, including the number of pieces of flair on each of their suspenders, and we're storing this data as a list of dictionaries.\n",
    "\n",
    "While we're at it, let's use some conditional logic (an `if` statement) to give a hard time to employees who aren't giving us 110%.\n",
    "\n",
    "👉 Forget how `if` statements work? [Check this notebook](Python%20data%20types%20and%20basic%20syntax.ipynb#if-statements)."
   ]
  },
  {
   "cell_type": "code",
   "execution_count": 19,
   "metadata": {},
   "outputs": [],
   "source": [
    "employees = [\n",
    "    {'name': 'Bob', 'position': 'server', 'flair_pieces': 10},\n",
    "    {'name': 'Barb', 'position': 'hostess', 'flair_pieces': 3},\n",
    "    {'name': 'Dana', 'position': 'server', 'flair_pieces': 30},    \n",
    "]"
   ]
  },
  {
   "cell_type": "code",
   "execution_count": 20,
   "metadata": {},
   "outputs": [],
   "source": [
    "# it's in the employee handbook, folks\n",
    "FLAIR_MINIMUM = 10"
   ]
  },
  {
   "cell_type": "code",
   "execution_count": 21,
   "metadata": {},
   "outputs": [
    {
     "name": "stdout",
     "output_type": "stream",
     "text": [
      "Hello, Bob! Congratulations on doing the absolute minimum, SLACKER.\n",
      "Hello, Barb! WHY ARE YOU WEARING LESS THAN THE REQUIRED AMOUNT OF FLAIR.\n",
      "Hello, Dana! You are a valued member of this team. Expect a promotion soon!\n"
     ]
    }
   ],
   "source": [
    "# loop over the list of employees\n",
    "for emp in employees:\n",
    "\n",
    "    # use the 'name' key to get the value out of the dictionary\n",
    "    name = emp['name']\n",
    "    \n",
    "    # we are optimistic people, so our default message assumes that the employee\n",
    "    # is wearing ~more~ than the prescribed amount of flair\n",
    "    msg='You are a valued member of this team. Expect a promotion soon!'\n",
    "    \n",
    "    # BUT if the person is wearing less than the required amount of flair\n",
    "    if emp['flair_pieces'] < FLAIR_MINIMUM:\n",
    "\n",
    "        # re-assign the `msg` variable to a message scolding them\n",
    "        msg='WHY ARE YOU WEARING LESS THAN THE REQUIRED AMOUNT OF FLAIR.'\n",
    "\n",
    "    # or if they've got exactly the correct amount of flair\n",
    "    elif emp['flair_pieces'] == FLAIR_MINIMUM:\n",
    "\n",
    "        # re-assign the `msg` variable to this message\n",
    "        msg='Congratulations on doing the absolute minimum, SLACKER.'\n",
    "\n",
    "    # print our greeting\n",
    "    print(f'Hello, {name}! {msg}')"
   ]
  },
  {
   "cell_type": "markdown",
   "metadata": {},
   "source": [
    "### Formatting numbers\n",
    "\n",
    "Just like in Excel, you can change the formatting of a piece of data for display purposes without changing the underlying data itself. Here are a couple of the more common recipes for formatting numbers:"
   ]
  },
  {
   "cell_type": "code",
   "execution_count": 33,
   "metadata": {},
   "outputs": [],
   "source": [
    "my_number = 1902323820.823"
   ]
  },
  {
   "cell_type": "markdown",
   "metadata": {},
   "source": [
    "#### Add thousand-separator commas"
   ]
  },
  {
   "cell_type": "code",
   "execution_count": 34,
   "metadata": {},
   "outputs": [
    {
     "data": {
      "text/plain": [
       "'1,902,323,820.823'"
      ]
     },
     "execution_count": 34,
     "metadata": {},
     "output_type": "execute_result"
    }
   ],
   "source": [
    "f'{my_number:,}'"
   ]
  },
  {
   "cell_type": "markdown",
   "metadata": {},
   "source": [
    "#### Increase or decrease decimal precision"
   ]
  },
  {
   "cell_type": "code",
   "execution_count": 40,
   "metadata": {},
   "outputs": [
    {
     "data": {
      "text/plain": [
       "'1902323821'"
      ]
     },
     "execution_count": 40,
     "metadata": {},
     "output_type": "execute_result"
    }
   ],
   "source": [
    "# no decimal places\n",
    "f'{my_number:.0f}'"
   ]
  },
  {
   "cell_type": "code",
   "execution_count": 41,
   "metadata": {},
   "outputs": [
    {
     "data": {
      "text/plain": [
       "'1902323820.82'"
      ]
     },
     "execution_count": 41,
     "metadata": {},
     "output_type": "execute_result"
    }
   ],
   "source": [
    "# two decimal places\n",
    "f'{my_number:.2f}'"
   ]
  },
  {
   "cell_type": "code",
   "execution_count": 42,
   "metadata": {},
   "outputs": [
    {
     "data": {
      "text/plain": [
       "'1,902,323,820.82'"
      ]
     },
     "execution_count": 42,
     "metadata": {},
     "output_type": "execute_result"
    }
   ],
   "source": [
    "# two decimal places ~and~ commas\n",
    "f'{my_number:,.2f}'"
   ]
  },
  {
   "cell_type": "code",
   "execution_count": 43,
   "metadata": {},
   "outputs": [
    {
     "data": {
      "text/plain": [
       "'$1,902,323,820.82'"
      ]
     },
     "execution_count": 43,
     "metadata": {},
     "output_type": "execute_result"
    }
   ],
   "source": [
    "# add a dollar sign to that - note that it's OUTSIDE of the curly brackets\n",
    "f'${my_number:,.2f}'"
   ]
  },
  {
   "cell_type": "code",
   "execution_count": 44,
   "metadata": {},
   "outputs": [
    {
     "data": {
      "text/plain": [
       "'￡1,902,323,820.82'"
      ]
     },
     "execution_count": 44,
     "metadata": {},
     "output_type": "execute_result"
    }
   ],
   "source": [
    "# add a british pound sign to that\n",
    "f'￡{my_number:,.2f}'"
   ]
  },
  {
   "cell_type": "code",
   "execution_count": 45,
   "metadata": {},
   "outputs": [
    {
     "data": {
      "text/plain": [
       "'😬1,902,323,820.82'"
      ]
     },
     "execution_count": 45,
     "metadata": {},
     "output_type": "execute_result"
    }
   ],
   "source": [
    "# add an emoji to that\n",
    "f'😬{my_number:,.2f}'"
   ]
  },
  {
   "cell_type": "code",
   "execution_count": 31,
   "metadata": {},
   "outputs": [
    {
     "data": {
      "text/plain": [
       "'I have 😬1,902,323,820.82 in GrimaceCoin, my new cryptocurrency.'"
      ]
     },
     "execution_count": 31,
     "metadata": {},
     "output_type": "execute_result"
    }
   ],
   "source": [
    "# add an emoji to that ... in a sentence\n",
    "f'I have 😬{my_number:,.2f} in GrimaceCoin, my new cryptocurrency.'"
   ]
  }
 ],
 "metadata": {
  "kernelspec": {
   "display_name": "Python 3",
   "language": "python",
   "name": "python3"
  },
  "language_info": {
   "codemirror_mode": {
    "name": "ipython",
    "version": 3
   },
   "file_extension": ".py",
   "mimetype": "text/x-python",
   "name": "python",
   "nbconvert_exporter": "python",
   "pygments_lexer": "ipython3",
   "version": "3.7.0"
  }
 },
 "nbformat": 4,
 "nbformat_minor": 2
}
