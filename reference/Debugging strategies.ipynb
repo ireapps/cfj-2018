{
 "cells": [
  {
   "cell_type": "markdown",
   "metadata": {},
   "source": [
    "# Debugging strategies\n",
    "\n",
    "In this notebook, we'll talk about what happens when you get an error message (it will happen often!) and some steps you can take to resolve them.\n",
    "\n",
    "Run the code in the next cell."
   ]
  },
  {
   "cell_type": "code",
   "execution_count": null,
   "metadata": {
    "scrolled": true
   },
   "outputs": [],
   "source": [
    "x = 10\n",
    "\n",
    "if x > 20\n",
    "    print(f'{x} is greater than 20!')"
   ]
  },
  {
   "cell_type": "markdown",
   "metadata": {},
   "source": [
    "The \"traceback\" message shows you a couple of useful things:\n",
    "\n",
    "- What line the error is on: `line 3`\n",
    "- The class of error: `SyntaxError` (v common)\n",
    "- Exactly _where_ the error occured -- see where the `^` symbol is pointing?\n",
    "\n",
    "What's the problem?\n",
    "\n",
    "#### Googling\n",
    "\n",
    "If it's not immediately clear what's wrong -- if you're not even sure what a `SyntaxError` even is -- I might start by Googling the error messsage, the word \"python\" and maybe some keywords for what I was trying to do when I got the error. Something like [`\"SyntaxError: invalid syntax\" python if statement`](https://www.google.com/search?q=%22SyntaxError%3A+invalid+syntax%22+python+if+statement)\n",
    "\n",
    "Click through the first couple of links -- you'll become _very_ familiar with StackOverflow -- and see if you spot the problem.\n",
    "\n",
    "If you're still stuck, maybe it's time to ...\n",
    "\n",
    "#### Read the docs\n",
    "\n",
    "My next stop would be the Python documentation to find some examples of the thing I'm trying to do. [Here's the page outlining how to write an `if` statement in Python](https://docs.python.org/3/tutorial/controlflow.html). From there, I would copy the example code, run it, compare it line by line with my code and see what's different.\n",
    "\n",
    "If I'm _still_ stuck, I might see if there are other keywords to search on and take another run at Google.\n",
    "\n",
    "#### Use `print()` liberally\n",
    "\n",
    "The `print()` function can be a lifesaver -- it can show you _what_ a value is before you try to do something to it, and whether it matches up with your expectations of what that value should be, and thereby give you a clue about why your script is failing. An example can help clarify this idea.\n",
    "\n",
    "**Scenario:** Your newsroom is handing out longevity bonuses. (Congratulations!) Each employee's bonus will be the number of years they've been with the company, times 50.\n",
    "\n",
    "So we're going to loop over our staff data, held in a list of dictionaries, and calculate each person's bonus."
   ]
  },
  {
   "cell_type": "code",
   "execution_count": null,
   "metadata": {},
   "outputs": [],
   "source": [
    "staff = [\n",
    "    {'name': 'Fran', 'years_of_service': 2, 'job': 'Reporter'},\n",
    "    {'name': 'Graham', 'years_of_service': 7, 'job': 'Reporter'},\n",
    "    {'name': 'Pat', 'years_of_service': 4, 'job': 'Web Producer'},\n",
    "    {'name': 'John', 'years_of_service': '26', 'job': 'Managing Editor'},\n",
    "    {'name': 'Sue', 'years_of_service': 33, 'job': 'Executive Editor'}\n",
    "]\n",
    "\n",
    "for person in staff:\n",
    "    name = person['name']\n",
    "    bonus = person['years_of_service'] * 50\n",
    "    print(f'{name} is getting a bonus of {bonus}')"
   ]
  },
  {
   "cell_type": "markdown",
   "metadata": {},
   "source": [
    "We didn't get an exception, but something is _clearly_ wrong with John's bonus. What's going on?\n",
    "\n",
    "Maybe you spot the error already. If not, we might Google something like [\"python multiply numbers repeating\"](https://www.google.com/search?q=python+multiply+numbers+repeating) -- which leads us to [this StackOverflow answer](https://stackoverflow.com/questions/20401871/want-to-multiply-not-repeat-variable). Is that what's going on here? Let's add a `print()` statement before we do the multiplication and use the [`type()`](https://docs.python.org/3/library/functions.html#type) function to check the value that we're pulling out of each dictionary."
   ]
  },
  {
   "cell_type": "code",
   "execution_count": null,
   "metadata": {},
   "outputs": [],
   "source": [
    "for person in staff:\n",
    "    name = person['name']\n",
    "    bonus = person['years_of_service'] * 50\n",
    "    print(name, type(person['years_of_service']))\n",
    "    print(f'{name} is getting a bonus of {bonus}')"
   ]
  },
  {
   "cell_type": "markdown",
   "metadata": {},
   "source": [
    "Aha! John's value for `years_of_service` has been stored as a string, not an integer. Let's fix that by using the [`int()`](https://docs.python.org/3/library/functions.html#int) function to coerce the value to an integer."
   ]
  },
  {
   "cell_type": "code",
   "execution_count": null,
   "metadata": {},
   "outputs": [],
   "source": [
    "for person in staff:\n",
    "    name = person['name']\n",
    "    bonus = int(person['years_of_service']) ** 2\n",
    "    print(f'{name} is getting a bonus of {bonus}')"
   ]
  },
  {
   "cell_type": "markdown",
   "metadata": {},
   "source": [
    "Winner winner, chicken dinner.\n",
    "\n",
    "Here are some more debugging exercises for you to work through. See if you can figure out what's wrong and fix them."
   ]
  },
  {
   "cell_type": "code",
   "execution_count": null,
   "metadata": {},
   "outputs": [],
   "source": [
    "print(Hello, Pittsburgh!)"
   ]
  },
  {
   "cell_type": "code",
   "execution_count": null,
   "metadata": {},
   "outputs": [],
   "source": [
    "desk = {\n",
    "    'wood': 'fir',\n",
    "    'color': 'black',\n",
    "    'height_in': 36,\n",
    "    'width_in': 48,\n",
    "    'length_in': 68\n",
    "}\n",
    "\n",
    "print(desk['drawer_count'])"
   ]
  },
  {
   "cell_type": "code",
   "execution_count": null,
   "metadata": {},
   "outputs": [],
   "source": [
    "students = ['Kelly', 'Larry', 'José', 'Frank', 'Sarah', 'Sue']\n",
    "\n",
    "for student in students:\n",
    "    if student = 'Kelly':\n",
    "    print('It's Kelly!')\n",
    "    elif student == 'José':\n",
    "        print(\"It's José!\")"
   ]
  },
  {
   "cell_type": "code",
   "execution_count": null,
   "metadata": {},
   "outputs": [],
   "source": [
    "import cvs\n",
    "\n",
    "with open('../../../data/eels.csv', 'r') as o:\n",
    "    reader = csv.DictReader(o)\n",
    "    for row in Reader:\n",
    "        print(row)"
   ]
  },
  {
   "cell_type": "markdown",
   "metadata": {},
   "source": [
    "### Further reading\n",
    "\n",
    "- [Python's tutorial on errors and exceptions](https://docs.python.org/3/tutorial/errors.html)\n",
    "- [Software Carpentry post on understanding Python errors](https://anenadic.github.io/2014-11-10-manchester/novice/python/07-errors.html)\n",
    "- [How to read a traceback](http://cs.franklin.edu/~ansaria/traceback.html)"
   ]
  }
 ],
 "metadata": {
  "kernelspec": {
   "display_name": "Python 3",
   "language": "python",
   "name": "python3"
  },
  "language_info": {
   "codemirror_mode": {
    "name": "ipython",
    "version": 3
   },
   "file_extension": ".py",
   "mimetype": "text/x-python",
   "name": "python",
   "nbconvert_exporter": "python",
   "pygments_lexer": "ipython3",
   "version": "3.7.0"
  }
 },
 "nbformat": 4,
 "nbformat_minor": 2
}
