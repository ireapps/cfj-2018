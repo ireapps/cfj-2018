{
 "cells": [
  {
   "cell_type": "markdown",
   "metadata": {},
   "source": [
    "# Python data types and basic syntax\n",
    "\n",
    "A few things that we're _not_ going to go over in detail here that would be good to look up later:\n",
    "- [Date and time data types](https://docs.python.org/3/library/datetime.html)\n",
    "- [String](https://docs.python.org/3/library/stdtypes.html#string-methods) 👏 [methods](https://thehelloworldprogram.com/python/python-string-methods/)"
   ]
  },
  {
   "cell_type": "markdown",
   "metadata": {},
   "source": [
    "### Variables, comments, basic data types and the `print()` function\n",
    "\n",
    "The `=` sign assigns a value to a variable name that you choose. Later, you can retrieve that value by referencing its variable name. Variable names can be pretty much anything you want ([as long as you follow some basic rules](https://thehelloworldprogram.com/python/python-variable-assignment-statements-rules-conventions-naming/)).\n",
    "\n",
    "A line with a comment -- a note that you don't want Python to interpret -- starts with a `#` sign. Multi-line comments are sandwiched between triple quotes (or apostrophes):\n",
    "\n",
    "`'''this\n",
    "is a long\n",
    "comment'''`\n",
    "\n",
    "or\n",
    "\n",
    "`\"\"\"this\n",
    "is a long\n",
    "comment\"\"\"`\n",
    "\n",
    "Just like in Excel, Python recognizes a variety of data types, including strings (text), numbers (integers, numbers with decimals and more) and boolean values (`True` and `False`).\n",
    "\n",
    "When you use the `print()` function, Python will display whatever you tell it to print in the terminal (or Jupyter notebook, in this case)."
   ]
  },
  {
   "cell_type": "code",
   "execution_count": 2,
   "metadata": {},
   "outputs": [],
   "source": [
    "# variable assignment\n",
    "# https://www.digitalocean.com/community/tutorials/how-to-use-variables-in-python-3\n",
    "\n",
    "# strings -- enclose in single or double quotes, doesn't matter, just make sure they match\n",
    "my_name = 'Cody'"
   ]
  },
  {
   "cell_type": "code",
   "execution_count": 9,
   "metadata": {},
   "outputs": [
    {
     "name": "stdout",
     "output_type": "stream",
     "text": [
      "Hello!\n",
      "Cody\n",
      "Hello, Cody!\n"
     ]
    }
   ],
   "source": [
    "# the print function\n",
    "print('Hello!')\n",
    "print(my_name)\n",
    "print('Hello,', my_name + '!')"
   ]
  },
  {
   "cell_type": "code",
   "execution_count": 11,
   "metadata": {},
   "outputs": [
    {
     "name": "stdout",
     "output_type": "stream",
     "text": [
      "6\n",
      "6.4\n"
     ]
    }
   ],
   "source": [
    "# numbers\n",
    "int_num = 6\n",
    "float_num = 6.4\n",
    "print(int_num)\n",
    "print(float_num)"
   ]
  },
  {
   "cell_type": "code",
   "execution_count": 10,
   "metadata": {},
   "outputs": [
    {
     "name": "stdout",
     "output_type": "stream",
     "text": [
      "True\n",
      "False\n",
      "False\n",
      "True\n",
      "True\n"
     ]
    }
   ],
   "source": [
    "# booleans\n",
    "print(True)\n",
    "print(False)\n",
    "print(4 > 6)\n",
    "print(6 == 6)\n",
    "print('ell' in 'Hello')"
   ]
  },
  {
   "cell_type": "markdown",
   "metadata": {},
   "source": [
    "### Doing math in Python\n",
    "\n",
    "You can do [basic math](https://www.digitalocean.com/community/tutorials/how-to-do-math-in-python-3-with-operators) in Python. You can also do [more advanced math](https://docs.python.org/3/library/math.html)."
   ]
  },
  {
   "cell_type": "code",
   "execution_count": 12,
   "metadata": {},
   "outputs": [
    {
     "name": "stdout",
     "output_type": "stream",
     "text": [
      "6\n",
      "2\n",
      "8\n",
      "2.0\n",
      "16\n"
     ]
    }
   ],
   "source": [
    "print(4+2)\n",
    "print(4-2)\n",
    "print(4*2)\n",
    "print(4/2)\n",
    "print(int_num + 10)"
   ]
  },
  {
   "cell_type": "markdown",
   "metadata": {},
   "source": [
    "## Collections of data\n",
    "\n",
    "We're going to talk about two ways you can use Python to group data into a collection: lists and dictionaries."
   ]
  },
  {
   "cell_type": "markdown",
   "metadata": {},
   "source": [
    "### Lists\n",
    "\n",
    "A _list_ is a comma-separated list of items inside square brackets: `[]`. To get an item out of a list, you'd refer to its numerical position in the list (1, 2, 3, etc. -- and counting starts at 0, so the first item is item 0). Just like in Excel, you use a colon to retrieve a larger \"slice\" of data.\n",
    "\n",
    "Negative indexing is allowed. (And encouraged!)"
   ]
  },
  {
   "cell_type": "code",
   "execution_count": 1,
   "metadata": {
    "scrolled": true
   },
   "outputs": [
    {
     "name": "stdout",
     "output_type": "stream",
     "text": [
      "tomato\n",
      "cilantro\n",
      "['tomato', 'onion']\n",
      "['tomato', 'onion', 'jalapeño', 'lime', 'cilantro', 'mango']\n",
      "['tomato', 'onion', 'jalapeño', 'lime', 'cilantro']\n"
     ]
    }
   ],
   "source": [
    "# a salsa recipe\n",
    "\n",
    "salsa_ingredients = ['tomato', 'onion', 'jalapeño', 'lime', 'cilantro']\n",
    "\n",
    "print(salsa_ingredients[0])\n",
    "print(salsa_ingredients[-1])\n",
    "print(salsa_ingredients[0:2])\n",
    "\n",
    "# use .append() to add to a list\n",
    "salsa_ingredients.append('mango')\n",
    "print(salsa_ingredients)\n",
    "\n",
    "# use .pop() to remove an item from a list\n",
    "salsa_ingredients.pop()\n",
    "print(salsa_ingredients)"
   ]
  },
  {
   "cell_type": "markdown",
   "metadata": {},
   "source": [
    "## Dictionaries\n",
    "\n",
    "A _dictionary_ is a comma-separated list of key/value pairs inside curly brackets: `{}`. To get a value out of a dictionary, you'd refer to the name of its key."
   ]
  },
  {
   "cell_type": "code",
   "execution_count": 2,
   "metadata": {},
   "outputs": [
    {
     "name": "stdout",
     "output_type": "stream",
     "text": [
      "12\n",
      "12\n",
      "{'ingredients': ['tomato', 'onion', 'jalapeño', 'lime', 'cilantro'], 'instructions': 'Chop up all the ingredients and cook them for awhile.', 'oz_made': 12, 'tastes_great': True}\n",
      "{'ingredients': ['tomato', 'onion', 'jalapeño', 'lime', 'cilantro'], 'instructions': 'Chop up all the ingredients and cook them for awhile.', 'oz_made': 12}\n"
     ]
    }
   ],
   "source": [
    "salsa = {\n",
    "    'ingredients': salsa_ingredients,\n",
    "    'instructions': 'Chop up all the ingredients and cook them for awhile.',\n",
    "    'oz_made': 12\n",
    "}\n",
    "\n",
    "print(salsa['oz_made'])\n",
    "print(salsa.get('oz_made'))\n",
    "\n",
    "# create a new item in a dictionary by assigning it a new key and setting the value with `=`\n",
    "salsa['tastes_great'] = True\n",
    "print(salsa)\n",
    "\n",
    "# remove items from a dictionary with `del`\n",
    "del salsa['tastes_great']\n",
    "print(salsa)"
   ]
  },
  {
   "cell_type": "markdown",
   "metadata": {},
   "source": [
    "### Indentation: It matters!\n",
    "\n",
    "Whitespace matters in Python. Sometimes you'll need to indent bits of code to make things work. This can be confusing! (FWIW, Jupyter will try to be helpful and insert the correct amount of \"significant whitespace\" for you.) You can use tabs or spaces, just don't mix them. [The Python style guide](https://www.python.org/dev/peps/pep-0008/) recommends indenting your code in groups of four spaces, so that's what we'll use."
   ]
  },
  {
   "cell_type": "markdown",
   "metadata": {},
   "source": [
    "### `for` loops\n",
    "\n",
    "You would use a `for` loop to iterate over a collection of things. The statement begins with the keyword `for` (lowercase), then a `variable_name` to represent the items in the thing you're looping over, then the Python keyword `in`, then the collection you're looping over (or its variable name), then a colon, then the indented block of code with instructions about what to do with each item in the collection.\n",
    "\n",
    "Let's say we have a list of numbers, `ls`."
   ]
  },
  {
   "cell_type": "code",
   "execution_count": null,
   "metadata": {},
   "outputs": [],
   "source": [
    "ls = [1, 2, 3, 4, 5, 6]"
   ]
  },
  {
   "cell_type": "markdown",
   "metadata": {},
   "source": [
    "We could loop over the list and print out each number:"
   ]
  },
  {
   "cell_type": "code",
   "execution_count": null,
   "metadata": {},
   "outputs": [],
   "source": [
    "for number in ls:\n",
    "    print(number)"
   ]
  },
  {
   "cell_type": "markdown",
   "metadata": {},
   "source": [
    "We could print out each number _times 6_:"
   ]
  },
  {
   "cell_type": "code",
   "execution_count": null,
   "metadata": {},
   "outputs": [],
   "source": [
    "for number in ls:\n",
    "    print(number*6)"
   ]
  },
  {
   "cell_type": "markdown",
   "metadata": {},
   "source": [
    "... whatever you need to do as you loop.\n",
    "\n",
    "Also: In Python, strings are iterable."
   ]
  },
  {
   "cell_type": "code",
   "execution_count": null,
   "metadata": {},
   "outputs": [],
   "source": [
    "for letter in 'IRE 2018 Orlando':\n",
    "    print(letter)"
   ]
  },
  {
   "cell_type": "markdown",
   "metadata": {},
   "source": [
    "You can iterate over dictionaries, too -- just remember that dictionaries don't keep track of the order that items were added to it.\n",
    "\n",
    "When you're looping over a dictionary, the variable name in your `for` loop will refer to the keys. Let's loop over our `salsa` dictionary from up above to see what I mean."
   ]
  },
  {
   "cell_type": "code",
   "execution_count": null,
   "metadata": {},
   "outputs": [],
   "source": [
    "print(salsa)\n",
    "\n",
    "for key in salsa:\n",
    "    print(key)"
   ]
  },
  {
   "cell_type": "markdown",
   "metadata": {},
   "source": [
    "To get the _value_ of a dictionary item in a for loop, you'd need to use the key to retrieve it from the dictionary:"
   ]
  },
  {
   "cell_type": "code",
   "execution_count": null,
   "metadata": {},
   "outputs": [],
   "source": [
    "for key in salsa:\n",
    "    print(key, '=>', salsa[key])"
   ]
  },
  {
   "cell_type": "markdown",
   "metadata": {},
   "source": [
    "### `if` statements\n",
    "Just like in Excel, you can use the \"if\" keyword to handle conditional logic.\n",
    "\n",
    "These statements begin with the keyword if (lowercase), then the condition to evaluate, then a colon, then a new line with a block of indented code to execute if the condition resolves to `True`."
   ]
  },
  {
   "cell_type": "code",
   "execution_count": null,
   "metadata": {},
   "outputs": [],
   "source": [
    "if 4 < 6:\n",
    "    print('4 is less than 6')"
   ]
  },
  {
   "cell_type": "markdown",
   "metadata": {},
   "source": [
    "You can also add an `else` statement (and a colon) with an indented block of code you want to run if the condition resolves to `False`."
   ]
  },
  {
   "cell_type": "code",
   "execution_count": null,
   "metadata": {},
   "outputs": [],
   "source": [
    "if 4 > 6:\n",
    "    print('4 is greater than 6?!')\n",
    "else:\n",
    "    print('4 is not greater than 6.')"
   ]
  },
  {
   "cell_type": "markdown",
   "metadata": {},
   "source": [
    "If you need to, you can add multiple conditions with `elif`."
   ]
  },
  {
   "cell_type": "code",
   "execution_count": null,
   "metadata": {},
   "outputs": [],
   "source": [
    "HOME_SCORE = 6\n",
    "AWAY_SCORE = 8\n",
    "\n",
    "if HOME_SCORE > AWAY_SCORE:\n",
    "    print('we won!')\n",
    "elif HOME_SCORE == AWAY_SCORE:\n",
    "    print('we tied!')\n",
    "else:\n",
    "    print('we lost!')"
   ]
  }
 ],
 "metadata": {
  "kernelspec": {
   "display_name": "Python 3",
   "language": "python",
   "name": "python3"
  },
  "language_info": {
   "codemirror_mode": {
    "name": "ipython",
    "version": 3
   },
   "file_extension": ".py",
   "mimetype": "text/x-python",
   "name": "python",
   "nbconvert_exporter": "python",
   "pygments_lexer": "ipython3",
   "version": "3.7.0"
  }
 },
 "nbformat": 4,
 "nbformat_minor": 2
}
