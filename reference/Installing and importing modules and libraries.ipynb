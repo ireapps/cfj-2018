{
 "cells": [
  {
   "cell_type": "markdown",
   "metadata": {},
   "source": [
    "# Installing and importing modules and libraries"
   ]
  },
  {
   "cell_type": "markdown",
   "metadata": {},
   "source": [
    "### Importing built-in modules\n",
    "\n",
    "When you install Python, you get a ton of functionality right out of the box, without importing anything.\n",
    "\n",
    "You also get access to other code modules that come bundled in what's called the \"[standard library](https://docs.python.org/3/library/)\" -- but to use these bits of functionality, you need to _import_ them into your script.\n",
    "\n",
    "Let's import the `time` module from the standard library, then use its `sleep()` method to pause the script for however many seconds we specify."
   ]
  },
  {
   "cell_type": "code",
   "execution_count": null,
   "metadata": {},
   "outputs": [],
   "source": [
    "import time\n",
    "time.sleep(2)"
   ]
  },
  {
   "cell_type": "markdown",
   "metadata": {},
   "source": [
    "### Importing external libraries\n",
    "You can also _install_ external Python libraries -- software written by people around the world to help Python developers accomplish different tasks. In this session, for instance, we're using [Jupyter notebooks](https://jupyter.org/) and the [`pandas`](https://pandas.pydata.org) data analysis library.\n",
    "\n",
    "To manage these dependencies, we're using a tool called [pipenv](https://docs.pipenv.org/basics/). This tool also manages our project's [_virtual environment_](https://realpython.com/python-virtual-environments-a-primer/) -- a way to isolate our project and its dependencies (`jupyter` and `pandas`) from other projects and their dependencies.\n",
    "\n",
    "Once we installed pipenv, we went to our computer's *terminal*, moved into the project directory that contains these files, and ran this command: `pipenv install jupyter pandas`.\n",
    "\n",
    "👉For more details on the *terminal* and starting a Python project from scratch, [see this notebook](Starting%20a%20new%20Python%20project%20from%20scratch.ipynb).\n",
    "\n",
    "Let's import pandas. When we import it, let's use the [`as`](https://docs.python.org/3/reference/simple_stmts.html#the-import-statement) keyword to refer to the library as `pd`, a convention that makes it quicker to type."
   ]
  },
  {
   "cell_type": "code",
   "execution_count": 1,
   "metadata": {},
   "outputs": [],
   "source": [
    "import pandas as pd"
   ]
  },
  {
   "cell_type": "markdown",
   "metadata": {},
   "source": [
    "### Importing local code\n",
    "\n",
    "Let's pretend that you have a local Python file, `myfile.py`, that contains some things you'd like to import into this script.\n",
    "\n",
    "Surprise, you don't have to pretend! There *is* a file called `myfile.py` in this folder that contains some things we'd like to import into *this* script. Specifically, we'd like to import a dictionary called `codys_dog` that has some details about my dog Charlie.\n",
    "\n",
    "(This is Charlie:\n",
    "![charlie](../img/charlie.jpg \"charlie\")\n",
    ")"
   ]
  },
  {
   "cell_type": "code",
   "execution_count": null,
   "metadata": {},
   "outputs": [],
   "source": [
    "from myfile import codys_dog\n",
    "codys_dog"
   ]
  }
 ],
 "metadata": {
  "kernelspec": {
   "display_name": "Python 3",
   "language": "python",
   "name": "python3"
  },
  "language_info": {
   "codemirror_mode": {
    "name": "ipython",
    "version": 3
   },
   "file_extension": ".py",
   "mimetype": "text/x-python",
   "name": "python",
   "nbconvert_exporter": "python",
   "pygments_lexer": "ipython3",
   "version": "3.6.4"
  }
 },
 "nbformat": 4,
 "nbformat_minor": 2
}
