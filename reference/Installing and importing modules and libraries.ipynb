{
 "cells": [
  {
   "cell_type": "markdown",
   "metadata": {},
   "source": [
    "# Installing and importing modules and libraries"
   ]
  },
  {
   "cell_type": "markdown",
   "metadata": {},
   "source": [
    "### Importing built-in modules\n",
    "\n",
    "When you install Python, you get a ton of functionality right out of the box, without importing anything.\n",
    "\n",
    "You can also access other code modules that come bundled in what's called the \"[standard library](https://docs.python.org/3/library/)\" -- but to use these bits of functionality, you need to _import_ them into your script.\n",
    "\n",
    "Let's import the `time` module from the standard library, then use its `sleep()` method to pause the script for however many seconds we specify (2)."
   ]
  },
  {
   "cell_type": "code",
   "execution_count": 3,
   "metadata": {},
   "outputs": [],
   "source": [
    "import time\n",
    "time.sleep(2)"
   ]
  },
  {
   "cell_type": "markdown",
   "metadata": {},
   "source": [
    "### Importing external libraries\n",
    "You can also _install_ external Python libraries -- software written by people around the world to help Python developers accomplish different tasks. In this boot camp, for instance, we're using [Jupyter notebooks](https://jupyter.org/) and the [`pandas`](https://pandas.pydata.org) data analysis library, among others.\n",
    "\n",
    "To manage these dependencies, we're using a tool called [pipenv](https://docs.pipenv.org/basics/). This tool also manages our project's [_virtual environment_](https://realpython.com/python-virtual-environments-a-primer/) -- a way to isolate our project and its dependencies (`jupyter` and `pandas` and other stuff) from _other_ Python projects on this computer (and their dependencies).\n",
    "\n",
    "Once we installed pipenv, we went to our computer's *terminal*, moved into the project directory that contains these files, and ran this command: `pipenv install jupyter pandas`.\n",
    "\n",
    "👉 For more details on the *terminal* and starting a Python project from scratch, [see this notebook](Starting%20a%20new%20Python%20project%20from%20scratch.ipynb).\n",
    "\n",
    "Let's import pandas. When we import it, we'll use the [`as`](https://docs.python.org/3/reference/simple_stmts.html#the-import-statement) keyword to give it an alias -- `pd` -- a convention that makes it quicker to type. In other words, we're gonna use pandas, but we're gonna call it `pd` to save us some typing."
   ]
  },
  {
   "cell_type": "code",
   "execution_count": 4,
   "metadata": {},
   "outputs": [],
   "source": [
    "import pandas as pd"
   ]
  },
  {
   "cell_type": "markdown",
   "metadata": {},
   "source": [
    "### Importing local code\n",
    "\n",
    "Let's pretend that you have a local Python file, `myfile.py`, that contains some things you'd like to import into this script.\n",
    "\n",
    "Surprise, you don't have to pretend! There *is* a file called `myfile.py` in this folder that contains some things we'd like to import into *this* script. Specifically, we'd like to import a dictionary called `codys_dog` that has some details about my dog Charlie.\n",
    "\n",
    "(This is Charlie:\n",
    "![charlie](../img/charlie.jpg \"charlie\")\n",
    ")\n",
    "\n",
    "The syntax for importing specific bits of functionality from a module:\n",
    "\n",
    "```python\n",
    "from some_module import things\n",
    "```\n",
    "\n",
    "So let's import `codys_dog` from `myfile`."
   ]
  },
  {
   "cell_type": "code",
   "execution_count": 5,
   "metadata": {},
   "outputs": [
    {
     "name": "stdout",
     "output_type": "stream",
     "text": [
      "{'name': 'Charlie', 'breed': '?', 'age_mos': 12, 'picture': 'https://github.com/cjwinchester/ire-2018-python-for-data-analysis/raw/master/img/charlie.jpg'}\n"
     ]
    }
   ],
   "source": [
    "from myfile import codys_dog\n",
    "\n",
    "print(codys_dog)"
   ]
  }
 ],
 "metadata": {
  "kernelspec": {
   "display_name": "Python 3",
   "language": "python",
   "name": "python3"
  },
  "language_info": {
   "codemirror_mode": {
    "name": "ipython",
    "version": 3
   },
   "file_extension": ".py",
   "mimetype": "text/x-python",
   "name": "python",
   "nbconvert_exporter": "python",
   "pygments_lexer": "ipython3",
   "version": "3.7.0"
  }
 },
 "nbformat": 4,
 "nbformat_minor": 2
}
