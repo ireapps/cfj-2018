{
 "cells": [
  {
   "cell_type": "markdown",
   "metadata": {},
   "source": [
    "# Starting a new Python project from scratch\n",
    "\n",
    "This guide will show you how to obtain and run all of the files we are working with in this class. It will also walk you through the process of creating a new Python project with `Jupyter` and `pandas`.\n",
    "\n",
    "If you don't have Python 3 installed on your computer already, do that first. Check out [Kenneth Reitz's installation guides](http://docs.python-guide.org/en/latest/starting/installation/#installation-guides) for Mac and Linux or [Anthony DeBarros's guide](http://www.anthonydebarros.com/2015/08/16/setting-up-python-in-windows-10/) for Windows users.\n",
    "\n",
    "The [pipenv installation instructions](https://docs.pipenv.org/#install-pipenv-today) are pretty straightforward, but please [hit me up](mailto:cody@ire.org) if you run into problems.\n",
    "\n",
    "To test that both are installed:\n",
    "- Open a terminal window (see below if you don't know what that means)\n",
    "- Type `python3 --version` (or maybe `python --version` on PC) and make sure that it returns a version of Python 3\n",
    "- Type `pipenv --version` and make sure that it returns a version of pipenv"
   ]
  },
  {
   "cell_type": "markdown",
   "metadata": {},
   "source": [
    "### Hello Terminal\n",
    "\n",
    "If you're not familiar with the command line, or terminal, it's a place where you can type commands for your computer to execute. It's where you'll start when you go to launch an existing project or create a new one.\n",
    "\n",
    "On Windows, search for a program called `cmd`. A window should launch that looks something like this:\n",
    "\n",
    "![PC terminal](../img/terminal-pc.png \"PC terminal\")\n",
    "\n",
    "On Mac or Linux installations, search for a program called `Terminal`. Here's what my (tricked-out Mac) prompt looks like:\n",
    "\n",
    "![Mac terminal](../img/terminal-mac.png \"Mac terminal\")\n",
    "\n",
    "[Here's a good intro to terminal commands](https://drive.google.com/file/d/1_2LTtR6f5bFCC5wjFZc9ILA7vmru7ShK/view) aimed at people with Mac or Linux operating systems. The principles will be the same on a PC, [but many of the commands are different](http://www.dba-oracle.com/t_windows_dos_unix_linux_commands.htm)."
   ]
  },
  {
   "cell_type": "markdown",
   "metadata": {},
   "source": [
    "### Running the code from this class on your computer\n",
    "\n",
    "The steps:\n",
    "- Download the files\n",
    "- Activate the virtual environment with pipenv\n",
    "- Install the dependencies\n",
    "- Launch the Jupyter notebook server\n",
    "\n",
    "The terminal commands we'll use to launch a server with the class notebooks:\n",
    "- `cd`: Change into a directory\n",
    "- `ls`: List the files in the directory (to doublecheck we're where we think we are)\n",
    "- `pipenv`: Manage your project dependencies and virtual environment\n",
    "- `jupyter`: Launch a Jupyter notebook\n",
    "\n",
    "**Step 1:** Download [this .zip file](https://github.com/cjwinchester/ire-2018-python-for-data-analysis/archive/master.zip) and extract it somewhere on your computer. Make a note of the path to the folder you just extracted. For the purposes of this example, we'll assume that it lives at `Users/codywinchester/Desktop/ire-2018-python-for-data-analysis`. (_Change this reference to reflect the actual path to this folder on your computer._)\n",
    "\n",
    "**Step 2:** Use the `cd` command to \"move\" into this directory: `cd Users/codywinchester/Desktop/ire-2018-python-for-data-analysis`\n",
    "\n",
    "**Step 3:** Use the `ls` command to make sure we are where we think we are: `ls`\n",
    "\n",
    "This should return a list of the files in the directory, which should match the list of files in this repository. Make sure there's a `Pipfile` in there before proceeding.\n",
    "\n",
    "**Step 4:** Install the project dependencies: `pipenv install`\n",
    "\n",
    "**Step 5:** Activate the virtual environment: `pipenv shell`\n",
    "\n",
    "**Step 6**: Launch the notebook server: `jupyter notebook`"
   ]
  },
  {
   "cell_type": "markdown",
   "metadata": {},
   "source": [
    "### Starting a new project\n",
    "\n",
    "The commands we'll use to start a new project:\n",
    "- `mkdir`: Create a directory\n",
    "- `cd`: Change into a directory\n",
    "- `pipenv`: Manage your project dependencies and virtual environment\n",
    "- `jupyter`: Launch a Jupyter notebook\n",
    "\n",
    "n.b. Your terminal will probably look different from the one in the screenshots, and that is fine.\n",
    "\n",
    "**Step 1:** Open a terminal (your \"home\" directory where it starts will probably be your user folder)\n",
    "\n",
    "![Mac terminal](../img/terminal-mac.png \"Mac terminal\")\n",
    "\n",
    "**Step 2:** Make a new folder for your project (whatever you want, just don't put spaces in the folder name): `mkdir my-cool-project`\n",
    "\n",
    "![Making a new folder](../img/new-project-step-2.png \"Making a new folder\")\n",
    "\n",
    "**Step 3:** \"Move\" into that folder: `cd my-cool-project`\n",
    "\n",
    "![Moving into your new folder](../img/new-project-step-3.png \"Moving into your new folder\")\n",
    "\n",
    "**Step 4:** Create a new environment and install our external libraries (jupyter and pandas): `pipenv install jupyter pandas`\n",
    "\n",
    "(This step might take a minute)\n",
    "\n",
    "![pipenv ftw](../img/new-project-step-4.png \"pipenv ftw\")\n",
    "\n",
    "**Step 5:** Activate your virtual environment: `pipenv shell`\n",
    "\n",
    "(You'll notice the name of your virtual environment prepended to your prompt)\n",
    "\n",
    "![virtualenvironment is active](../img/new-project-step-5.png \"virtualenvironment is active\")\n",
    "\n",
    "**Step 6:** Launch Jupyter (will open in a browser window): `jupyter notebook`\n",
    "\n",
    "![launching jupyter](../img/new-project-step-6.png \"launching jupyter\")\n",
    "\n",
    "**Step 7:** In the Jupyter browser, create a new Python 3 notebook\n",
    "\n",
    "![new notebook](../img/new-project-step-7.png \"new notebook\")\n",
    "\n",
    "**Step 8:** Start creating! [This is a pretty good overview of the different parts of a notebook](https://nbviewer.jupyter.org/github/jupyter/notebook/blob/master/docs/source/examples/Notebook/Notebook%20Basics.ipynb)"
   ]
  }
 ],
 "metadata": {
  "kernelspec": {
   "display_name": "Python 3",
   "language": "python",
   "name": "python3"
  },
  "language_info": {
   "codemirror_mode": {
    "name": "ipython",
    "version": 3
   },
   "file_extension": ".py",
   "mimetype": "text/x-python",
   "name": "python",
   "nbconvert_exporter": "python",
   "pygments_lexer": "ipython3",
   "version": "3.6.4"
  }
 },
 "nbformat": 4,
 "nbformat_minor": 2
}
