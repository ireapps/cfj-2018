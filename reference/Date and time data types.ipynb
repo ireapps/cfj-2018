{
 "cells": [
  {
   "cell_type": "markdown",
   "metadata": {},
   "source": [
    "# Dates and times in Python\n",
    "\n",
    "In addition to common data types like strings, integers and booleans, Python also has date and time data types. You'll probably come across these most often via the built-in [`datetime`](https://docs.python.org/3/library/datetime.html) module, so that's what we'll start with in this notebook.\n",
    "\n",
    "Here's what we'll cover in this notebook:\n",
    "- [Creating new dates and times](#Creating-new-dates-and-times)\n",
    "- [Parsing dates and times from text](#Parsing-dates-and-times-from-text)\n",
    "- [Formatting dates as text](#Formatting-dates-as-text)\n",
    "- [Calculating the difference between two datetimes](#Calculating-the-difference-between-two-datetimes)\n",
    "- [Working with dates in pandas](#Working-with-dates-in-pandas)\n",
    "\n",
    "Let's start by importing the `datetime` object from the `datetime` module -- this will allow us to create dates _and_ times tied to a particular date, which is a common use."
   ]
  },
  {
   "cell_type": "code",
   "execution_count": 2,
   "metadata": {},
   "outputs": [],
   "source": [
    "from datetime import datetime"
   ]
  },
  {
   "cell_type": "markdown",
   "metadata": {},
   "source": [
    "### Creating new dates and times\n",
    "\n",
    "The `datetime` object expects arguments in this order: year, month, day, hour, minute, second, microsecond, and `tzinfo`, a keyword argument for passing in timezone information. Let's create a date object for Oct. 7, 2018."
   ]
  },
  {
   "cell_type": "code",
   "execution_count": 3,
   "metadata": {},
   "outputs": [],
   "source": [
    "our_date = datetime(2018, 10, 7)"
   ]
  },
  {
   "cell_type": "code",
   "execution_count": 4,
   "metadata": {},
   "outputs": [
    {
     "name": "stdout",
     "output_type": "stream",
     "text": [
      "2018-10-07 00:00:00\n"
     ]
    }
   ],
   "source": [
    "print(our_date)"
   ]
  },
  {
   "cell_type": "markdown",
   "metadata": {},
   "source": [
    "You can access attributes of this date now, like `year` and `month`:"
   ]
  },
  {
   "cell_type": "code",
   "execution_count": 34,
   "metadata": {},
   "outputs": [
    {
     "data": {
      "text/plain": [
       "2018"
      ]
     },
     "execution_count": 34,
     "metadata": {},
     "output_type": "execute_result"
    }
   ],
   "source": [
    "our_date.year"
   ]
  },
  {
   "cell_type": "code",
   "execution_count": 35,
   "metadata": {},
   "outputs": [
    {
     "data": {
      "text/plain": [
       "10"
      ]
     },
     "execution_count": 35,
     "metadata": {},
     "output_type": "execute_result"
    }
   ],
   "source": [
    "our_date.month"
   ]
  },
  {
   "cell_type": "markdown",
   "metadata": {},
   "source": [
    "We could also make a specific time on that day -- say, 1:30 p.m.:"
   ]
  },
  {
   "cell_type": "code",
   "execution_count": 5,
   "metadata": {},
   "outputs": [],
   "source": [
    "our_datetime = datetime(2018, 10, 7, 13, 30)"
   ]
  },
  {
   "cell_type": "code",
   "execution_count": 6,
   "metadata": {},
   "outputs": [
    {
     "name": "stdout",
     "output_type": "stream",
     "text": [
      "2018-10-07 13:30:00\n"
     ]
    }
   ],
   "source": [
    "print(our_datetime)"
   ]
  },
  {
   "cell_type": "markdown",
   "metadata": {},
   "source": [
    "We could also make it 1:30 p.m. _EST_:\n",
    "\n",
    "(Dealing with timezones in Python can be a huge pain, even for uncomplicated data, so it's usually easier to use a third-party library like [`maya`](https://github.com/kennethreitz/maya) or [`pytz`](http://pytz.sourceforge.net/) -- which we'll use here -- instead of manually calculating timezone offsets with a `datetime.timezone` object.)"
   ]
  },
  {
   "cell_type": "code",
   "execution_count": 8,
   "metadata": {},
   "outputs": [],
   "source": [
    "import pytz"
   ]
  },
  {
   "cell_type": "code",
   "execution_count": 12,
   "metadata": {},
   "outputs": [],
   "source": [
    "est = pytz.timezone('America/New_York')"
   ]
  },
  {
   "cell_type": "code",
   "execution_count": null,
   "metadata": {},
   "outputs": [],
   "source": [
    "# you can get a list of all available timezones by running this cell\n",
    "pytz.all_timezones"
   ]
  },
  {
   "cell_type": "code",
   "execution_count": 14,
   "metadata": {},
   "outputs": [],
   "source": [
    "our_datetime_with_tz = datetime(2018, 10, 7, 13, 30, tzinfo=est)"
   ]
  },
  {
   "cell_type": "code",
   "execution_count": 15,
   "metadata": {},
   "outputs": [
    {
     "name": "stdout",
     "output_type": "stream",
     "text": [
      "2018-10-07 13:30:00-04:56\n"
     ]
    }
   ],
   "source": [
    "print(our_datetime_with_tz)"
   ]
  },
  {
   "cell_type": "markdown",
   "metadata": {},
   "source": [
    "If you need to get the datetime of _now_ -- i.e., when the script is run -- you can use the handy method `now()`."
   ]
  },
  {
   "cell_type": "code",
   "execution_count": 23,
   "metadata": {},
   "outputs": [
    {
     "data": {
      "text/plain": [
       "datetime.datetime(2018, 8, 13, 14, 15, 45, 526915)"
      ]
     },
     "execution_count": 23,
     "metadata": {},
     "output_type": "execute_result"
    }
   ],
   "source": [
    "datetime.now()"
   ]
  },
  {
   "cell_type": "markdown",
   "metadata": {},
   "source": [
    "### Parsing dates and times from text\n",
    "\n",
    "Let's say we've got a list of dates stored as strings (a common thing), and we want to make them into dates for future analysis:"
   ]
  },
  {
   "cell_type": "code",
   "execution_count": 17,
   "metadata": {},
   "outputs": [],
   "source": [
    "our_dates = [\n",
    "    '2018-09-10',\n",
    "    '2018-10-30',\n",
    "    '2017-03-13',\n",
    "    '2000-01-02'\n",
    "]"
   ]
  },
  {
   "cell_type": "markdown",
   "metadata": {},
   "source": [
    "We can use datetime's `strptime` method for this. It expects two arguments:\n",
    "- The string to parse into a date\n",
    "- The _pattern_ of the dates\n",
    "\n",
    "In this case, the pattern is: four-digit year, dash, two-digit month, dash, two-digit day. According to the little [mini-language of directives](https://docs.python.org/3/library/datetime.html#strftime-and-strptime-behavior) used to represent each piece of a date, that translates to `'%Y-%m-%d'`.\n",
    "\n",
    "I can never remember these, so I have [strftime.org](http://strftime.org/) bookmarked as a reference, and I check it _all the time_."
   ]
  },
  {
   "cell_type": "code",
   "execution_count": 24,
   "metadata": {},
   "outputs": [
    {
     "name": "stdout",
     "output_type": "stream",
     "text": [
      "2018-09-10 00:00:00 <class 'datetime.datetime'>\n",
      "2018-10-30 00:00:00 <class 'datetime.datetime'>\n",
      "2017-03-13 00:00:00 <class 'datetime.datetime'>\n",
      "2000-01-02 00:00:00 <class 'datetime.datetime'>\n"
     ]
    }
   ],
   "source": [
    "for d in our_dates:\n",
    "    native_date = datetime.strptime(d, '%Y-%m-%d')\n",
    "    print(native_date, type(native_date))"
   ]
  },
  {
   "cell_type": "markdown",
   "metadata": {},
   "source": [
    "### Formatting dates as text\n",
    "\n",
    "You can use the `strftime` method to turn date objects into strings, formatted however you like and using the same mini-language of date directives we used with `strptime`. For these examples, we'll use the `our_date` variable."
   ]
  },
  {
   "cell_type": "code",
   "execution_count": 25,
   "metadata": {},
   "outputs": [
    {
     "data": {
      "text/plain": [
       "datetime.datetime(2018, 10, 7, 0, 0)"
      ]
     },
     "execution_count": 25,
     "metadata": {},
     "output_type": "execute_result"
    }
   ],
   "source": [
    "our_date"
   ]
  },
  {
   "cell_type": "code",
   "execution_count": 26,
   "metadata": {},
   "outputs": [
    {
     "data": {
      "text/plain": [
       "'2018-10-07'"
      ]
     },
     "execution_count": 26,
     "metadata": {},
     "output_type": "execute_result"
    }
   ],
   "source": [
    "our_date.strftime('%Y-%m-%d')"
   ]
  },
  {
   "cell_type": "code",
   "execution_count": 27,
   "metadata": {},
   "outputs": [
    {
     "data": {
      "text/plain": [
       "'10/07/2018'"
      ]
     },
     "execution_count": 27,
     "metadata": {},
     "output_type": "execute_result"
    }
   ],
   "source": [
    "our_date.strftime('%m/%d/%Y')"
   ]
  },
  {
   "cell_type": "code",
   "execution_count": 33,
   "metadata": {},
   "outputs": [
    {
     "data": {
      "text/plain": [
       "'It is Sunday, October 7, Year of our Lord 2018'"
      ]
     },
     "execution_count": 33,
     "metadata": {},
     "output_type": "execute_result"
    }
   ],
   "source": [
    "our_date.strftime('It is %A, %B %-d, Year of our Lord %Y')"
   ]
  },
  {
   "cell_type": "markdown",
   "metadata": {},
   "source": [
    "### Calculating the difference between two datetimes"
   ]
  },
  {
   "cell_type": "markdown",
   "metadata": {},
   "source": [
    "How old was each victim when they died? For each criminal case, how much time elapsed between the indictment and the sentencing? On average, how soon after the market-moving tweet did investors begin dumping stock in the company?\n",
    "\n",
    "\"Date diff\" questions like this show up all the time in newsrooms. If you're using Python to work with your data, you can use basic math to yield a [`datetime.timedelta`](https://docs.python.org/3/library/datetime.html#timedelta-objects) object and calculate the difference between two datetimes.\n",
    "\n",
    "(For more complex data, using a third-party library like [`dateutil`](https://github.com/dateutil/dateutil) would be worth your while.)\n",
    "\n",
    "But let's start with a simple example: How many minutes elapsed between two dates?"
   ]
  },
  {
   "cell_type": "code",
   "execution_count": 65,
   "metadata": {},
   "outputs": [],
   "source": [
    "datetime1 = datetime(2018, 10, 7, 13, 30)\n",
    "datetime2 = datetime(2018, 10, 7, 17, 45)"
   ]
  },
  {
   "cell_type": "code",
   "execution_count": 66,
   "metadata": {},
   "outputs": [
    {
     "data": {
      "text/plain": [
       "datetime.timedelta(seconds=15300)"
      ]
     },
     "execution_count": 66,
     "metadata": {},
     "output_type": "execute_result"
    }
   ],
   "source": [
    "datetime2 - datetime1"
   ]
  },
  {
   "cell_type": "markdown",
   "metadata": {},
   "source": [
    "We can access the `seconds` attribute of the `timedelta` object that gets returned from this math problem:"
   ]
  },
  {
   "cell_type": "code",
   "execution_count": 67,
   "metadata": {},
   "outputs": [
    {
     "name": "stdout",
     "output_type": "stream",
     "text": [
      "15300\n"
     ]
    }
   ],
   "source": [
    "elapsed_time = datetime2 - datetime1\n",
    "print(elapsed_time.seconds)"
   ]
  },
  {
   "cell_type": "markdown",
   "metadata": {},
   "source": [
    "... and if we want minutes, just divide by 60."
   ]
  },
  {
   "cell_type": "code",
   "execution_count": 68,
   "metadata": {},
   "outputs": [
    {
     "name": "stdout",
     "output_type": "stream",
     "text": [
      "255.0\n"
     ]
    }
   ],
   "source": [
    "print(elapsed_time.seconds / 60)"
   ]
  },
  {
   "cell_type": "markdown",
   "metadata": {},
   "source": [
    "`timedelta` objects are also useful for \"what was the date 160 days ago\"-type problems:"
   ]
  },
  {
   "cell_type": "code",
   "execution_count": 70,
   "metadata": {},
   "outputs": [
    {
     "name": "stdout",
     "output_type": "stream",
     "text": [
      "2017-12-08 14:46:51.410051\n"
     ]
    }
   ],
   "source": [
    "from datetime import timedelta\n",
    "\n",
    "rn = datetime.now()\n",
    "date_248_days_ago = rn - timedelta(days=248)\n",
    "\n",
    "print(date_248_days_ago)"
   ]
  },
  {
   "cell_type": "code",
   "execution_count": 71,
   "metadata": {},
   "outputs": [
    {
     "data": {
      "text/plain": [
       "datetime.datetime(2018, 7, 30, 14, 46, 51, 410051)"
      ]
     },
     "execution_count": 71,
     "metadata": {},
     "output_type": "execute_result"
    }
   ],
   "source": [
    "# two weeks ago\n",
    "rn - timedelta(weeks=2)"
   ]
  },
  {
   "cell_type": "code",
   "execution_count": 72,
   "metadata": {},
   "outputs": [
    {
     "data": {
      "text/plain": [
       "datetime.datetime(2018, 8, 12, 13, 57, 9, 410051)"
      ]
     },
     "execution_count": 72,
     "metadata": {},
     "output_type": "execute_result"
    }
   ],
   "source": [
    "# 89382 seconds ago\n",
    "rn - timedelta(seconds=89382)"
   ]
  },
  {
   "cell_type": "markdown",
   "metadata": {},
   "source": [
    "Date math can get a little complicated (time zones! leap years! birthdays!), but if you get stuck it's probable that someone on the Internet has solved your problem already."
   ]
  },
  {
   "cell_type": "markdown",
   "metadata": {},
   "source": [
    "### Working with dates in pandas\n",
    "\n",
    "Let's take a look at a couple of things you might want to do when working with dates in pandas: Parsing values as dates when you _import_ the data into a dataframe, and coercing _existing_ data to dates.\n",
    "\n",
    "Let's import pandas and load up some congressional junkets data (`../data/congress_junkets.csv`) with date values in two of the columns (`DepartureDate` and `ReturnDate`).\n",
    "\n",
    "We're going to specify the [`parse_dates`](https://pandas.pydata.org/pandas-docs/stable/generated/pandas.read_csv.html) argument when we call the `read_csv()` function -- we'll hand this keyword argument a _list_ of columns to parse as dates."
   ]
  },
  {
   "cell_type": "code",
   "execution_count": 74,
   "metadata": {},
   "outputs": [],
   "source": [
    "import pandas as pd"
   ]
  },
  {
   "cell_type": "code",
   "execution_count": 77,
   "metadata": {},
   "outputs": [],
   "source": [
    "df = pd.read_csv('../data/congress_junkets.csv',\n",
    "                 parse_dates=['DepartureDate', 'ReturnDate'])"
   ]
  },
  {
   "cell_type": "code",
   "execution_count": 78,
   "metadata": {},
   "outputs": [
    {
     "data": {
      "text/html": [
       "<div>\n",
       "<style scoped>\n",
       "    .dataframe tbody tr th:only-of-type {\n",
       "        vertical-align: middle;\n",
       "    }\n",
       "\n",
       "    .dataframe tbody tr th {\n",
       "        vertical-align: top;\n",
       "    }\n",
       "\n",
       "    .dataframe thead th {\n",
       "        text-align: right;\n",
       "    }\n",
       "</style>\n",
       "<table border=\"1\" class=\"dataframe\">\n",
       "  <thead>\n",
       "    <tr style=\"text-align: right;\">\n",
       "      <th></th>\n",
       "      <th>DocID</th>\n",
       "      <th>FilerName</th>\n",
       "      <th>MemberName</th>\n",
       "      <th>State</th>\n",
       "      <th>District</th>\n",
       "      <th>Year</th>\n",
       "      <th>Destination</th>\n",
       "      <th>FilingType</th>\n",
       "      <th>DepartureDate</th>\n",
       "      <th>ReturnDate</th>\n",
       "      <th>TravelSponsor</th>\n",
       "    </tr>\n",
       "  </thead>\n",
       "  <tbody>\n",
       "    <tr>\n",
       "      <th>0</th>\n",
       "      <td>500005076</td>\n",
       "      <td>Bobby Cornett</td>\n",
       "      <td>Franks, Trent</td>\n",
       "      <td>AZ</td>\n",
       "      <td>8.0</td>\n",
       "      <td>2011</td>\n",
       "      <td>Las Vegas, NV</td>\n",
       "      <td>Original</td>\n",
       "      <td>2011-01-07</td>\n",
       "      <td>2011-01-09</td>\n",
       "      <td>Consumer Electronics Association</td>\n",
       "    </tr>\n",
       "    <tr>\n",
       "      <th>1</th>\n",
       "      <td>500005077</td>\n",
       "      <td>Michael Strittmatter</td>\n",
       "      <td>Franks, Trent</td>\n",
       "      <td>AZ</td>\n",
       "      <td>8.0</td>\n",
       "      <td>2011</td>\n",
       "      <td>Las Vegas, NV</td>\n",
       "      <td>Original</td>\n",
       "      <td>2011-01-07</td>\n",
       "      <td>2011-01-09</td>\n",
       "      <td>CEA Leaders in Technology</td>\n",
       "    </tr>\n",
       "    <tr>\n",
       "      <th>2</th>\n",
       "      <td>500005081</td>\n",
       "      <td>Diane Rinaldo</td>\n",
       "      <td>Rogers, Mike</td>\n",
       "      <td>AL</td>\n",
       "      <td>3.0</td>\n",
       "      <td>2011</td>\n",
       "      <td>Las Vegas, NV</td>\n",
       "      <td>Original</td>\n",
       "      <td>2011-01-06</td>\n",
       "      <td>2011-01-08</td>\n",
       "      <td>Consumer Electronics Association</td>\n",
       "    </tr>\n",
       "    <tr>\n",
       "      <th>3</th>\n",
       "      <td>500005082</td>\n",
       "      <td>Kenneth DeGraff</td>\n",
       "      <td>Doyle, Michael</td>\n",
       "      <td>PA</td>\n",
       "      <td>14.0</td>\n",
       "      <td>2011</td>\n",
       "      <td>Las Vegas, NV</td>\n",
       "      <td>Original</td>\n",
       "      <td>2011-01-06</td>\n",
       "      <td>2011-01-09</td>\n",
       "      <td>Consumer Electronics Association</td>\n",
       "    </tr>\n",
       "    <tr>\n",
       "      <th>4</th>\n",
       "      <td>500005083</td>\n",
       "      <td>Michael Ryan Clough</td>\n",
       "      <td>Lofgren, Zoe</td>\n",
       "      <td>CA</td>\n",
       "      <td>19.0</td>\n",
       "      <td>2011</td>\n",
       "      <td>Las Vegas, NV</td>\n",
       "      <td>Original</td>\n",
       "      <td>2011-01-06</td>\n",
       "      <td>2011-01-08</td>\n",
       "      <td>Consumer Electronics Association</td>\n",
       "    </tr>\n",
       "  </tbody>\n",
       "</table>\n",
       "</div>"
      ],
      "text/plain": [
       "       DocID             FilerName      MemberName State  District  Year  \\\n",
       "0  500005076         Bobby Cornett   Franks, Trent    AZ       8.0  2011   \n",
       "1  500005077  Michael Strittmatter   Franks, Trent    AZ       8.0  2011   \n",
       "2  500005081         Diane Rinaldo    Rogers, Mike    AL       3.0  2011   \n",
       "3  500005082       Kenneth DeGraff  Doyle, Michael    PA      14.0  2011   \n",
       "4  500005083   Michael Ryan Clough    Lofgren, Zoe    CA      19.0  2011   \n",
       "\n",
       "     Destination FilingType DepartureDate ReturnDate  \\\n",
       "0  Las Vegas, NV   Original    2011-01-07 2011-01-09   \n",
       "1  Las Vegas, NV   Original    2011-01-07 2011-01-09   \n",
       "2  Las Vegas, NV   Original    2011-01-06 2011-01-08   \n",
       "3  Las Vegas, NV   Original    2011-01-06 2011-01-09   \n",
       "4  Las Vegas, NV   Original    2011-01-06 2011-01-08   \n",
       "\n",
       "                      TravelSponsor  \n",
       "0  Consumer Electronics Association  \n",
       "1         CEA Leaders in Technology  \n",
       "2  Consumer Electronics Association  \n",
       "3  Consumer Electronics Association  \n",
       "4  Consumer Electronics Association  "
      ]
     },
     "execution_count": 78,
     "metadata": {},
     "output_type": "execute_result"
    }
   ],
   "source": [
    "df.head()"
   ]
  },
  {
   "cell_type": "markdown",
   "metadata": {},
   "source": [
    "This method can be slow if you have a lot of data; one way to speed it up is to supply pandas with the correct date format using the specification language mentioned above ([here's an example from StackOverflow](https://stackoverflow.com/questions/23797491/parse-dates-in-pandas)).\n",
    "\n",
    "We'll use a [lambda expression](Functions.ipynb#Lambda-expressions) here for brevity, but you can also define a new function and pass that in as the `date_parser` argument, as well."
   ]
  },
  {
   "cell_type": "code",
   "execution_count": 79,
   "metadata": {},
   "outputs": [],
   "source": [
    "df = pd.read_csv('../data/congress_junkets.csv',\n",
    "                 parse_dates=['DepartureDate', 'ReturnDate'],\n",
    "                 date_parser=lambda x: pd.datetime.strptime(x, '%m/%d/%Y'))"
   ]
  },
  {
   "cell_type": "markdown",
   "metadata": {},
   "source": [
    "Much quicker. We can verify that the column is now a date column by checking the data frame's `dtypes` attribute:"
   ]
  },
  {
   "cell_type": "code",
   "execution_count": 80,
   "metadata": {},
   "outputs": [
    {
     "data": {
      "text/plain": [
       "DocID                     int64\n",
       "FilerName                object\n",
       "MemberName               object\n",
       "State                    object\n",
       "District                float64\n",
       "Year                      int64\n",
       "Destination              object\n",
       "FilingType               object\n",
       "DepartureDate    datetime64[ns]\n",
       "ReturnDate       datetime64[ns]\n",
       "TravelSponsor            object\n",
       "dtype: object"
      ]
     },
     "execution_count": 80,
     "metadata": {},
     "output_type": "execute_result"
    }
   ],
   "source": [
    "df.dtypes"
   ]
  },
  {
   "cell_type": "markdown",
   "metadata": {},
   "source": [
    "Sometimes, for Reasons™️, it makes more sense to do the conversion after you've loaded your data. Let's use the same data but do the conversion _after_ it's in the dataframe."
   ]
  },
  {
   "cell_type": "code",
   "execution_count": 81,
   "metadata": {},
   "outputs": [],
   "source": [
    "df = pd.read_csv('../data/congress_junkets.csv')"
   ]
  },
  {
   "cell_type": "code",
   "execution_count": 82,
   "metadata": {},
   "outputs": [
    {
     "data": {
      "text/html": [
       "<div>\n",
       "<style scoped>\n",
       "    .dataframe tbody tr th:only-of-type {\n",
       "        vertical-align: middle;\n",
       "    }\n",
       "\n",
       "    .dataframe tbody tr th {\n",
       "        vertical-align: top;\n",
       "    }\n",
       "\n",
       "    .dataframe thead th {\n",
       "        text-align: right;\n",
       "    }\n",
       "</style>\n",
       "<table border=\"1\" class=\"dataframe\">\n",
       "  <thead>\n",
       "    <tr style=\"text-align: right;\">\n",
       "      <th></th>\n",
       "      <th>DocID</th>\n",
       "      <th>FilerName</th>\n",
       "      <th>MemberName</th>\n",
       "      <th>State</th>\n",
       "      <th>District</th>\n",
       "      <th>Year</th>\n",
       "      <th>Destination</th>\n",
       "      <th>FilingType</th>\n",
       "      <th>DepartureDate</th>\n",
       "      <th>ReturnDate</th>\n",
       "      <th>TravelSponsor</th>\n",
       "    </tr>\n",
       "  </thead>\n",
       "  <tbody>\n",
       "    <tr>\n",
       "      <th>0</th>\n",
       "      <td>500005076</td>\n",
       "      <td>Bobby Cornett</td>\n",
       "      <td>Franks, Trent</td>\n",
       "      <td>AZ</td>\n",
       "      <td>8.0</td>\n",
       "      <td>2011</td>\n",
       "      <td>Las Vegas, NV</td>\n",
       "      <td>Original</td>\n",
       "      <td>1/7/2011</td>\n",
       "      <td>1/9/2011</td>\n",
       "      <td>Consumer Electronics Association</td>\n",
       "    </tr>\n",
       "    <tr>\n",
       "      <th>1</th>\n",
       "      <td>500005077</td>\n",
       "      <td>Michael Strittmatter</td>\n",
       "      <td>Franks, Trent</td>\n",
       "      <td>AZ</td>\n",
       "      <td>8.0</td>\n",
       "      <td>2011</td>\n",
       "      <td>Las Vegas, NV</td>\n",
       "      <td>Original</td>\n",
       "      <td>1/7/2011</td>\n",
       "      <td>1/9/2011</td>\n",
       "      <td>CEA Leaders in Technology</td>\n",
       "    </tr>\n",
       "    <tr>\n",
       "      <th>2</th>\n",
       "      <td>500005081</td>\n",
       "      <td>Diane Rinaldo</td>\n",
       "      <td>Rogers, Mike</td>\n",
       "      <td>AL</td>\n",
       "      <td>3.0</td>\n",
       "      <td>2011</td>\n",
       "      <td>Las Vegas, NV</td>\n",
       "      <td>Original</td>\n",
       "      <td>1/6/2011</td>\n",
       "      <td>1/8/2011</td>\n",
       "      <td>Consumer Electronics Association</td>\n",
       "    </tr>\n",
       "    <tr>\n",
       "      <th>3</th>\n",
       "      <td>500005082</td>\n",
       "      <td>Kenneth DeGraff</td>\n",
       "      <td>Doyle, Michael</td>\n",
       "      <td>PA</td>\n",
       "      <td>14.0</td>\n",
       "      <td>2011</td>\n",
       "      <td>Las Vegas, NV</td>\n",
       "      <td>Original</td>\n",
       "      <td>1/6/2011</td>\n",
       "      <td>1/9/2011</td>\n",
       "      <td>Consumer Electronics Association</td>\n",
       "    </tr>\n",
       "    <tr>\n",
       "      <th>4</th>\n",
       "      <td>500005083</td>\n",
       "      <td>Michael Ryan Clough</td>\n",
       "      <td>Lofgren, Zoe</td>\n",
       "      <td>CA</td>\n",
       "      <td>19.0</td>\n",
       "      <td>2011</td>\n",
       "      <td>Las Vegas, NV</td>\n",
       "      <td>Original</td>\n",
       "      <td>1/6/2011</td>\n",
       "      <td>1/8/2011</td>\n",
       "      <td>Consumer Electronics Association</td>\n",
       "    </tr>\n",
       "  </tbody>\n",
       "</table>\n",
       "</div>"
      ],
      "text/plain": [
       "       DocID             FilerName      MemberName State  District  Year  \\\n",
       "0  500005076         Bobby Cornett   Franks, Trent    AZ       8.0  2011   \n",
       "1  500005077  Michael Strittmatter   Franks, Trent    AZ       8.0  2011   \n",
       "2  500005081         Diane Rinaldo    Rogers, Mike    AL       3.0  2011   \n",
       "3  500005082       Kenneth DeGraff  Doyle, Michael    PA      14.0  2011   \n",
       "4  500005083   Michael Ryan Clough    Lofgren, Zoe    CA      19.0  2011   \n",
       "\n",
       "     Destination FilingType DepartureDate ReturnDate  \\\n",
       "0  Las Vegas, NV   Original      1/7/2011   1/9/2011   \n",
       "1  Las Vegas, NV   Original      1/7/2011   1/9/2011   \n",
       "2  Las Vegas, NV   Original      1/6/2011   1/8/2011   \n",
       "3  Las Vegas, NV   Original      1/6/2011   1/9/2011   \n",
       "4  Las Vegas, NV   Original      1/6/2011   1/8/2011   \n",
       "\n",
       "                      TravelSponsor  \n",
       "0  Consumer Electronics Association  \n",
       "1         CEA Leaders in Technology  \n",
       "2  Consumer Electronics Association  \n",
       "3  Consumer Electronics Association  \n",
       "4  Consumer Electronics Association  "
      ]
     },
     "execution_count": 82,
     "metadata": {},
     "output_type": "execute_result"
    }
   ],
   "source": [
    "df.head()"
   ]
  },
  {
   "cell_type": "markdown",
   "metadata": {},
   "source": [
    "To do this, we'll create a new column for each date with the `to_datetime()` method. We'll hand it three things:\n",
    "- The column to convert to a datetime\n",
    "- The expected `format` of the dates (m/d/y, in this case)\n",
    "- What to do if the parser runs into an error -- instead of throwing an error, we'll `coerce` (errors will become `NaN`)"
   ]
  },
  {
   "cell_type": "code",
   "execution_count": 93,
   "metadata": {},
   "outputs": [],
   "source": [
    "df['departure_date_new'] = pd.to_datetime(df['DepartureDate'],\n",
    "                                          format='%m/%d/%Y',\n",
    "                                          errors='coerce')\n",
    "\n",
    "df['return_date_new'] = pd.to_datetime(df['ReturnDate'],\n",
    "                                       format='%m/%d/%Y',\n",
    "                                       errors='coerce')"
   ]
  },
  {
   "cell_type": "code",
   "execution_count": 91,
   "metadata": {},
   "outputs": [
    {
     "data": {
      "text/html": [
       "<div>\n",
       "<style scoped>\n",
       "    .dataframe tbody tr th:only-of-type {\n",
       "        vertical-align: middle;\n",
       "    }\n",
       "\n",
       "    .dataframe tbody tr th {\n",
       "        vertical-align: top;\n",
       "    }\n",
       "\n",
       "    .dataframe thead th {\n",
       "        text-align: right;\n",
       "    }\n",
       "</style>\n",
       "<table border=\"1\" class=\"dataframe\">\n",
       "  <thead>\n",
       "    <tr style=\"text-align: right;\">\n",
       "      <th></th>\n",
       "      <th>DocID</th>\n",
       "      <th>FilerName</th>\n",
       "      <th>MemberName</th>\n",
       "      <th>State</th>\n",
       "      <th>District</th>\n",
       "      <th>Year</th>\n",
       "      <th>Destination</th>\n",
       "      <th>FilingType</th>\n",
       "      <th>DepartureDate</th>\n",
       "      <th>ReturnDate</th>\n",
       "      <th>TravelSponsor</th>\n",
       "      <th>departure_date_new</th>\n",
       "      <th>return_date_new</th>\n",
       "    </tr>\n",
       "  </thead>\n",
       "  <tbody>\n",
       "    <tr>\n",
       "      <th>0</th>\n",
       "      <td>500005076</td>\n",
       "      <td>Bobby Cornett</td>\n",
       "      <td>Franks, Trent</td>\n",
       "      <td>AZ</td>\n",
       "      <td>8.0</td>\n",
       "      <td>2011</td>\n",
       "      <td>Las Vegas, NV</td>\n",
       "      <td>Original</td>\n",
       "      <td>1/7/2011</td>\n",
       "      <td>1/9/2011</td>\n",
       "      <td>Consumer Electronics Association</td>\n",
       "      <td>2011-01-07</td>\n",
       "      <td>2011-01-09</td>\n",
       "    </tr>\n",
       "    <tr>\n",
       "      <th>1</th>\n",
       "      <td>500005077</td>\n",
       "      <td>Michael Strittmatter</td>\n",
       "      <td>Franks, Trent</td>\n",
       "      <td>AZ</td>\n",
       "      <td>8.0</td>\n",
       "      <td>2011</td>\n",
       "      <td>Las Vegas, NV</td>\n",
       "      <td>Original</td>\n",
       "      <td>1/7/2011</td>\n",
       "      <td>1/9/2011</td>\n",
       "      <td>CEA Leaders in Technology</td>\n",
       "      <td>2011-01-07</td>\n",
       "      <td>2011-01-09</td>\n",
       "    </tr>\n",
       "    <tr>\n",
       "      <th>2</th>\n",
       "      <td>500005081</td>\n",
       "      <td>Diane Rinaldo</td>\n",
       "      <td>Rogers, Mike</td>\n",
       "      <td>AL</td>\n",
       "      <td>3.0</td>\n",
       "      <td>2011</td>\n",
       "      <td>Las Vegas, NV</td>\n",
       "      <td>Original</td>\n",
       "      <td>1/6/2011</td>\n",
       "      <td>1/8/2011</td>\n",
       "      <td>Consumer Electronics Association</td>\n",
       "      <td>2011-01-06</td>\n",
       "      <td>2011-01-08</td>\n",
       "    </tr>\n",
       "    <tr>\n",
       "      <th>3</th>\n",
       "      <td>500005082</td>\n",
       "      <td>Kenneth DeGraff</td>\n",
       "      <td>Doyle, Michael</td>\n",
       "      <td>PA</td>\n",
       "      <td>14.0</td>\n",
       "      <td>2011</td>\n",
       "      <td>Las Vegas, NV</td>\n",
       "      <td>Original</td>\n",
       "      <td>1/6/2011</td>\n",
       "      <td>1/9/2011</td>\n",
       "      <td>Consumer Electronics Association</td>\n",
       "      <td>2011-01-06</td>\n",
       "      <td>2011-01-09</td>\n",
       "    </tr>\n",
       "    <tr>\n",
       "      <th>4</th>\n",
       "      <td>500005083</td>\n",
       "      <td>Michael Ryan Clough</td>\n",
       "      <td>Lofgren, Zoe</td>\n",
       "      <td>CA</td>\n",
       "      <td>19.0</td>\n",
       "      <td>2011</td>\n",
       "      <td>Las Vegas, NV</td>\n",
       "      <td>Original</td>\n",
       "      <td>1/6/2011</td>\n",
       "      <td>1/8/2011</td>\n",
       "      <td>Consumer Electronics Association</td>\n",
       "      <td>2011-01-06</td>\n",
       "      <td>2011-01-08</td>\n",
       "    </tr>\n",
       "  </tbody>\n",
       "</table>\n",
       "</div>"
      ],
      "text/plain": [
       "       DocID             FilerName      MemberName State  District  Year  \\\n",
       "0  500005076         Bobby Cornett   Franks, Trent    AZ       8.0  2011   \n",
       "1  500005077  Michael Strittmatter   Franks, Trent    AZ       8.0  2011   \n",
       "2  500005081         Diane Rinaldo    Rogers, Mike    AL       3.0  2011   \n",
       "3  500005082       Kenneth DeGraff  Doyle, Michael    PA      14.0  2011   \n",
       "4  500005083   Michael Ryan Clough    Lofgren, Zoe    CA      19.0  2011   \n",
       "\n",
       "     Destination FilingType DepartureDate ReturnDate  \\\n",
       "0  Las Vegas, NV   Original      1/7/2011   1/9/2011   \n",
       "1  Las Vegas, NV   Original      1/7/2011   1/9/2011   \n",
       "2  Las Vegas, NV   Original      1/6/2011   1/8/2011   \n",
       "3  Las Vegas, NV   Original      1/6/2011   1/9/2011   \n",
       "4  Las Vegas, NV   Original      1/6/2011   1/8/2011   \n",
       "\n",
       "                      TravelSponsor departure_date_new return_date_new  \n",
       "0  Consumer Electronics Association         2011-01-07      2011-01-09  \n",
       "1         CEA Leaders in Technology         2011-01-07      2011-01-09  \n",
       "2  Consumer Electronics Association         2011-01-06      2011-01-08  \n",
       "3  Consumer Electronics Association         2011-01-06      2011-01-09  \n",
       "4  Consumer Electronics Association         2011-01-06      2011-01-08  "
      ]
     },
     "execution_count": 91,
     "metadata": {},
     "output_type": "execute_result"
    }
   ],
   "source": [
    "df.head()"
   ]
  }
 ],
 "metadata": {
  "kernelspec": {
   "display_name": "Python 3",
   "language": "python",
   "name": "python3"
  },
  "language_info": {
   "codemirror_mode": {
    "name": "ipython",
    "version": 3
   },
   "file_extension": ".py",
   "mimetype": "text/x-python",
   "name": "python",
   "nbconvert_exporter": "python",
   "pygments_lexer": "ipython3",
   "version": "3.7.0"
  }
 },
 "nbformat": 4,
 "nbformat_minor": 2
}
