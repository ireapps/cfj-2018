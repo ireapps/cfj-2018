{
 "cells": [
  {
   "cell_type": "markdown",
   "metadata": {},
   "source": [
    "# Functions\n",
    "\n",
    "If you find yourself doing the same thing over and over again in your code, it might be time to write a function.\n",
    "\n",
    "Functions are blocks of reusable code -- little boxes that (usually) take inputs and return outputs. In Excel, `=SUM()` is a function. `print()` is one of Python's built-in function.\n",
    "\n",
    "You can also _define your own functions_. This can save you some typing, and it will help separate your code into logical, easy-to-read pieces."
   ]
  },
  {
   "cell_type": "markdown",
   "metadata": {},
   "source": [
    "### Syntax\n",
    "\n",
    "Functions start with the `def` keyword -- short for _define_, because you're defining a function -- then the name of the function, then parentheses (sometimes with the names of any `arguments` your function requires inside the parentheses) and then a colon. The function's code sits inside an indented block immediately below that line. In most cases, a function will `return` a value at the end.\n",
    "\n",
    "Here is a function that takes a number and returns that number multiplied by 10:"
   ]
  },
  {
   "cell_type": "code",
   "execution_count": 2,
   "metadata": {},
   "outputs": [],
   "source": [
    "def times_ten(number):\n",
    "    return number * 10"
   ]
  },
  {
   "cell_type": "markdown",
   "metadata": {},
   "source": [
    "The `number` variable is just a placeholder for the values we're going to hand the function as input. We could have called that argument name \"banana\" and things would be just fine, though it would be confusing for people reading your code."
   ]
  },
  {
   "cell_type": "markdown",
   "metadata": {},
   "source": [
    "### Calling a function\n",
    "\n",
    "By itself, a function doesn't do anything. We have built a tiny machine to multiply a number by 10. But it's just sitting on the workshop bench, waiting for us to use it.\n",
    "\n",
    "Let's use it."
   ]
  },
  {
   "cell_type": "code",
   "execution_count": 3,
   "metadata": {},
   "outputs": [
    {
     "name": "stdout",
     "output_type": "stream",
     "text": [
      "20\n"
     ]
    }
   ],
   "source": [
    "two_times_10 = times_ten(2)\n",
    "print(two_times_10)"
   ]
  },
  {
   "cell_type": "markdown",
   "metadata": {},
   "source": [
    "### Arguments\n",
    "\n",
    "Functions can accept _positional_ arguments or _keyword_ arguments.\n",
    "\n",
    "If your function uses _positional_ arguments, the order in which you pass arguments to the function matters. Here is a function that prints out a message based on its input (a person's name and their hometown)."
   ]
  },
  {
   "cell_type": "code",
   "execution_count": 4,
   "metadata": {},
   "outputs": [],
   "source": [
    "def greet(name, hometown):\n",
    "    return f'Hello, {name} from {hometown}!'"
   ]
  },
  {
   "cell_type": "markdown",
   "metadata": {},
   "source": [
    "Now let's call it."
   ]
  },
  {
   "cell_type": "code",
   "execution_count": 5,
   "metadata": {},
   "outputs": [
    {
     "name": "stdout",
     "output_type": "stream",
     "text": [
      "Hello, Cody from Pavillion, WY!\n"
     ]
    }
   ],
   "source": [
    "print(greet('Cody', 'Pavillion, WY'))"
   ]
  },
  {
   "cell_type": "markdown",
   "metadata": {},
   "source": [
    "If we change the order of the arguments, nonsense ensues."
   ]
  },
  {
   "cell_type": "code",
   "execution_count": 6,
   "metadata": {},
   "outputs": [
    {
     "name": "stdout",
     "output_type": "stream",
     "text": [
      "Hello, Pavillion, WY from Cody!\n"
     ]
    }
   ],
   "source": [
    "print(greet('Pavillion, WY', 'Cody'))"
   ]
  },
  {
   "cell_type": "markdown",
   "metadata": {},
   "source": [
    "Using _keyword_ arguments requires us to specify what value belongs to what argument, and it allows us to set a default value for the argument -- values that the function will use if you fail to pass any arguments when you call it. We could rewrite our function like this:"
   ]
  },
  {
   "cell_type": "code",
   "execution_count": 12,
   "metadata": {},
   "outputs": [],
   "source": [
    "def greet(name='Cody', hometown='Pavillion, WY'):\n",
    "    return f'Hello, {name} from {hometown}!'"
   ]
  },
  {
   "cell_type": "markdown",
   "metadata": {},
   "source": [
    "And now it doesn't matter what order we pass in the arguments, because we're defining the keyword that they belong to:"
   ]
  },
  {
   "cell_type": "code",
   "execution_count": 15,
   "metadata": {},
   "outputs": [
    {
     "name": "stdout",
     "output_type": "stream",
     "text": [
      "Hello, Jacob from Pittsburgh, PA!\n"
     ]
    }
   ],
   "source": [
    "print(greet(hometown='Pittsburgh, PA', name='Jacob'))"
   ]
  },
  {
   "cell_type": "markdown",
   "metadata": {},
   "source": [
    "What happens if we call the `greet()` function without any arguments at all, now? It'll use the default arguments."
   ]
  },
  {
   "cell_type": "code",
   "execution_count": 14,
   "metadata": {},
   "outputs": [
    {
     "name": "stdout",
     "output_type": "stream",
     "text": [
      "Hello, Cody from Pavillion, WY!\n"
     ]
    }
   ],
   "source": [
    "print(greet())"
   ]
  },
  {
   "cell_type": "markdown",
   "metadata": {},
   "source": [
    "### Lambda expressions\n",
    "\n",
    "Sometimes, you'll see code that looks like this:\n",
    "\n",
    "```python\n",
    "df['new_column'] = df['old_column'].apply(lambda x: x[0])\n",
    "```\n",
    "\n",
    "That stuff inside the `apply()` parentheses? That's called a [_lambda expression_](https://docs.python.org/3/tutorial/controlflow.html#lambda-expressions), a time-saving way to turn loose a simple function on some values without having to write out a function with `def`. (It's a Python thing, not specific to pandas, but for our purposes that's probably where you'll see them most often.)\n",
    "\n",
    "This code is equivalent but takes longer to write:\n",
    "\n",
    "```python\n",
    "def take_first_char(value):\n",
    "    return value[0]\n",
    "    \n",
    "df['new_column'] = df['old_column'].apply(take_first_char)\n",
    "```\n",
    "\n"
   ]
  },
  {
   "cell_type": "markdown",
   "metadata": {},
   "source": [
    "### More resources\n",
    "\n",
    "- [TutorialsPoint post on functions](https://www.tutorialspoint.com/python/python_functions.htm)\n",
    "- [LearnPython tutorial](https://www.learnpython.org/en/Functions)\n",
    "- [Software Carpentry tutorial](https://swcarpentry.github.io/python-novice-inflammation/06-func/)\n",
    "- [Hitchhiker's Guide to Python: Function Arguments](http://docs.python-guide.org/en/latest/writing/style/#function-arguments)"
   ]
  }
 ],
 "metadata": {
  "kernelspec": {
   "display_name": "Python 3",
   "language": "python",
   "name": "python3"
  },
  "language_info": {
   "codemirror_mode": {
    "name": "ipython",
    "version": 3
   },
   "file_extension": ".py",
   "mimetype": "text/x-python",
   "name": "python",
   "nbconvert_exporter": "python",
   "pygments_lexer": "ipython3",
   "version": "3.7.0"
  }
 },
 "nbformat": 4,
 "nbformat_minor": 2
}
